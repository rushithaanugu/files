{
 "cells": [
  {
   "cell_type": "markdown",
   "id": "fc21c1d2",
   "metadata": {},
   "source": [
    "# Group-9 || Natural Language Processing"
   ]
  },
  {
   "cell_type": "markdown",
   "id": "5dc70398",
   "metadata": {},
   "source": [
    "# Importing Libraries:"
   ]
  },
  {
   "cell_type": "code",
   "execution_count": 11,
   "id": "47fe2817",
   "metadata": {},
   "outputs": [
    {
     "data": {
      "text/html": [
       "<div>\n",
       "<style scoped>\n",
       "    .dataframe tbody tr th:only-of-type {\n",
       "        vertical-align: middle;\n",
       "    }\n",
       "\n",
       "    .dataframe tbody tr th {\n",
       "        vertical-align: top;\n",
       "    }\n",
       "\n",
       "    .dataframe thead th {\n",
       "        text-align: right;\n",
       "    }\n",
       "</style>\n",
       "<table border=\"1\" class=\"dataframe\">\n",
       "  <thead>\n",
       "    <tr style=\"text-align: right;\">\n",
       "      <th></th>\n",
       "      <th>Unnamed: 0</th>\n",
       "      <th>Date</th>\n",
       "      <th>User</th>\n",
       "      <th>Tweet</th>\n",
       "      <th>Likes</th>\n",
       "      <th>Retweets</th>\n",
       "    </tr>\n",
       "  </thead>\n",
       "  <tbody>\n",
       "    <tr>\n",
       "      <th>0</th>\n",
       "      <td>0</td>\n",
       "      <td>2023-03-29 15:42:36+00:00</td>\n",
       "      <td>AnandPatni8</td>\n",
       "      <td>@vinodkapri @RahulGandhi Respected Indian Citi...</td>\n",
       "      <td>0.0</td>\n",
       "      <td>0.0</td>\n",
       "    </tr>\n",
       "    <tr>\n",
       "      <th>1</th>\n",
       "      <td>1</td>\n",
       "      <td>2023-03-29 15:42:05+00:00</td>\n",
       "      <td>dhinamum</td>\n",
       "      <td>*Respected Indian Citizens,* Namaskaar I Am Th...</td>\n",
       "      <td>0.0</td>\n",
       "      <td>0.0</td>\n",
       "    </tr>\n",
       "    <tr>\n",
       "      <th>2</th>\n",
       "      <td>2</td>\n",
       "      <td>2023-03-29 15:34:29+00:00</td>\n",
       "      <td>PrincetonCGI</td>\n",
       "      <td>1/n-Meet Filmmaker Prakash Jha in New Jersey t...</td>\n",
       "      <td>0.0</td>\n",
       "      <td>0.0</td>\n",
       "    </tr>\n",
       "    <tr>\n",
       "      <th>3</th>\n",
       "      <td>3</td>\n",
       "      <td>2023-03-29 15:31:43+00:00</td>\n",
       "      <td>RishiJoeSanu</td>\n",
       "      <td>@MrinalWahal Why would politicians stop using ...</td>\n",
       "      <td>0.0</td>\n",
       "      <td>0.0</td>\n",
       "    </tr>\n",
       "    <tr>\n",
       "      <th>4</th>\n",
       "      <td>4</td>\n",
       "      <td>2023-03-29 15:26:48+00:00</td>\n",
       "      <td>itweetsensee</td>\n",
       "      <td>@annamalai_k @narendramodi A state level presi...</td>\n",
       "      <td>0.0</td>\n",
       "      <td>0.0</td>\n",
       "    </tr>\n",
       "    <tr>\n",
       "      <th>5</th>\n",
       "      <td>5</td>\n",
       "      <td>2023-03-29 15:21:29+00:00</td>\n",
       "      <td>FreeMindKeenEye</td>\n",
       "      <td>@IAMCouncil @POTUS @Ilhan @bridgeinit OK this ...</td>\n",
       "      <td>0.0</td>\n",
       "      <td>0.0</td>\n",
       "    </tr>\n",
       "    <tr>\n",
       "      <th>6</th>\n",
       "      <td>6</td>\n",
       "      <td>2023-03-29 15:20:41+00:00</td>\n",
       "      <td>SamsSamsson6</td>\n",
       "      <td>@darrengrimes_ Why are pakistani /indian dual ...</td>\n",
       "      <td>0.0</td>\n",
       "      <td>0.0</td>\n",
       "    </tr>\n",
       "    <tr>\n",
       "      <th>7</th>\n",
       "      <td>7</td>\n",
       "      <td>2023-03-29 15:20:16+00:00</td>\n",
       "      <td>SamsSamsson6</td>\n",
       "      <td>@PeterStefanovi2 Why are pakistani /indian dua...</td>\n",
       "      <td>0.0</td>\n",
       "      <td>0.0</td>\n",
       "    </tr>\n",
       "    <tr>\n",
       "      <th>8</th>\n",
       "      <td>8</td>\n",
       "      <td>2023-03-29 15:19:44+00:00</td>\n",
       "      <td>SamsSamsson6</td>\n",
       "      <td>Why are pakistani /indian dual nationals allow...</td>\n",
       "      <td>0.0</td>\n",
       "      <td>0.0</td>\n",
       "    </tr>\n",
       "    <tr>\n",
       "      <th>9</th>\n",
       "      <td>9</td>\n",
       "      <td>2023-03-29 15:19:32+00:00</td>\n",
       "      <td>ncsukumar1</td>\n",
       "      <td>@BesuraTaansane @KartiPC @PChidambaram_IN The ...</td>\n",
       "      <td>0.0</td>\n",
       "      <td>0.0</td>\n",
       "    </tr>\n",
       "    <tr>\n",
       "      <th>10</th>\n",
       "      <td>10</td>\n",
       "      <td>2023-03-29 15:17:43+00:00</td>\n",
       "      <td>Rishaahmed12</td>\n",
       "      <td>AmitShah News18 Rising India is a platform tha...</td>\n",
       "      <td>0.0</td>\n",
       "      <td>0.0</td>\n",
       "    </tr>\n",
       "    <tr>\n",
       "      <th>11</th>\n",
       "      <td>11</td>\n",
       "      <td>2023-03-29 15:17:10+00:00</td>\n",
       "      <td>iRakeshtripathi</td>\n",
       "      <td>As someone who is passionate about Indian poli...</td>\n",
       "      <td>0.0</td>\n",
       "      <td>0.0</td>\n",
       "    </tr>\n",
       "    <tr>\n",
       "      <th>12</th>\n",
       "      <td>12</td>\n",
       "      <td>2023-03-29 15:16:55+00:00</td>\n",
       "      <td>chaudharyVi1</td>\n",
       "      <td>AmitShah News18 Rising India is the\\nplace to ...</td>\n",
       "      <td>0.0</td>\n",
       "      <td>0.0</td>\n",
       "    </tr>\n",
       "    <tr>\n",
       "      <th>13</th>\n",
       "      <td>13</td>\n",
       "      <td>2023-03-29 15:16:36+00:00</td>\n",
       "      <td>sandeepr2217</td>\n",
       "      <td>AmitShah News18 Rising India never fails to pr...</td>\n",
       "      <td>0.0</td>\n",
       "      <td>0.0</td>\n",
       "    </tr>\n",
       "    <tr>\n",
       "      <th>14</th>\n",
       "      <td>14</td>\n",
       "      <td>2023-03-29 15:16:33+00:00</td>\n",
       "      <td>hbkrishnachary</td>\n",
       "      <td>@POTUS Under Biden politics American manufactu...</td>\n",
       "      <td>0.0</td>\n",
       "      <td>0.0</td>\n",
       "    </tr>\n",
       "  </tbody>\n",
       "</table>\n",
       "</div>"
      ],
      "text/plain": [
       "   Unnamed: 0                       Date             User  \\\n",
       "0           0  2023-03-29 15:42:36+00:00      AnandPatni8   \n",
       "1           1  2023-03-29 15:42:05+00:00         dhinamum   \n",
       "2           2  2023-03-29 15:34:29+00:00     PrincetonCGI   \n",
       "3           3  2023-03-29 15:31:43+00:00     RishiJoeSanu   \n",
       "4           4  2023-03-29 15:26:48+00:00     itweetsensee   \n",
       "5           5  2023-03-29 15:21:29+00:00  FreeMindKeenEye   \n",
       "6           6  2023-03-29 15:20:41+00:00     SamsSamsson6   \n",
       "7           7  2023-03-29 15:20:16+00:00     SamsSamsson6   \n",
       "8           8  2023-03-29 15:19:44+00:00     SamsSamsson6   \n",
       "9           9  2023-03-29 15:19:32+00:00       ncsukumar1   \n",
       "10         10  2023-03-29 15:17:43+00:00     Rishaahmed12   \n",
       "11         11  2023-03-29 15:17:10+00:00  iRakeshtripathi   \n",
       "12         12  2023-03-29 15:16:55+00:00     chaudharyVi1   \n",
       "13         13  2023-03-29 15:16:36+00:00     sandeepr2217   \n",
       "14         14  2023-03-29 15:16:33+00:00   hbkrishnachary   \n",
       "\n",
       "                                                Tweet  Likes  Retweets  \n",
       "0   @vinodkapri @RahulGandhi Respected Indian Citi...    0.0       0.0  \n",
       "1   *Respected Indian Citizens,* Namaskaar I Am Th...    0.0       0.0  \n",
       "2   1/n-Meet Filmmaker Prakash Jha in New Jersey t...    0.0       0.0  \n",
       "3   @MrinalWahal Why would politicians stop using ...    0.0       0.0  \n",
       "4   @annamalai_k @narendramodi A state level presi...    0.0       0.0  \n",
       "5   @IAMCouncil @POTUS @Ilhan @bridgeinit OK this ...    0.0       0.0  \n",
       "6   @darrengrimes_ Why are pakistani /indian dual ...    0.0       0.0  \n",
       "7   @PeterStefanovi2 Why are pakistani /indian dua...    0.0       0.0  \n",
       "8   Why are pakistani /indian dual nationals allow...    0.0       0.0  \n",
       "9   @BesuraTaansane @KartiPC @PChidambaram_IN The ...    0.0       0.0  \n",
       "10  AmitShah News18 Rising India is a platform tha...    0.0       0.0  \n",
       "11  As someone who is passionate about Indian poli...    0.0       0.0  \n",
       "12  AmitShah News18 Rising India is the\\nplace to ...    0.0       0.0  \n",
       "13  AmitShah News18 Rising India never fails to pr...    0.0       0.0  \n",
       "14  @POTUS Under Biden politics American manufactu...    0.0       0.0  "
      ]
     },
     "execution_count": 11,
     "metadata": {},
     "output_type": "execute_result"
    }
   ],
   "source": [
    "import pandas as pd\n",
    "import os\n",
    "import re\n",
    "import nltk\n",
    "import string\n",
    "from better_profanity import profanity\n",
    "from textblob import TextBlob\n",
    "from wordcloud import WordCloud\n",
    "import matplotlib.pyplot as plt\n",
    "import plotly.express as px\n",
    "import plotly.graph_objs as go\n",
    "from tqdm import tqdm \n",
    "from nltk.corpus import stopwords\n",
    "from nltk.stem import PorterStemmer\n",
    "from nltk.tokenize import word_tokenize\n",
    "from sklearn.model_selection import train_test_split\n",
    "from sklearn.feature_extraction.text import TfidfVectorizer\n",
    "from sklearn.naive_bayes import MultinomialNB\n",
    "from sklearn.metrics import accuracy_score, classification_report\n",
    "from sklearn.preprocessing import LabelEncoder\n",
    "from sklearn.neural_network import MLPClassifier\n",
    "import warnings\n",
    "warnings.filterwarnings('ignore')\n",
    "\n",
    "# downloading stopwords\n",
    "#ltk.download('stopwords')\n",
    "#Loading dataset\n",
    "data = pd.read_csv(\"tweets.csv\")\n",
    "data.shape\n",
    "data.head(15)"
   ]
  },
  {
   "cell_type": "markdown",
   "id": "1ba9dcb6",
   "metadata": {},
   "source": [
    "# Description of data:"
   ]
  },
  {
   "cell_type": "code",
   "execution_count": 12,
   "id": "e74a8bdb",
   "metadata": {},
   "outputs": [
    {
     "data": {
      "text/plain": [
       "Unnamed: 0    0\n",
       "Date          0\n",
       "User          0\n",
       "Tweet         1\n",
       "Likes         2\n",
       "Retweets      2\n",
       "dtype: int64"
      ]
     },
     "execution_count": 12,
     "metadata": {},
     "output_type": "execute_result"
    }
   ],
   "source": [
    "data.isna().sum()"
   ]
  },
  {
   "cell_type": "code",
   "execution_count": 13,
   "id": "0786381b",
   "metadata": {},
   "outputs": [],
   "source": [
    "#Removing duplicates\n",
    "data.dropna(inplace=True)"
   ]
  },
  {
   "cell_type": "code",
   "execution_count": 14,
   "id": "77b77d6d",
   "metadata": {},
   "outputs": [
    {
     "data": {
      "text/plain": [
       "0"
      ]
     },
     "execution_count": 14,
     "metadata": {},
     "output_type": "execute_result"
    }
   ],
   "source": [
    "data.duplicated().sum()"
   ]
  },
  {
   "cell_type": "code",
   "execution_count": 15,
   "id": "6085379e",
   "metadata": {},
   "outputs": [
    {
     "name": "stdout",
     "output_type": "stream",
     "text": [
      "<class 'pandas.core.frame.DataFrame'>\n",
      "Index: 49999 entries, 0 to 50000\n",
      "Data columns (total 6 columns):\n",
      " #   Column      Non-Null Count  Dtype  \n",
      "---  ------      --------------  -----  \n",
      " 0   Unnamed: 0  49999 non-null  object \n",
      " 1   Date        49999 non-null  object \n",
      " 2   User        49999 non-null  object \n",
      " 3   Tweet       49999 non-null  object \n",
      " 4   Likes       49999 non-null  float64\n",
      " 5   Retweets    49999 non-null  float64\n",
      "dtypes: float64(2), object(4)\n",
      "memory usage: 2.7+ MB\n"
     ]
    }
   ],
   "source": [
    "data.info()"
   ]
  },
  {
   "cell_type": "code",
   "execution_count": 16,
   "id": "381911c6",
   "metadata": {},
   "outputs": [
    {
     "data": {
      "text/plain": [
       "Unnamed: 0    49999\n",
       "Date          49820\n",
       "User          35108\n",
       "Tweet         49568\n",
       "Likes           598\n",
       "Retweets        312\n",
       "dtype: int64"
      ]
     },
     "execution_count": 16,
     "metadata": {},
     "output_type": "execute_result"
    }
   ],
   "source": [
    "data.nunique()"
   ]
  },
  {
   "cell_type": "markdown",
   "id": "8b2056cf",
   "metadata": {},
   "source": [
    "# Preprocessing:"
   ]
  },
  {
   "cell_type": "code",
   "execution_count": 17,
   "id": "ee7cbab6",
   "metadata": {},
   "outputs": [
    {
     "name": "stdout",
     "output_type": "stream",
     "text": [
      "Numerical columns: ['Likes', 'Retweets']\n",
      "Categorical columns: ['Unnamed: 0', 'Date', 'User', 'Tweet']\n"
     ]
    }
   ],
   "source": [
    "#Identifying numerical columns\n",
    "numerical_cols = data.select_dtypes(include=['number']).columns.tolist()\n",
    "#Identifying categorical columns\n",
    "categorical_cols = data.select_dtypes(exclude=['number']).columns.tolist()\n",
    "\n",
    "#Printing the lists of numerical and categorical columns\n",
    "print(\"Numerical columns:\", numerical_cols)\n",
    "print(\"Categorical columns:\", categorical_cols)"
   ]
  },
  {
   "cell_type": "code",
   "execution_count": 18,
   "id": "38232bae",
   "metadata": {},
   "outputs": [
    {
     "data": {
      "text/html": [
       "<div>\n",
       "<style scoped>\n",
       "    .dataframe tbody tr th:only-of-type {\n",
       "        vertical-align: middle;\n",
       "    }\n",
       "\n",
       "    .dataframe tbody tr th {\n",
       "        vertical-align: top;\n",
       "    }\n",
       "\n",
       "    .dataframe thead th {\n",
       "        text-align: right;\n",
       "    }\n",
       "</style>\n",
       "<table border=\"1\" class=\"dataframe\">\n",
       "  <thead>\n",
       "    <tr style=\"text-align: right;\">\n",
       "      <th></th>\n",
       "      <th>Unnamed: 0</th>\n",
       "      <th>User</th>\n",
       "      <th>Tweet</th>\n",
       "      <th>Likes</th>\n",
       "      <th>Retweets</th>\n",
       "      <th>Unprocessed_Tweets</th>\n",
       "      <th>Date&amp;Time</th>\n",
       "      <th>Prcsd_Date</th>\n",
       "      <th>Prcsd_Month</th>\n",
       "      <th>Prcsd_Year</th>\n",
       "      <th>Prcsd_Hour</th>\n",
       "    </tr>\n",
       "  </thead>\n",
       "  <tbody>\n",
       "    <tr>\n",
       "      <th>0</th>\n",
       "      <td>0</td>\n",
       "      <td>AnandPatni8</td>\n",
       "      <td>@vinodkapri @RahulGandhi Respected Indian Citi...</td>\n",
       "      <td>0.0</td>\n",
       "      <td>0.0</td>\n",
       "      <td>@vinodkapri @RahulGandhi Respected Indian Citi...</td>\n",
       "      <td>2023-03-29 15:42:36</td>\n",
       "      <td>2023-03-29</td>\n",
       "      <td>3</td>\n",
       "      <td>2023</td>\n",
       "      <td>15</td>\n",
       "    </tr>\n",
       "    <tr>\n",
       "      <th>1</th>\n",
       "      <td>1</td>\n",
       "      <td>dhinamum</td>\n",
       "      <td>*Respected Indian Citizens,* Namaskaar I Am Th...</td>\n",
       "      <td>0.0</td>\n",
       "      <td>0.0</td>\n",
       "      <td>*Respected Indian Citizens,* Namaskaar I Am Th...</td>\n",
       "      <td>2023-03-29 15:42:05</td>\n",
       "      <td>2023-03-29</td>\n",
       "      <td>3</td>\n",
       "      <td>2023</td>\n",
       "      <td>15</td>\n",
       "    </tr>\n",
       "    <tr>\n",
       "      <th>2</th>\n",
       "      <td>2</td>\n",
       "      <td>PrincetonCGI</td>\n",
       "      <td>1/n-Meet Filmmaker Prakash Jha in New Jersey t...</td>\n",
       "      <td>0.0</td>\n",
       "      <td>0.0</td>\n",
       "      <td>1/n-Meet Filmmaker Prakash Jha in New Jersey t...</td>\n",
       "      <td>2023-03-29 15:34:29</td>\n",
       "      <td>2023-03-29</td>\n",
       "      <td>3</td>\n",
       "      <td>2023</td>\n",
       "      <td>15</td>\n",
       "    </tr>\n",
       "    <tr>\n",
       "      <th>3</th>\n",
       "      <td>3</td>\n",
       "      <td>RishiJoeSanu</td>\n",
       "      <td>@MrinalWahal Why would politicians stop using ...</td>\n",
       "      <td>0.0</td>\n",
       "      <td>0.0</td>\n",
       "      <td>@MrinalWahal Why would politicians stop using ...</td>\n",
       "      <td>2023-03-29 15:31:43</td>\n",
       "      <td>2023-03-29</td>\n",
       "      <td>3</td>\n",
       "      <td>2023</td>\n",
       "      <td>15</td>\n",
       "    </tr>\n",
       "    <tr>\n",
       "      <th>4</th>\n",
       "      <td>4</td>\n",
       "      <td>itweetsensee</td>\n",
       "      <td>@annamalai_k @narendramodi A state level presi...</td>\n",
       "      <td>0.0</td>\n",
       "      <td>0.0</td>\n",
       "      <td>@annamalai_k @narendramodi A state level presi...</td>\n",
       "      <td>2023-03-29 15:26:48</td>\n",
       "      <td>2023-03-29</td>\n",
       "      <td>3</td>\n",
       "      <td>2023</td>\n",
       "      <td>15</td>\n",
       "    </tr>\n",
       "    <tr>\n",
       "      <th>5</th>\n",
       "      <td>5</td>\n",
       "      <td>FreeMindKeenEye</td>\n",
       "      <td>@IAMCouncil @POTUS @Ilhan @bridgeinit OK this ...</td>\n",
       "      <td>0.0</td>\n",
       "      <td>0.0</td>\n",
       "      <td>@IAMCouncil @POTUS @Ilhan @bridgeinit OK this ...</td>\n",
       "      <td>2023-03-29 15:21:29</td>\n",
       "      <td>2023-03-29</td>\n",
       "      <td>3</td>\n",
       "      <td>2023</td>\n",
       "      <td>15</td>\n",
       "    </tr>\n",
       "    <tr>\n",
       "      <th>6</th>\n",
       "      <td>6</td>\n",
       "      <td>SamsSamsson6</td>\n",
       "      <td>@darrengrimes_ Why are pakistani /indian dual ...</td>\n",
       "      <td>0.0</td>\n",
       "      <td>0.0</td>\n",
       "      <td>@darrengrimes_ Why are pakistani /indian dual ...</td>\n",
       "      <td>2023-03-29 15:20:41</td>\n",
       "      <td>2023-03-29</td>\n",
       "      <td>3</td>\n",
       "      <td>2023</td>\n",
       "      <td>15</td>\n",
       "    </tr>\n",
       "    <tr>\n",
       "      <th>7</th>\n",
       "      <td>7</td>\n",
       "      <td>SamsSamsson6</td>\n",
       "      <td>@PeterStefanovi2 Why are pakistani /indian dua...</td>\n",
       "      <td>0.0</td>\n",
       "      <td>0.0</td>\n",
       "      <td>@PeterStefanovi2 Why are pakistani /indian dua...</td>\n",
       "      <td>2023-03-29 15:20:16</td>\n",
       "      <td>2023-03-29</td>\n",
       "      <td>3</td>\n",
       "      <td>2023</td>\n",
       "      <td>15</td>\n",
       "    </tr>\n",
       "    <tr>\n",
       "      <th>8</th>\n",
       "      <td>8</td>\n",
       "      <td>SamsSamsson6</td>\n",
       "      <td>Why are pakistani /indian dual nationals allow...</td>\n",
       "      <td>0.0</td>\n",
       "      <td>0.0</td>\n",
       "      <td>Why are pakistani /indian dual nationals allow...</td>\n",
       "      <td>2023-03-29 15:19:44</td>\n",
       "      <td>2023-03-29</td>\n",
       "      <td>3</td>\n",
       "      <td>2023</td>\n",
       "      <td>15</td>\n",
       "    </tr>\n",
       "    <tr>\n",
       "      <th>9</th>\n",
       "      <td>9</td>\n",
       "      <td>ncsukumar1</td>\n",
       "      <td>@BesuraTaansane @KartiPC @PChidambaram_IN The ...</td>\n",
       "      <td>0.0</td>\n",
       "      <td>0.0</td>\n",
       "      <td>@BesuraTaansane @KartiPC @PChidambaram_IN The ...</td>\n",
       "      <td>2023-03-29 15:19:32</td>\n",
       "      <td>2023-03-29</td>\n",
       "      <td>3</td>\n",
       "      <td>2023</td>\n",
       "      <td>15</td>\n",
       "    </tr>\n",
       "    <tr>\n",
       "      <th>10</th>\n",
       "      <td>10</td>\n",
       "      <td>Rishaahmed12</td>\n",
       "      <td>AmitShah News18 Rising India is a platform tha...</td>\n",
       "      <td>0.0</td>\n",
       "      <td>0.0</td>\n",
       "      <td>AmitShah News18 Rising India is a platform tha...</td>\n",
       "      <td>2023-03-29 15:17:43</td>\n",
       "      <td>2023-03-29</td>\n",
       "      <td>3</td>\n",
       "      <td>2023</td>\n",
       "      <td>15</td>\n",
       "    </tr>\n",
       "    <tr>\n",
       "      <th>11</th>\n",
       "      <td>11</td>\n",
       "      <td>iRakeshtripathi</td>\n",
       "      <td>As someone who is passionate about Indian poli...</td>\n",
       "      <td>0.0</td>\n",
       "      <td>0.0</td>\n",
       "      <td>As someone who is passionate about Indian poli...</td>\n",
       "      <td>2023-03-29 15:17:10</td>\n",
       "      <td>2023-03-29</td>\n",
       "      <td>3</td>\n",
       "      <td>2023</td>\n",
       "      <td>15</td>\n",
       "    </tr>\n",
       "    <tr>\n",
       "      <th>12</th>\n",
       "      <td>12</td>\n",
       "      <td>chaudharyVi1</td>\n",
       "      <td>AmitShah News18 Rising India is the\\nplace to ...</td>\n",
       "      <td>0.0</td>\n",
       "      <td>0.0</td>\n",
       "      <td>AmitShah News18 Rising India is the\\nplace to ...</td>\n",
       "      <td>2023-03-29 15:16:55</td>\n",
       "      <td>2023-03-29</td>\n",
       "      <td>3</td>\n",
       "      <td>2023</td>\n",
       "      <td>15</td>\n",
       "    </tr>\n",
       "    <tr>\n",
       "      <th>13</th>\n",
       "      <td>13</td>\n",
       "      <td>sandeepr2217</td>\n",
       "      <td>AmitShah News18 Rising India never fails to pr...</td>\n",
       "      <td>0.0</td>\n",
       "      <td>0.0</td>\n",
       "      <td>AmitShah News18 Rising India never fails to pr...</td>\n",
       "      <td>2023-03-29 15:16:36</td>\n",
       "      <td>2023-03-29</td>\n",
       "      <td>3</td>\n",
       "      <td>2023</td>\n",
       "      <td>15</td>\n",
       "    </tr>\n",
       "    <tr>\n",
       "      <th>14</th>\n",
       "      <td>14</td>\n",
       "      <td>hbkrishnachary</td>\n",
       "      <td>@POTUS Under Biden politics American manufactu...</td>\n",
       "      <td>0.0</td>\n",
       "      <td>0.0</td>\n",
       "      <td>@POTUS Under Biden politics American manufactu...</td>\n",
       "      <td>2023-03-29 15:16:33</td>\n",
       "      <td>2023-03-29</td>\n",
       "      <td>3</td>\n",
       "      <td>2023</td>\n",
       "      <td>15</td>\n",
       "    </tr>\n",
       "  </tbody>\n",
       "</table>\n",
       "</div>"
      ],
      "text/plain": [
       "   Unnamed: 0             User  \\\n",
       "0           0      AnandPatni8   \n",
       "1           1         dhinamum   \n",
       "2           2     PrincetonCGI   \n",
       "3           3     RishiJoeSanu   \n",
       "4           4     itweetsensee   \n",
       "5           5  FreeMindKeenEye   \n",
       "6           6     SamsSamsson6   \n",
       "7           7     SamsSamsson6   \n",
       "8           8     SamsSamsson6   \n",
       "9           9       ncsukumar1   \n",
       "10         10     Rishaahmed12   \n",
       "11         11  iRakeshtripathi   \n",
       "12         12     chaudharyVi1   \n",
       "13         13     sandeepr2217   \n",
       "14         14   hbkrishnachary   \n",
       "\n",
       "                                                Tweet  Likes  Retweets  \\\n",
       "0   @vinodkapri @RahulGandhi Respected Indian Citi...    0.0       0.0   \n",
       "1   *Respected Indian Citizens,* Namaskaar I Am Th...    0.0       0.0   \n",
       "2   1/n-Meet Filmmaker Prakash Jha in New Jersey t...    0.0       0.0   \n",
       "3   @MrinalWahal Why would politicians stop using ...    0.0       0.0   \n",
       "4   @annamalai_k @narendramodi A state level presi...    0.0       0.0   \n",
       "5   @IAMCouncil @POTUS @Ilhan @bridgeinit OK this ...    0.0       0.0   \n",
       "6   @darrengrimes_ Why are pakistani /indian dual ...    0.0       0.0   \n",
       "7   @PeterStefanovi2 Why are pakistani /indian dua...    0.0       0.0   \n",
       "8   Why are pakistani /indian dual nationals allow...    0.0       0.0   \n",
       "9   @BesuraTaansane @KartiPC @PChidambaram_IN The ...    0.0       0.0   \n",
       "10  AmitShah News18 Rising India is a platform tha...    0.0       0.0   \n",
       "11  As someone who is passionate about Indian poli...    0.0       0.0   \n",
       "12  AmitShah News18 Rising India is the\\nplace to ...    0.0       0.0   \n",
       "13  AmitShah News18 Rising India never fails to pr...    0.0       0.0   \n",
       "14  @POTUS Under Biden politics American manufactu...    0.0       0.0   \n",
       "\n",
       "                                   Unprocessed_Tweets           Date&Time  \\\n",
       "0   @vinodkapri @RahulGandhi Respected Indian Citi... 2023-03-29 15:42:36   \n",
       "1   *Respected Indian Citizens,* Namaskaar I Am Th... 2023-03-29 15:42:05   \n",
       "2   1/n-Meet Filmmaker Prakash Jha in New Jersey t... 2023-03-29 15:34:29   \n",
       "3   @MrinalWahal Why would politicians stop using ... 2023-03-29 15:31:43   \n",
       "4   @annamalai_k @narendramodi A state level presi... 2023-03-29 15:26:48   \n",
       "5   @IAMCouncil @POTUS @Ilhan @bridgeinit OK this ... 2023-03-29 15:21:29   \n",
       "6   @darrengrimes_ Why are pakistani /indian dual ... 2023-03-29 15:20:41   \n",
       "7   @PeterStefanovi2 Why are pakistani /indian dua... 2023-03-29 15:20:16   \n",
       "8   Why are pakistani /indian dual nationals allow... 2023-03-29 15:19:44   \n",
       "9   @BesuraTaansane @KartiPC @PChidambaram_IN The ... 2023-03-29 15:19:32   \n",
       "10  AmitShah News18 Rising India is a platform tha... 2023-03-29 15:17:43   \n",
       "11  As someone who is passionate about Indian poli... 2023-03-29 15:17:10   \n",
       "12  AmitShah News18 Rising India is the\\nplace to ... 2023-03-29 15:16:55   \n",
       "13  AmitShah News18 Rising India never fails to pr... 2023-03-29 15:16:36   \n",
       "14  @POTUS Under Biden politics American manufactu... 2023-03-29 15:16:33   \n",
       "\n",
       "    Prcsd_Date  Prcsd_Month  Prcsd_Year  Prcsd_Hour  \n",
       "0   2023-03-29            3        2023          15  \n",
       "1   2023-03-29            3        2023          15  \n",
       "2   2023-03-29            3        2023          15  \n",
       "3   2023-03-29            3        2023          15  \n",
       "4   2023-03-29            3        2023          15  \n",
       "5   2023-03-29            3        2023          15  \n",
       "6   2023-03-29            3        2023          15  \n",
       "7   2023-03-29            3        2023          15  \n",
       "8   2023-03-29            3        2023          15  \n",
       "9   2023-03-29            3        2023          15  \n",
       "10  2023-03-29            3        2023          15  \n",
       "11  2023-03-29            3        2023          15  \n",
       "12  2023-03-29            3        2023          15  \n",
       "13  2023-03-29            3        2023          15  \n",
       "14  2023-03-29            3        2023          15  "
      ]
     },
     "execution_count": 18,
     "metadata": {},
     "output_type": "execute_result"
    }
   ],
   "source": [
    "#Copying the 'Tweet' column to a new 'Original_Tweet' column\n",
    "data['Unprocessed_Tweets'] = data['Tweet']\n",
    "\n",
    "#Creating a new 'Date&Time' column and drop the 'Date' column\n",
    "data['Date&Time'] = data['Date']\n",
    "data = data.drop('Date', axis=1)\n",
    "\n",
    "#Splitting the 'Date&Time' column to remove the time zone information\n",
    "data['Date&Time'] = data['Date&Time'].str.split('+').str[0]\n",
    "\n",
    "#Converting the 'Processed_DateTime' column to datetime format and replace invalid values with a default datetime\n",
    "data['Date&Time'] = pd.to_datetime(data['Date&Time'], errors='coerce', format='%Y-%m-%d %H:%M:%S').fillna(pd.Timestamp('1900-01-01'))\n",
    "\n",
    "#Extracting 'Processed_Date', 'Processed_Month', 'Processed_Year', and 'Processed_Hour' from the 'Processed_DateTime' column\n",
    "data['Prcsd_Date'] = data['Date&Time'].dt.date\n",
    "data['Prcsd_Month'] = data['Date&Time'].dt.month\n",
    "data['Prcsd_Year'] = data['Date&Time'].dt.year\n",
    "data['Prcsd_Hour'] = data['Date&Time'].dt.hour\n",
    "\n",
    "# Display the updated DataFrame\n",
    "data.head(15)"
   ]
  },
  {
   "cell_type": "code",
   "execution_count": 21,
   "id": "da72f09f",
   "metadata": {},
   "outputs": [],
   "source": [
    "#Defining the stopwords list\n",
    "stop_words = stopwords.words('english')\n",
    "\n",
    "#Creating a function to preprocess and clean the tweets\n",
    "def preprocess_and_clean_text(text):\n",
    "    # Remove non-ASCII characters and URLs\n",
    "    text = re.sub(r'http\\S+', '', text)\n",
    "    text = re.sub(r'[^\\x00-\\x7F]+', '', text)\n",
    "    #Convert text to lowercase\n",
    "    text = text.lower()\n",
    "    #Censoring profanity\n",
    "    profanity.load_censor_words()\n",
    "    text = profanity.censor(text)\n",
    "    #Removing Twitter handles\n",
    "    text = re.sub('@[^\\s]+', '', text)\n",
    "    #Removing hashtags\n",
    "    text = re.sub(r'\\B#\\S+', '', text)\n",
    "    #Removing special characters and punctuations (except single quotes)\n",
    "    text = re.sub(r'[^\\w\\s\\']', ' ', text) \n",
    "    #Removing single characters (except for 'a' and 'i')\n",
    "    text = re.sub(r'\\s+[a-hj-z]\\s+', ' ', text)\n",
    "    text = re.sub(r'\\s+i\\s+', ' I ', text)\n",
    "    text = re.sub(r'\\s+a\\s+', ' a ', text)\n",
    "    #Replacing multiple spaces with single space\n",
    "    text = re.sub(r'\\s+', ' ', text, flags=re.I)\n",
    "    #Tokenization\n",
    "    tokens = word_tokenize(text)\n",
    "    #Removing stopwords\n",
    "    tokens = [word for word in tokens if word not in stop_words]\n",
    "    return ' '.join(tokens)"
   ]
  },
  {
   "cell_type": "code",
   "execution_count": 22,
   "id": "9ae25b45",
   "metadata": {},
   "outputs": [
    {
     "name": "stderr",
     "output_type": "stream",
     "text": [
      "100%|██████████████████████████████████████████████████████████████████████████| 49999/49999 [1:08:04<00:00, 12.24it/s]\n"
     ]
    },
    {
     "data": {
      "text/html": [
       "<div>\n",
       "<style scoped>\n",
       "    .dataframe tbody tr th:only-of-type {\n",
       "        vertical-align: middle;\n",
       "    }\n",
       "\n",
       "    .dataframe tbody tr th {\n",
       "        vertical-align: top;\n",
       "    }\n",
       "\n",
       "    .dataframe thead th {\n",
       "        text-align: right;\n",
       "    }\n",
       "</style>\n",
       "<table border=\"1\" class=\"dataframe\">\n",
       "  <thead>\n",
       "    <tr style=\"text-align: right;\">\n",
       "      <th></th>\n",
       "      <th>Unnamed: 0</th>\n",
       "      <th>User</th>\n",
       "      <th>Tweet</th>\n",
       "      <th>Likes</th>\n",
       "      <th>Retweets</th>\n",
       "      <th>Unprocessed_Tweets</th>\n",
       "      <th>Date&amp;Time</th>\n",
       "      <th>Prcsd_Date</th>\n",
       "      <th>Prcsd_Month</th>\n",
       "      <th>Prcsd_Year</th>\n",
       "      <th>Prcsd_Hour</th>\n",
       "      <th>Cleaned_Tweet</th>\n",
       "    </tr>\n",
       "  </thead>\n",
       "  <tbody>\n",
       "    <tr>\n",
       "      <th>0</th>\n",
       "      <td>0</td>\n",
       "      <td>AnandPatni8</td>\n",
       "      <td>@vinodkapri @RahulGandhi Respected Indian Citi...</td>\n",
       "      <td>0.0</td>\n",
       "      <td>0.0</td>\n",
       "      <td>@vinodkapri @RahulGandhi Respected Indian Citi...</td>\n",
       "      <td>2023-03-29 15:42:36</td>\n",
       "      <td>2023-03-29</td>\n",
       "      <td>3</td>\n",
       "      <td>2023</td>\n",
       "      <td>15</td>\n",
       "      <td>respected indian citizens namaskaari original ...</td>\n",
       "    </tr>\n",
       "    <tr>\n",
       "      <th>1</th>\n",
       "      <td>1</td>\n",
       "      <td>dhinamum</td>\n",
       "      <td>*Respected Indian Citizens,* Namaskaar I Am Th...</td>\n",
       "      <td>0.0</td>\n",
       "      <td>0.0</td>\n",
       "      <td>*Respected Indian Citizens,* Namaskaar I Am Th...</td>\n",
       "      <td>2023-03-29 15:42:05</td>\n",
       "      <td>2023-03-29</td>\n",
       "      <td>3</td>\n",
       "      <td>2023</td>\n",
       "      <td>15</td>\n",
       "      <td>respected indian citizens namaskaar I original...</td>\n",
       "    </tr>\n",
       "    <tr>\n",
       "      <th>2</th>\n",
       "      <td>2</td>\n",
       "      <td>PrincetonCGI</td>\n",
       "      <td>1/n-Meet Filmmaker Prakash Jha in New Jersey t...</td>\n",
       "      <td>0.0</td>\n",
       "      <td>0.0</td>\n",
       "      <td>1/n-Meet Filmmaker Prakash Jha in New Jersey t...</td>\n",
       "      <td>2023-03-29 15:34:29</td>\n",
       "      <td>2023-03-29</td>\n",
       "      <td>3</td>\n",
       "      <td>2023</td>\n",
       "      <td>15</td>\n",
       "      <td>1 meet filmmaker prakash jha new jersey talkin...</td>\n",
       "    </tr>\n",
       "    <tr>\n",
       "      <th>3</th>\n",
       "      <td>3</td>\n",
       "      <td>RishiJoeSanu</td>\n",
       "      <td>@MrinalWahal Why would politicians stop using ...</td>\n",
       "      <td>0.0</td>\n",
       "      <td>0.0</td>\n",
       "      <td>@MrinalWahal Why would politicians stop using ...</td>\n",
       "      <td>2023-03-29 15:31:43</td>\n",
       "      <td>2023-03-29</td>\n",
       "      <td>3</td>\n",
       "      <td>2023</td>\n",
       "      <td>15</td>\n",
       "      <td>would politicians stop using religion politics...</td>\n",
       "    </tr>\n",
       "    <tr>\n",
       "      <th>4</th>\n",
       "      <td>4</td>\n",
       "      <td>itweetsensee</td>\n",
       "      <td>@annamalai_k @narendramodi A state level presi...</td>\n",
       "      <td>0.0</td>\n",
       "      <td>0.0</td>\n",
       "      <td>@annamalai_k @narendramodi A state level presi...</td>\n",
       "      <td>2023-03-29 15:26:48</td>\n",
       "      <td>2023-03-29</td>\n",
       "      <td>3</td>\n",
       "      <td>2023</td>\n",
       "      <td>15</td>\n",
       "      <td>state level president knows policy pm union mi...</td>\n",
       "    </tr>\n",
       "    <tr>\n",
       "      <th>5</th>\n",
       "      <td>5</td>\n",
       "      <td>FreeMindKeenEye</td>\n",
       "      <td>@IAMCouncil @POTUS @Ilhan @bridgeinit OK this ...</td>\n",
       "      <td>0.0</td>\n",
       "      <td>0.0</td>\n",
       "      <td>@IAMCouncil @POTUS @Ilhan @bridgeinit OK this ...</td>\n",
       "      <td>2023-03-29 15:21:29</td>\n",
       "      <td>2023-03-29</td>\n",
       "      <td>3</td>\n",
       "      <td>2023</td>\n",
       "      <td>15</td>\n",
       "      <td>ok lady issues us poke dirty nose indian polit...</td>\n",
       "    </tr>\n",
       "    <tr>\n",
       "      <th>6</th>\n",
       "      <td>6</td>\n",
       "      <td>SamsSamsson6</td>\n",
       "      <td>@darrengrimes_ Why are pakistani /indian dual ...</td>\n",
       "      <td>0.0</td>\n",
       "      <td>0.0</td>\n",
       "      <td>@darrengrimes_ Why are pakistani /indian dual ...</td>\n",
       "      <td>2023-03-29 15:20:41</td>\n",
       "      <td>2023-03-29</td>\n",
       "      <td>3</td>\n",
       "      <td>2023</td>\n",
       "      <td>15</td>\n",
       "      <td>pakistani indian dual nationals allowed uk pol...</td>\n",
       "    </tr>\n",
       "    <tr>\n",
       "      <th>7</th>\n",
       "      <td>7</td>\n",
       "      <td>SamsSamsson6</td>\n",
       "      <td>@PeterStefanovi2 Why are pakistani /indian dua...</td>\n",
       "      <td>0.0</td>\n",
       "      <td>0.0</td>\n",
       "      <td>@PeterStefanovi2 Why are pakistani /indian dua...</td>\n",
       "      <td>2023-03-29 15:20:16</td>\n",
       "      <td>2023-03-29</td>\n",
       "      <td>3</td>\n",
       "      <td>2023</td>\n",
       "      <td>15</td>\n",
       "      <td>pakistani indian dual nationals allowed uk pol...</td>\n",
       "    </tr>\n",
       "    <tr>\n",
       "      <th>8</th>\n",
       "      <td>8</td>\n",
       "      <td>SamsSamsson6</td>\n",
       "      <td>Why are pakistani /indian dual nationals allow...</td>\n",
       "      <td>0.0</td>\n",
       "      <td>0.0</td>\n",
       "      <td>Why are pakistani /indian dual nationals allow...</td>\n",
       "      <td>2023-03-29 15:19:44</td>\n",
       "      <td>2023-03-29</td>\n",
       "      <td>3</td>\n",
       "      <td>2023</td>\n",
       "      <td>15</td>\n",
       "      <td>pakistani indian dual nationals allowed uk pol...</td>\n",
       "    </tr>\n",
       "    <tr>\n",
       "      <th>9</th>\n",
       "      <td>9</td>\n",
       "      <td>ncsukumar1</td>\n",
       "      <td>@BesuraTaansane @KartiPC @PChidambaram_IN The ...</td>\n",
       "      <td>0.0</td>\n",
       "      <td>0.0</td>\n",
       "      <td>@BesuraTaansane @KartiPC @PChidambaram_IN The ...</td>\n",
       "      <td>2023-03-29 15:19:32</td>\n",
       "      <td>2023-03-29</td>\n",
       "      <td>3</td>\n",
       "      <td>2023</td>\n",
       "      <td>15</td>\n",
       "      <td>problem indian politics politicians n't rememb...</td>\n",
       "    </tr>\n",
       "    <tr>\n",
       "      <th>10</th>\n",
       "      <td>10</td>\n",
       "      <td>Rishaahmed12</td>\n",
       "      <td>AmitShah News18 Rising India is a platform tha...</td>\n",
       "      <td>0.0</td>\n",
       "      <td>0.0</td>\n",
       "      <td>AmitShah News18 Rising India is a platform tha...</td>\n",
       "      <td>2023-03-29 15:17:43</td>\n",
       "      <td>2023-03-29</td>\n",
       "      <td>3</td>\n",
       "      <td>2023</td>\n",
       "      <td>15</td>\n",
       "      <td>amitshah news18 rising india platform showcase...</td>\n",
       "    </tr>\n",
       "    <tr>\n",
       "      <th>11</th>\n",
       "      <td>11</td>\n",
       "      <td>iRakeshtripathi</td>\n",
       "      <td>As someone who is passionate about Indian poli...</td>\n",
       "      <td>0.0</td>\n",
       "      <td>0.0</td>\n",
       "      <td>As someone who is passionate about Indian poli...</td>\n",
       "      <td>2023-03-29 15:17:10</td>\n",
       "      <td>2023-03-29</td>\n",
       "      <td>3</td>\n",
       "      <td>2023</td>\n",
       "      <td>15</td>\n",
       "      <td>someone passionate indian politics 'm eager se...</td>\n",
       "    </tr>\n",
       "    <tr>\n",
       "      <th>12</th>\n",
       "      <td>12</td>\n",
       "      <td>chaudharyVi1</td>\n",
       "      <td>AmitShah News18 Rising India is the\\nplace to ...</td>\n",
       "      <td>0.0</td>\n",
       "      <td>0.0</td>\n",
       "      <td>AmitShah News18 Rising India is the\\nplace to ...</td>\n",
       "      <td>2023-03-29 15:16:55</td>\n",
       "      <td>2023-03-29</td>\n",
       "      <td>3</td>\n",
       "      <td>2023</td>\n",
       "      <td>15</td>\n",
       "      <td>amitshah news18 rising india place anyone want...</td>\n",
       "    </tr>\n",
       "    <tr>\n",
       "      <th>13</th>\n",
       "      <td>13</td>\n",
       "      <td>sandeepr2217</td>\n",
       "      <td>AmitShah News18 Rising India never fails to pr...</td>\n",
       "      <td>0.0</td>\n",
       "      <td>0.0</td>\n",
       "      <td>AmitShah News18 Rising India never fails to pr...</td>\n",
       "      <td>2023-03-29 15:16:36</td>\n",
       "      <td>2023-03-29</td>\n",
       "      <td>3</td>\n",
       "      <td>2023</td>\n",
       "      <td>15</td>\n",
       "      <td>amitshah news18 rising india never fails provi...</td>\n",
       "    </tr>\n",
       "    <tr>\n",
       "      <th>14</th>\n",
       "      <td>14</td>\n",
       "      <td>hbkrishnachary</td>\n",
       "      <td>@POTUS Under Biden politics American manufactu...</td>\n",
       "      <td>0.0</td>\n",
       "      <td>0.0</td>\n",
       "      <td>@POTUS Under Biden politics American manufactu...</td>\n",
       "      <td>2023-03-29 15:16:33</td>\n",
       "      <td>2023-03-29</td>\n",
       "      <td>3</td>\n",
       "      <td>2023</td>\n",
       "      <td>15</td>\n",
       "      <td>biden politics american manufacturing industri...</td>\n",
       "    </tr>\n",
       "  </tbody>\n",
       "</table>\n",
       "</div>"
      ],
      "text/plain": [
       "   Unnamed: 0             User  \\\n",
       "0           0      AnandPatni8   \n",
       "1           1         dhinamum   \n",
       "2           2     PrincetonCGI   \n",
       "3           3     RishiJoeSanu   \n",
       "4           4     itweetsensee   \n",
       "5           5  FreeMindKeenEye   \n",
       "6           6     SamsSamsson6   \n",
       "7           7     SamsSamsson6   \n",
       "8           8     SamsSamsson6   \n",
       "9           9       ncsukumar1   \n",
       "10         10     Rishaahmed12   \n",
       "11         11  iRakeshtripathi   \n",
       "12         12     chaudharyVi1   \n",
       "13         13     sandeepr2217   \n",
       "14         14   hbkrishnachary   \n",
       "\n",
       "                                                Tweet  Likes  Retweets  \\\n",
       "0   @vinodkapri @RahulGandhi Respected Indian Citi...    0.0       0.0   \n",
       "1   *Respected Indian Citizens,* Namaskaar I Am Th...    0.0       0.0   \n",
       "2   1/n-Meet Filmmaker Prakash Jha in New Jersey t...    0.0       0.0   \n",
       "3   @MrinalWahal Why would politicians stop using ...    0.0       0.0   \n",
       "4   @annamalai_k @narendramodi A state level presi...    0.0       0.0   \n",
       "5   @IAMCouncil @POTUS @Ilhan @bridgeinit OK this ...    0.0       0.0   \n",
       "6   @darrengrimes_ Why are pakistani /indian dual ...    0.0       0.0   \n",
       "7   @PeterStefanovi2 Why are pakistani /indian dua...    0.0       0.0   \n",
       "8   Why are pakistani /indian dual nationals allow...    0.0       0.0   \n",
       "9   @BesuraTaansane @KartiPC @PChidambaram_IN The ...    0.0       0.0   \n",
       "10  AmitShah News18 Rising India is a platform tha...    0.0       0.0   \n",
       "11  As someone who is passionate about Indian poli...    0.0       0.0   \n",
       "12  AmitShah News18 Rising India is the\\nplace to ...    0.0       0.0   \n",
       "13  AmitShah News18 Rising India never fails to pr...    0.0       0.0   \n",
       "14  @POTUS Under Biden politics American manufactu...    0.0       0.0   \n",
       "\n",
       "                                   Unprocessed_Tweets           Date&Time  \\\n",
       "0   @vinodkapri @RahulGandhi Respected Indian Citi... 2023-03-29 15:42:36   \n",
       "1   *Respected Indian Citizens,* Namaskaar I Am Th... 2023-03-29 15:42:05   \n",
       "2   1/n-Meet Filmmaker Prakash Jha in New Jersey t... 2023-03-29 15:34:29   \n",
       "3   @MrinalWahal Why would politicians stop using ... 2023-03-29 15:31:43   \n",
       "4   @annamalai_k @narendramodi A state level presi... 2023-03-29 15:26:48   \n",
       "5   @IAMCouncil @POTUS @Ilhan @bridgeinit OK this ... 2023-03-29 15:21:29   \n",
       "6   @darrengrimes_ Why are pakistani /indian dual ... 2023-03-29 15:20:41   \n",
       "7   @PeterStefanovi2 Why are pakistani /indian dua... 2023-03-29 15:20:16   \n",
       "8   Why are pakistani /indian dual nationals allow... 2023-03-29 15:19:44   \n",
       "9   @BesuraTaansane @KartiPC @PChidambaram_IN The ... 2023-03-29 15:19:32   \n",
       "10  AmitShah News18 Rising India is a platform tha... 2023-03-29 15:17:43   \n",
       "11  As someone who is passionate about Indian poli... 2023-03-29 15:17:10   \n",
       "12  AmitShah News18 Rising India is the\\nplace to ... 2023-03-29 15:16:55   \n",
       "13  AmitShah News18 Rising India never fails to pr... 2023-03-29 15:16:36   \n",
       "14  @POTUS Under Biden politics American manufactu... 2023-03-29 15:16:33   \n",
       "\n",
       "    Prcsd_Date  Prcsd_Month  Prcsd_Year  Prcsd_Hour  \\\n",
       "0   2023-03-29            3        2023          15   \n",
       "1   2023-03-29            3        2023          15   \n",
       "2   2023-03-29            3        2023          15   \n",
       "3   2023-03-29            3        2023          15   \n",
       "4   2023-03-29            3        2023          15   \n",
       "5   2023-03-29            3        2023          15   \n",
       "6   2023-03-29            3        2023          15   \n",
       "7   2023-03-29            3        2023          15   \n",
       "8   2023-03-29            3        2023          15   \n",
       "9   2023-03-29            3        2023          15   \n",
       "10  2023-03-29            3        2023          15   \n",
       "11  2023-03-29            3        2023          15   \n",
       "12  2023-03-29            3        2023          15   \n",
       "13  2023-03-29            3        2023          15   \n",
       "14  2023-03-29            3        2023          15   \n",
       "\n",
       "                                        Cleaned_Tweet  \n",
       "0   respected indian citizens namaskaari original ...  \n",
       "1   respected indian citizens namaskaar I original...  \n",
       "2   1 meet filmmaker prakash jha new jersey talkin...  \n",
       "3   would politicians stop using religion politics...  \n",
       "4   state level president knows policy pm union mi...  \n",
       "5   ok lady issues us poke dirty nose indian polit...  \n",
       "6   pakistani indian dual nationals allowed uk pol...  \n",
       "7   pakistani indian dual nationals allowed uk pol...  \n",
       "8   pakistani indian dual nationals allowed uk pol...  \n",
       "9   problem indian politics politicians n't rememb...  \n",
       "10  amitshah news18 rising india platform showcase...  \n",
       "11  someone passionate indian politics 'm eager se...  \n",
       "12  amitshah news18 rising india place anyone want...  \n",
       "13  amitshah news18 rising india never fails provi...  \n",
       "14  biden politics american manufacturing industri...  "
      ]
     },
     "execution_count": 22,
     "metadata": {},
     "output_type": "execute_result"
    }
   ],
   "source": [
    "# Apply the preprocessing function to the 'Tweet' column with tqdm progress bar\n",
    "tqdm.pandas()\n",
    "data['Cleaned_Tweet'] = data['Tweet'].progress_apply(preprocess_and_clean_text)\n",
    "\n",
    "# Check the cleaned dataset\n",
    "data.head(15)"
   ]
  },
  {
   "cell_type": "code",
   "execution_count": 23,
   "id": "1ca0def6",
   "metadata": {},
   "outputs": [],
   "source": [
    "# Export the DataFrame to a CSV file\n",
    "data.to_csv(\"cleaned_tweets.csv\", index=False)"
   ]
  },
  {
   "cell_type": "markdown",
   "id": "e78b2bfa",
   "metadata": {},
   "source": [
    "# Classifying Sentiments"
   ]
  },
  {
   "cell_type": "code",
   "execution_count": 25,
   "id": "2c09e7d5",
   "metadata": {},
   "outputs": [
    {
     "data": {
      "text/html": [
       "<div>\n",
       "<style scoped>\n",
       "    .dataframe tbody tr th:only-of-type {\n",
       "        vertical-align: middle;\n",
       "    }\n",
       "\n",
       "    .dataframe tbody tr th {\n",
       "        vertical-align: top;\n",
       "    }\n",
       "\n",
       "    .dataframe thead th {\n",
       "        text-align: right;\n",
       "    }\n",
       "</style>\n",
       "<table border=\"1\" class=\"dataframe\">\n",
       "  <thead>\n",
       "    <tr style=\"text-align: right;\">\n",
       "      <th></th>\n",
       "      <th>Unnamed: 0</th>\n",
       "      <th>User</th>\n",
       "      <th>Tweet</th>\n",
       "      <th>Likes</th>\n",
       "      <th>Retweets</th>\n",
       "      <th>Unprocessed_Tweets</th>\n",
       "      <th>Date&amp;Time</th>\n",
       "      <th>Prcsd_Date</th>\n",
       "      <th>Prcsd_Month</th>\n",
       "      <th>Prcsd_Year</th>\n",
       "      <th>Prcsd_Hour</th>\n",
       "      <th>Cleaned_Tweet</th>\n",
       "      <th>Polarity</th>\n",
       "      <th>Sentiment</th>\n",
       "    </tr>\n",
       "  </thead>\n",
       "  <tbody>\n",
       "    <tr>\n",
       "      <th>0</th>\n",
       "      <td>0</td>\n",
       "      <td>AnandPatni8</td>\n",
       "      <td>@vinodkapri @RahulGandhi Respected Indian Citi...</td>\n",
       "      <td>0.0</td>\n",
       "      <td>0.0</td>\n",
       "      <td>@vinodkapri @RahulGandhi Respected Indian Citi...</td>\n",
       "      <td>2023-03-29 15:42:36</td>\n",
       "      <td>2023-03-29</td>\n",
       "      <td>3</td>\n",
       "      <td>2023</td>\n",
       "      <td>15</td>\n",
       "      <td>respected indian citizens namaskaari original ...</td>\n",
       "      <td>-0.062500</td>\n",
       "      <td>Negative</td>\n",
       "    </tr>\n",
       "    <tr>\n",
       "      <th>1</th>\n",
       "      <td>1</td>\n",
       "      <td>dhinamum</td>\n",
       "      <td>*Respected Indian Citizens,* Namaskaar I Am Th...</td>\n",
       "      <td>0.0</td>\n",
       "      <td>0.0</td>\n",
       "      <td>*Respected Indian Citizens,* Namaskaar I Am Th...</td>\n",
       "      <td>2023-03-29 15:42:05</td>\n",
       "      <td>2023-03-29</td>\n",
       "      <td>3</td>\n",
       "      <td>2023</td>\n",
       "      <td>15</td>\n",
       "      <td>respected indian citizens namaskaar I original...</td>\n",
       "      <td>-0.062500</td>\n",
       "      <td>Negative</td>\n",
       "    </tr>\n",
       "    <tr>\n",
       "      <th>2</th>\n",
       "      <td>2</td>\n",
       "      <td>PrincetonCGI</td>\n",
       "      <td>1/n-Meet Filmmaker Prakash Jha in New Jersey t...</td>\n",
       "      <td>0.0</td>\n",
       "      <td>0.0</td>\n",
       "      <td>1/n-Meet Filmmaker Prakash Jha in New Jersey t...</td>\n",
       "      <td>2023-03-29 15:34:29</td>\n",
       "      <td>2023-03-29</td>\n",
       "      <td>3</td>\n",
       "      <td>2023</td>\n",
       "      <td>15</td>\n",
       "      <td>1 meet filmmaker prakash jha new jersey talkin...</td>\n",
       "      <td>0.173232</td>\n",
       "      <td>Positive</td>\n",
       "    </tr>\n",
       "    <tr>\n",
       "      <th>3</th>\n",
       "      <td>3</td>\n",
       "      <td>RishiJoeSanu</td>\n",
       "      <td>@MrinalWahal Why would politicians stop using ...</td>\n",
       "      <td>0.0</td>\n",
       "      <td>0.0</td>\n",
       "      <td>@MrinalWahal Why would politicians stop using ...</td>\n",
       "      <td>2023-03-29 15:31:43</td>\n",
       "      <td>2023-03-29</td>\n",
       "      <td>3</td>\n",
       "      <td>2023</td>\n",
       "      <td>15</td>\n",
       "      <td>would politicians stop using religion politics...</td>\n",
       "      <td>0.000000</td>\n",
       "      <td>Neutral</td>\n",
       "    </tr>\n",
       "    <tr>\n",
       "      <th>4</th>\n",
       "      <td>4</td>\n",
       "      <td>itweetsensee</td>\n",
       "      <td>@annamalai_k @narendramodi A state level presi...</td>\n",
       "      <td>0.0</td>\n",
       "      <td>0.0</td>\n",
       "      <td>@annamalai_k @narendramodi A state level presi...</td>\n",
       "      <td>2023-03-29 15:26:48</td>\n",
       "      <td>2023-03-29</td>\n",
       "      <td>3</td>\n",
       "      <td>2023</td>\n",
       "      <td>15</td>\n",
       "      <td>state level president knows policy pm union mi...</td>\n",
       "      <td>0.214286</td>\n",
       "      <td>Positive</td>\n",
       "    </tr>\n",
       "    <tr>\n",
       "      <th>5</th>\n",
       "      <td>5</td>\n",
       "      <td>FreeMindKeenEye</td>\n",
       "      <td>@IAMCouncil @POTUS @Ilhan @bridgeinit OK this ...</td>\n",
       "      <td>0.0</td>\n",
       "      <td>0.0</td>\n",
       "      <td>@IAMCouncil @POTUS @Ilhan @bridgeinit OK this ...</td>\n",
       "      <td>2023-03-29 15:21:29</td>\n",
       "      <td>2023-03-29</td>\n",
       "      <td>3</td>\n",
       "      <td>2023</td>\n",
       "      <td>15</td>\n",
       "      <td>ok lady issues us poke dirty nose indian polit...</td>\n",
       "      <td>-0.033333</td>\n",
       "      <td>Negative</td>\n",
       "    </tr>\n",
       "    <tr>\n",
       "      <th>6</th>\n",
       "      <td>6</td>\n",
       "      <td>SamsSamsson6</td>\n",
       "      <td>@darrengrimes_ Why are pakistani /indian dual ...</td>\n",
       "      <td>0.0</td>\n",
       "      <td>0.0</td>\n",
       "      <td>@darrengrimes_ Why are pakistani /indian dual ...</td>\n",
       "      <td>2023-03-29 15:20:41</td>\n",
       "      <td>2023-03-29</td>\n",
       "      <td>3</td>\n",
       "      <td>2023</td>\n",
       "      <td>15</td>\n",
       "      <td>pakistani indian dual nationals allowed uk pol...</td>\n",
       "      <td>0.000000</td>\n",
       "      <td>Neutral</td>\n",
       "    </tr>\n",
       "    <tr>\n",
       "      <th>7</th>\n",
       "      <td>7</td>\n",
       "      <td>SamsSamsson6</td>\n",
       "      <td>@PeterStefanovi2 Why are pakistani /indian dua...</td>\n",
       "      <td>0.0</td>\n",
       "      <td>0.0</td>\n",
       "      <td>@PeterStefanovi2 Why are pakistani /indian dua...</td>\n",
       "      <td>2023-03-29 15:20:16</td>\n",
       "      <td>2023-03-29</td>\n",
       "      <td>3</td>\n",
       "      <td>2023</td>\n",
       "      <td>15</td>\n",
       "      <td>pakistani indian dual nationals allowed uk pol...</td>\n",
       "      <td>0.000000</td>\n",
       "      <td>Neutral</td>\n",
       "    </tr>\n",
       "    <tr>\n",
       "      <th>8</th>\n",
       "      <td>8</td>\n",
       "      <td>SamsSamsson6</td>\n",
       "      <td>Why are pakistani /indian dual nationals allow...</td>\n",
       "      <td>0.0</td>\n",
       "      <td>0.0</td>\n",
       "      <td>Why are pakistani /indian dual nationals allow...</td>\n",
       "      <td>2023-03-29 15:19:44</td>\n",
       "      <td>2023-03-29</td>\n",
       "      <td>3</td>\n",
       "      <td>2023</td>\n",
       "      <td>15</td>\n",
       "      <td>pakistani indian dual nationals allowed uk pol...</td>\n",
       "      <td>0.000000</td>\n",
       "      <td>Neutral</td>\n",
       "    </tr>\n",
       "    <tr>\n",
       "      <th>9</th>\n",
       "      <td>9</td>\n",
       "      <td>ncsukumar1</td>\n",
       "      <td>@BesuraTaansane @KartiPC @PChidambaram_IN The ...</td>\n",
       "      <td>0.0</td>\n",
       "      <td>0.0</td>\n",
       "      <td>@BesuraTaansane @KartiPC @PChidambaram_IN The ...</td>\n",
       "      <td>2023-03-29 15:19:32</td>\n",
       "      <td>2023-03-29</td>\n",
       "      <td>3</td>\n",
       "      <td>2023</td>\n",
       "      <td>15</td>\n",
       "      <td>problem indian politics politicians n't rememb...</td>\n",
       "      <td>-0.111111</td>\n",
       "      <td>Negative</td>\n",
       "    </tr>\n",
       "    <tr>\n",
       "      <th>10</th>\n",
       "      <td>10</td>\n",
       "      <td>Rishaahmed12</td>\n",
       "      <td>AmitShah News18 Rising India is a platform tha...</td>\n",
       "      <td>0.0</td>\n",
       "      <td>0.0</td>\n",
       "      <td>AmitShah News18 Rising India is a platform tha...</td>\n",
       "      <td>2023-03-29 15:17:43</td>\n",
       "      <td>2023-03-29</td>\n",
       "      <td>3</td>\n",
       "      <td>2023</td>\n",
       "      <td>15</td>\n",
       "      <td>amitshah news18 rising india platform showcase...</td>\n",
       "      <td>0.000000</td>\n",
       "      <td>Neutral</td>\n",
       "    </tr>\n",
       "    <tr>\n",
       "      <th>11</th>\n",
       "      <td>11</td>\n",
       "      <td>iRakeshtripathi</td>\n",
       "      <td>As someone who is passionate about Indian poli...</td>\n",
       "      <td>0.0</td>\n",
       "      <td>0.0</td>\n",
       "      <td>As someone who is passionate about Indian poli...</td>\n",
       "      <td>2023-03-29 15:17:10</td>\n",
       "      <td>2023-03-29</td>\n",
       "      <td>3</td>\n",
       "      <td>2023</td>\n",
       "      <td>15</td>\n",
       "      <td>someone passionate indian politics 'm eager se...</td>\n",
       "      <td>-0.025000</td>\n",
       "      <td>Negative</td>\n",
       "    </tr>\n",
       "    <tr>\n",
       "      <th>12</th>\n",
       "      <td>12</td>\n",
       "      <td>chaudharyVi1</td>\n",
       "      <td>AmitShah News18 Rising India is the\\nplace to ...</td>\n",
       "      <td>0.0</td>\n",
       "      <td>0.0</td>\n",
       "      <td>AmitShah News18 Rising India is the\\nplace to ...</td>\n",
       "      <td>2023-03-29 15:16:55</td>\n",
       "      <td>2023-03-29</td>\n",
       "      <td>3</td>\n",
       "      <td>2023</td>\n",
       "      <td>15</td>\n",
       "      <td>amitshah news18 rising india place anyone want...</td>\n",
       "      <td>0.350000</td>\n",
       "      <td>Positive</td>\n",
       "    </tr>\n",
       "    <tr>\n",
       "      <th>13</th>\n",
       "      <td>13</td>\n",
       "      <td>sandeepr2217</td>\n",
       "      <td>AmitShah News18 Rising India never fails to pr...</td>\n",
       "      <td>0.0</td>\n",
       "      <td>0.0</td>\n",
       "      <td>AmitShah News18 Rising India never fails to pr...</td>\n",
       "      <td>2023-03-29 15:16:36</td>\n",
       "      <td>2023-03-29</td>\n",
       "      <td>3</td>\n",
       "      <td>2023</td>\n",
       "      <td>15</td>\n",
       "      <td>amitshah news18 rising india never fails provi...</td>\n",
       "      <td>0.250000</td>\n",
       "      <td>Positive</td>\n",
       "    </tr>\n",
       "    <tr>\n",
       "      <th>14</th>\n",
       "      <td>14</td>\n",
       "      <td>hbkrishnachary</td>\n",
       "      <td>@POTUS Under Biden politics American manufactu...</td>\n",
       "      <td>0.0</td>\n",
       "      <td>0.0</td>\n",
       "      <td>@POTUS Under Biden politics American manufactu...</td>\n",
       "      <td>2023-03-29 15:16:33</td>\n",
       "      <td>2023-03-29</td>\n",
       "      <td>3</td>\n",
       "      <td>2023</td>\n",
       "      <td>15</td>\n",
       "      <td>biden politics american manufacturing industri...</td>\n",
       "      <td>-0.143590</td>\n",
       "      <td>Negative</td>\n",
       "    </tr>\n",
       "  </tbody>\n",
       "</table>\n",
       "</div>"
      ],
      "text/plain": [
       "   Unnamed: 0             User  \\\n",
       "0           0      AnandPatni8   \n",
       "1           1         dhinamum   \n",
       "2           2     PrincetonCGI   \n",
       "3           3     RishiJoeSanu   \n",
       "4           4     itweetsensee   \n",
       "5           5  FreeMindKeenEye   \n",
       "6           6     SamsSamsson6   \n",
       "7           7     SamsSamsson6   \n",
       "8           8     SamsSamsson6   \n",
       "9           9       ncsukumar1   \n",
       "10         10     Rishaahmed12   \n",
       "11         11  iRakeshtripathi   \n",
       "12         12     chaudharyVi1   \n",
       "13         13     sandeepr2217   \n",
       "14         14   hbkrishnachary   \n",
       "\n",
       "                                                Tweet  Likes  Retweets  \\\n",
       "0   @vinodkapri @RahulGandhi Respected Indian Citi...    0.0       0.0   \n",
       "1   *Respected Indian Citizens,* Namaskaar I Am Th...    0.0       0.0   \n",
       "2   1/n-Meet Filmmaker Prakash Jha in New Jersey t...    0.0       0.0   \n",
       "3   @MrinalWahal Why would politicians stop using ...    0.0       0.0   \n",
       "4   @annamalai_k @narendramodi A state level presi...    0.0       0.0   \n",
       "5   @IAMCouncil @POTUS @Ilhan @bridgeinit OK this ...    0.0       0.0   \n",
       "6   @darrengrimes_ Why are pakistani /indian dual ...    0.0       0.0   \n",
       "7   @PeterStefanovi2 Why are pakistani /indian dua...    0.0       0.0   \n",
       "8   Why are pakistani /indian dual nationals allow...    0.0       0.0   \n",
       "9   @BesuraTaansane @KartiPC @PChidambaram_IN The ...    0.0       0.0   \n",
       "10  AmitShah News18 Rising India is a platform tha...    0.0       0.0   \n",
       "11  As someone who is passionate about Indian poli...    0.0       0.0   \n",
       "12  AmitShah News18 Rising India is the\\nplace to ...    0.0       0.0   \n",
       "13  AmitShah News18 Rising India never fails to pr...    0.0       0.0   \n",
       "14  @POTUS Under Biden politics American manufactu...    0.0       0.0   \n",
       "\n",
       "                                   Unprocessed_Tweets           Date&Time  \\\n",
       "0   @vinodkapri @RahulGandhi Respected Indian Citi... 2023-03-29 15:42:36   \n",
       "1   *Respected Indian Citizens,* Namaskaar I Am Th... 2023-03-29 15:42:05   \n",
       "2   1/n-Meet Filmmaker Prakash Jha in New Jersey t... 2023-03-29 15:34:29   \n",
       "3   @MrinalWahal Why would politicians stop using ... 2023-03-29 15:31:43   \n",
       "4   @annamalai_k @narendramodi A state level presi... 2023-03-29 15:26:48   \n",
       "5   @IAMCouncil @POTUS @Ilhan @bridgeinit OK this ... 2023-03-29 15:21:29   \n",
       "6   @darrengrimes_ Why are pakistani /indian dual ... 2023-03-29 15:20:41   \n",
       "7   @PeterStefanovi2 Why are pakistani /indian dua... 2023-03-29 15:20:16   \n",
       "8   Why are pakistani /indian dual nationals allow... 2023-03-29 15:19:44   \n",
       "9   @BesuraTaansane @KartiPC @PChidambaram_IN The ... 2023-03-29 15:19:32   \n",
       "10  AmitShah News18 Rising India is a platform tha... 2023-03-29 15:17:43   \n",
       "11  As someone who is passionate about Indian poli... 2023-03-29 15:17:10   \n",
       "12  AmitShah News18 Rising India is the\\nplace to ... 2023-03-29 15:16:55   \n",
       "13  AmitShah News18 Rising India never fails to pr... 2023-03-29 15:16:36   \n",
       "14  @POTUS Under Biden politics American manufactu... 2023-03-29 15:16:33   \n",
       "\n",
       "    Prcsd_Date  Prcsd_Month  Prcsd_Year  Prcsd_Hour  \\\n",
       "0   2023-03-29            3        2023          15   \n",
       "1   2023-03-29            3        2023          15   \n",
       "2   2023-03-29            3        2023          15   \n",
       "3   2023-03-29            3        2023          15   \n",
       "4   2023-03-29            3        2023          15   \n",
       "5   2023-03-29            3        2023          15   \n",
       "6   2023-03-29            3        2023          15   \n",
       "7   2023-03-29            3        2023          15   \n",
       "8   2023-03-29            3        2023          15   \n",
       "9   2023-03-29            3        2023          15   \n",
       "10  2023-03-29            3        2023          15   \n",
       "11  2023-03-29            3        2023          15   \n",
       "12  2023-03-29            3        2023          15   \n",
       "13  2023-03-29            3        2023          15   \n",
       "14  2023-03-29            3        2023          15   \n",
       "\n",
       "                                        Cleaned_Tweet  Polarity Sentiment  \n",
       "0   respected indian citizens namaskaari original ... -0.062500  Negative  \n",
       "1   respected indian citizens namaskaar I original... -0.062500  Negative  \n",
       "2   1 meet filmmaker prakash jha new jersey talkin...  0.173232  Positive  \n",
       "3   would politicians stop using religion politics...  0.000000   Neutral  \n",
       "4   state level president knows policy pm union mi...  0.214286  Positive  \n",
       "5   ok lady issues us poke dirty nose indian polit... -0.033333  Negative  \n",
       "6   pakistani indian dual nationals allowed uk pol...  0.000000   Neutral  \n",
       "7   pakistani indian dual nationals allowed uk pol...  0.000000   Neutral  \n",
       "8   pakistani indian dual nationals allowed uk pol...  0.000000   Neutral  \n",
       "9   problem indian politics politicians n't rememb... -0.111111  Negative  \n",
       "10  amitshah news18 rising india platform showcase...  0.000000   Neutral  \n",
       "11  someone passionate indian politics 'm eager se... -0.025000  Negative  \n",
       "12  amitshah news18 rising india place anyone want...  0.350000  Positive  \n",
       "13  amitshah news18 rising india never fails provi...  0.250000  Positive  \n",
       "14  biden politics american manufacturing industri... -0.143590  Negative  "
      ]
     },
     "execution_count": 25,
     "metadata": {},
     "output_type": "execute_result"
    }
   ],
   "source": [
    "# Creating a function to get sentiment polarity\n",
    "def get_polarity(tweet):\n",
    "    analysis = TextBlob(tweet)\n",
    "    return analysis.sentiment.polarity\n",
    "\n",
    "# Creating a function to get sentiment\n",
    "def get_sentiment(polarity):\n",
    "    if polarity > 0:\n",
    "        return \"Positive\"\n",
    "    elif polarity < 0:\n",
    "        return \"Negative\"\n",
    "    else:\n",
    "        return \"Neutral\"\n",
    "\n",
    "tqdm.pandas()\n",
    "# Applying the functions to the 'Cleaned_Tweet' column to create 'Polarity' and 'Sentiment' columns\n",
    "data['Polarity'] = data['Cleaned_Tweet'].apply(get_polarity)\n",
    "data['Sentiment'] = data['Polarity'].apply(get_sentiment)\n",
    "\n",
    "# Checking the DataFrame with the new columns\n",
    "data.head(15)"
   ]
  },
  {
   "cell_type": "code",
   "execution_count": 26,
   "id": "ccc5715a",
   "metadata": {},
   "outputs": [],
   "source": [
    "# Exporting the DataFrame to a CSV file\n",
    "data.to_csv(\"Classified_tweets.csv\", index=False)"
   ]
  },
  {
   "cell_type": "markdown",
   "id": "acfa3734",
   "metadata": {},
   "source": [
    "# Exploratory Data Analysis:"
   ]
  },
  {
   "cell_type": "code",
   "execution_count": 83,
   "id": "d9c803db",
   "metadata": {},
   "outputs": [
    {
     "data": {
      "image/png": "[encoded data removed]",
      "text/plain": [
       "<Figure size 600x800 with 1 Axes>"
      ]
     },
     "metadata": {},
     "output_type": "display_data"
    }
   ],
   "source": [
    "import seaborn as sns\n",
    "import matplotlib.pyplot as plt\n",
    "\n",
    "# Counting the occurrences of each sentiment category\n",
    "sentiment_counts = data['Sentiment'].value_counts()\n",
    "\n",
    "# Setting color hex codes for each sentiment category\n",
    "colors = ['#43CD80', '#87CEFA', '#FF6A6A']  # You can customize the colors\n",
    "\n",
    "# Creating a pie chart\n",
    "plt.figure(figsize=(6, 8))\n",
    "plt.pie(sentiment_counts, labels=sentiment_counts.index, colors=colors, autopct='%1.1f%%', startangle=140)\n",
    "plt.title('Pie Chart')\n",
    "plt.legend(sentiment_counts.index, loc='upper right')\n",
    "plt.axis('equal')  # Equal aspect ratio ensures that pie is drawn as a circle\n",
    "\n",
    "#displaying the pie chart\n",
    "plt.show()"
   ]
  },
  {
   "cell_type": "code",
   "execution_count": 84,
   "id": "1b7bb7a9",
   "metadata": {},
   "outputs": [
    {
     "data": {
      "image/png": "[encoded data removed]",
      "text/plain": [
       "<Figure size 1000x600 with 1 Axes>"
      ]
     },
     "metadata": {},
     "output_type": "display_data"
    }
   ],
   "source": [
    "# Creating a bar chart\n",
    "plt.figure(figsize=(10, 6))\n",
    "sns.countplot(data=data, x='Sentiment', palette=colors)\n",
    "plt.title('Sentiment Distribution')\n",
    "plt.xlabel('Sentiment')\n",
    "plt.ylabel('Count')\n",
    "# Show the bar chart\n",
    "plt.show()"
   ]
  },
  {
   "cell_type": "code",
   "execution_count": 70,
   "id": "17ca5a24",
   "metadata": {},
   "outputs": [
    {
     "data": {
      "image/png": "[encoded data removed]",
      "text/plain": [
       "<Figure size 800x600 with 2 Axes>"
      ]
     },
     "metadata": {},
     "output_type": "display_data"
    }
   ],
   "source": [
    "# Correlation Heatmap\n",
    "plt.figure(figsize=(8, 6))\n",
    "correlation_matrix = data[['Likes', 'Retweets', 'Polarity']].corr()\n",
    "sns.heatmap(correlation_matrix, annot=True, cmap='coolwarm')\n",
    "plt.title('Correlation Heatmap')\n",
    "plt.show()"
   ]
  },
  {
   "cell_type": "code",
   "execution_count": 71,
   "id": "06f3f1bd",
   "metadata": {},
   "outputs": [
    {
     "data": {
      "image/png": "[encoded data removed]",
      "text/plain": [
       "<Figure size 1000x500 with 1 Axes>"
      ]
     },
     "metadata": {},
     "output_type": "display_data"
    }
   ],
   "source": [
    "# Time Series Analysis - Likes and Retweets over Months\n",
    "monthly_likes_retweets = data.groupby('Prcsd_Month')[['Likes', 'Retweets']].sum()\n",
    "plt.figure(figsize=(10, 5))\n",
    "sns.lineplot(data=monthly_likes_retweets, markers=True,)\n",
    "plt.title('Likes and Retweets Over Months')\n",
    "plt.xlabel('Month')\n",
    "plt.ylabel('Count')\n",
    "plt.legend(['Likes', 'Retweets'])\n",
    "plt.show()"
   ]
  },
  {
   "cell_type": "code",
   "execution_count": 44,
   "id": "d8a7f3c1",
   "metadata": {},
   "outputs": [
    {
     "data": {
      "image/png": "[encoded data removed]",
      "text/plain": [
       "<Figure size 1000x600 with 1 Axes>"
      ]
     },
     "metadata": {},
     "output_type": "display_data"
    }
   ],
   "source": [
    "# User Analysis - Number of Tweets by Each User\n",
    "user_tweet_counts = data['User'].value_counts()\n",
    "plt.figure(figsize=(10, 6))\n",
    "sns.barplot(x=user_tweet_counts.index[:10], y=user_tweet_counts.values[:10], palette='viridis')\n",
    "plt.title('Top 10 Users with Most Tweets')\n",
    "plt.xlabel('User')\n",
    "plt.ylabel('Number of Tweets')\n",
    "plt.xticks(rotation=45)\n",
    "plt.show()"
   ]
  },
  {
   "cell_type": "code",
   "execution_count": 85,
   "id": "1b6dfd25",
   "metadata": {},
   "outputs": [
    {
     "data": {
      "image/png": "[encoded data removed]",
      "text/plain": [
       "<Figure size 1200x600 with 1 Axes>"
      ]
     },
     "metadata": {},
     "output_type": "display_data"
    }
   ],
   "source": [
    "# Define color codes for sentiments\n",
    "sentiment_colors = {\n",
    "    'Positive': '#43CD80',\n",
    "    'Negative': '#FF6A6A',\n",
    "    'Neutral': '#87CEFF'\n",
    "}\n",
    "# Sentiment Distribution Over Time - Line Plot\n",
    "sentiment_over_time = data.groupby(['Prcsd_Year', 'Prcsd_Month', 'Sentiment']).size().reset_index(name='Count')\n",
    "plt.figure(figsize=(12, 6))\n",
    "sns.lineplot(data=sentiment_over_time, x='Prcsd_Month', y='Count', hue='Sentiment', markers=True, palette=sentiment_colors)\n",
    "plt.title('Sentiment Distribution Over Months')\n",
    "plt.xlabel('Month')\n",
    "plt.ylabel('Count')\n",
    "plt.legend(title='Sentiment')\n",
    "plt.show()"
   ]
  },
  {
   "cell_type": "code",
   "execution_count": 86,
   "id": "b69eefba",
   "metadata": {},
   "outputs": [
    {
     "data": {
      "image/png": "[encoded data removed]",
      "text/plain": [
       "<Figure size 800x600 with 1 Axes>"
      ]
     },
     "metadata": {},
     "output_type": "display_data"
    }
   ],
   "source": [
    "# Likes vs. Retweets Analysis - Scatter Plot\n",
    "plt.figure(figsize=(8, 6))\n",
    "sns.scatterplot(data=data, x='Likes', y='Retweets', hue='Sentiment', palette=sentiment_colors, alpha=0.6)\n",
    "plt.title('Likes vs. Retweets')\n",
    "plt.xlabel('Likes')\n",
    "plt.ylabel('Retweets')\n",
    "plt.legend(title='Sentiment')\n",
    "plt.show()"
   ]
  },
  {
   "cell_type": "code",
   "execution_count": 87,
   "id": "fd5ff8e8",
   "metadata": {},
   "outputs": [
    {
     "data": {
      "image/png": "[encoded data removed]",
      "text/plain": [
       "<Figure size 1200x600 with 1 Axes>"
      ]
     },
     "metadata": {},
     "output_type": "display_data"
    },
    {
     "name": "stdout",
     "output_type": "stream",
     "text": [
      "Total Positive Tweets: 1325\n",
      "Total Negative Tweets: 794\n",
      "Total Neutral Tweets: 870\n"
     ]
    }
   ],
   "source": [
    "# Hourly Sentiment Distribution - Line Plot\n",
    "hourly_sentiments = data[['Prcsd_Hour', 'Sentiment']]\n",
    "hourly_sentiment_counts = hourly_sentiments.groupby(['Prcsd_Hour', 'Sentiment']).size().reset_index(name='Count')\n",
    "plt.figure(figsize=(12, 6))\n",
    "sns.lineplot(data=hourly_sentiment_counts, x='Prcsd_Hour', y='Count', hue='Sentiment', markers=True, palette=sentiment_colors)\n",
    "plt.title('Hourly Sentiment Distribution')\n",
    "plt.xlabel('Hour of the Day')\n",
    "plt.ylabel('Number of Tweets')\n",
    "plt.legend(title='Sentiment')\n",
    "\n",
    "# Highlight the hour with the most tweets\n",
    "most_tweeted_hour = hourly_sentiment_counts.loc[hourly_sentiment_counts['Count'].idxmax()]['Prcsd_Hour']\n",
    "most_tweets_count = hourly_sentiment_counts['Count'].max()\n",
    "plt.axvline(x=most_tweeted_hour, color='red', linestyle='--', label=f'Most Tweeted Hour ({most_tweets_count} tweets)')\n",
    "plt.legend()\n",
    "plt.show()\n",
    "\n",
    "print(f\"Total Positive Tweets: {positive_tweets}\")\n",
    "print(f\"Total Negative Tweets: {negative_tweets}\")\n",
    "print(f\"Total Neutral Tweets: {neutral_tweets}\")"
   ]
  },
  {
   "cell_type": "code",
   "execution_count": 88,
   "id": "51199adf",
   "metadata": {},
   "outputs": [
    {
     "data": {
      "application/vnd.plotly.v1+json": {
       "config": {
        "plotlyServerURL": "https://plot.ly"
       },
       "data": [
        {
         "legendgroup": "Positive",
         "line": {
          "dash": "solid"
         },
         "marker": {
          "color": "#43CD80"
         },
         "name": "Positive",
         "r": [
          381,
          520,
          737,
          1065,
          1185,
          1316,
          1365,
          1239,
          1144,
          1067,
          1077,
          1088,
          1086,
          1228,
          1442,
          1325,
          1236,
          1182,
          939,
          623,
          478,
          311,
          277,
          270
         ],
         "theta": [
          "00:00",
          "01:00",
          "02:00",
          "03:00",
          "04:00",
          "05:00",
          "06:00",
          "07:00",
          "08:00",
          "09:00",
          "10:00",
          "11:00",
          "12:00",
          "13:00",
          "14:00",
          "15:00",
          "16:00",
          "17:00",
          "18:00",
          "19:00",
          "20:00",
          "21:00",
          "22:00",
          "23:00"
         ],
         "type": "scatterpolar"
        },
        {
         "legendgroup": "Negative",
         "line": {
          "dash": "dash"
         },
         "marker": {
          "color": "#FF6A6A"
         },
         "name": "Negative",
         "r": [
          206,
          314,
          492,
          566,
          615,
          723,
          741,
          698,
          583,
          616,
          634,
          604,
          656,
          654,
          675,
          794,
          746,
          706,
          545,
          377,
          257,
          209,
          183,
          191
         ],
         "theta": [
          "00:00",
          "01:00",
          "02:00",
          "03:00",
          "04:00",
          "05:00",
          "06:00",
          "07:00",
          "08:00",
          "09:00",
          "10:00",
          "11:00",
          "12:00",
          "13:00",
          "14:00",
          "15:00",
          "16:00",
          "17:00",
          "18:00",
          "19:00",
          "20:00",
          "21:00",
          "22:00",
          "23:00"
         ],
         "type": "scatterpolar"
        },
        {
         "legendgroup": "Neutral",
         "line": {
          "dash": "dot"
         },
         "marker": {
          "color": "#87CEFF"
         },
         "name": "Neutral",
         "r": [
          212,
          286,
          464,
          668,
          859,
          900,
          875,
          780,
          770,
          737,
          668,
          746,
          766,
          822,
          857,
          870,
          839,
          779,
          611,
          376,
          256,
          178,
          167,
          147
         ],
         "theta": [
          "00:00",
          "01:00",
          "02:00",
          "03:00",
          "04:00",
          "05:00",
          "06:00",
          "07:00",
          "08:00",
          "09:00",
          "10:00",
          "11:00",
          "12:00",
          "13:00",
          "14:00",
          "15:00",
          "16:00",
          "17:00",
          "18:00",
          "19:00",
          "20:00",
          "21:00",
          "22:00",
          "23:00"
         ],
         "type": "scatterpolar"
        },
        {
         "legendgroup": "Most Tweeted Hour",
         "line": {
          "color": "red",
          "width": 2
         },
         "mode": "lines+text",
         "r": [
          1442,
          1442,
          1442
         ],
         "text": [
          "Most Tweeted Hour (1442 tweets)",
          "Most Tweeted Hour (1442 tweets)",
          "Most Tweeted Hour (1442 tweets)"
         ],
         "textposition": "bottom center",
         "theta": [
          "14:00",
          "14:00",
          "14:00"
         ],
         "type": "scatterpolar"
        }
       ],
       "layout": {
        "legend": {
         "x": 0.85,
         "y": 0.95
        },
        "polar": {
         "angularaxis": {
          "direction": "clockwise",
          "showline": false,
          "ticktext": [
           "00:00",
           "01:00",
           "02:00",
           "03:00",
           "04:00",
           "05:00",
           "06:00",
           "07:00",
           "08:00",
           "09:00",
           "10:00",
           "11:00",
           "12:00",
           "13:00",
           "14:00",
           "15:00",
           "16:00",
           "17:00",
           "18:00",
           "19:00",
           "20:00",
           "21:00",
           "22:00",
           "23:00"
          ],
          "tickvals": [
           0,
           1,
           2,
           3,
           4,
           5,
           6,
           7,
           8,
           9,
           10,
           11,
           12,
           13,
           14,
           15,
           16,
           17,
           18,
           19,
           20,
           21,
           22,
           23
          ]
         }
        },
        "template": {
         "data": {
          "bar": [
           {
            "error_x": {
             "color": "#2a3f5f"
            },
            "error_y": {
             "color": "#2a3f5f"
            },
            "marker": {
             "line": {
              "color": "#E5ECF6",
              "width": 0.5
             },
             "pattern": {
              "fillmode": "overlay",
              "size": 10,
              "solidity": 0.2
             }
            },
            "type": "bar"
           }
          ],
          "barpolar": [
           {
            "marker": {
             "line": {
              "color": "#E5ECF6",
              "width": 0.5
             },
             "pattern": {
              "fillmode": "overlay",
              "size": 10,
              "solidity": 0.2
             }
            },
            "type": "barpolar"
           }
          ],
          "carpet": [
           {
            "aaxis": {
             "endlinecolor": "#2a3f5f",
             "gridcolor": "white",
             "linecolor": "white",
             "minorgridcolor": "white",
             "startlinecolor": "#2a3f5f"
            },
            "baxis": {
             "endlinecolor": "#2a3f5f",
             "gridcolor": "white",
             "linecolor": "white",
             "minorgridcolor": "white",
             "startlinecolor": "#2a3f5f"
            },
            "type": "carpet"
           }
          ],
          "choropleth": [
           {
            "colorbar": {
             "outlinewidth": 0,
             "ticks": ""
            },
            "type": "choropleth"
           }
          ],
          "contour": [
           {
            "colorbar": {
             "outlinewidth": 0,
             "ticks": ""
            },
            "colorscale": [
             [
              0,
              "#0d0887"
             ],
             [
              0.1111111111111111,
              "#46039f"
             ],
             [
              0.2222222222222222,
              "#7201a8"
             ],
             [
              0.3333333333333333,
              "#9c179e"
             ],
             [
              0.4444444444444444,
              "#bd3786"
             ],
             [
              0.5555555555555556,
              "#d8576b"
             ],
             [
              0.6666666666666666,
              "#ed7953"
             ],
             [
              0.7777777777777778,
              "#fb9f3a"
             ],
             [
              0.8888888888888888,
              "#fdca26"
             ],
             [
              1,
              "#f0f921"
             ]
            ],
            "type": "contour"
           }
          ],
          "contourcarpet": [
           {
            "colorbar": {
             "outlinewidth": 0,
             "ticks": ""
            },
            "type": "contourcarpet"
           }
          ],
          "heatmap": [
           {
            "colorbar": {
             "outlinewidth": 0,
             "ticks": ""
            },
            "colorscale": [
             [
              0,
              "#0d0887"
             ],
             [
              0.1111111111111111,
              "#46039f"
             ],
             [
              0.2222222222222222,
              "#7201a8"
             ],
             [
              0.3333333333333333,
              "#9c179e"
             ],
             [
              0.4444444444444444,
              "#bd3786"
             ],
             [
              0.5555555555555556,
              "#d8576b"
             ],
             [
              0.6666666666666666,
              "#ed7953"
             ],
             [
              0.7777777777777778,
              "#fb9f3a"
             ],
             [
              0.8888888888888888,
              "#fdca26"
             ],
             [
              1,
              "#f0f921"
             ]
            ],
            "type": "heatmap"
           }
          ],
          "heatmapgl": [
           {
            "colorbar": {
             "outlinewidth": 0,
             "ticks": ""
            },
            "colorscale": [
             [
              0,
              "#0d0887"
             ],
             [
              0.1111111111111111,
              "#46039f"
             ],
             [
              0.2222222222222222,
              "#7201a8"
             ],
             [
              0.3333333333333333,
              "#9c179e"
             ],
             [
              0.4444444444444444,
              "#bd3786"
             ],
             [
              0.5555555555555556,
              "#d8576b"
             ],
             [
              0.6666666666666666,
              "#ed7953"
             ],
             [
              0.7777777777777778,
              "#fb9f3a"
             ],
             [
              0.8888888888888888,
              "#fdca26"
             ],
             [
              1,
              "#f0f921"
             ]
            ],
            "type": "heatmapgl"
           }
          ],
          "histogram": [
           {
            "marker": {
             "pattern": {
              "fillmode": "overlay",
              "size": 10,
              "solidity": 0.2
             }
            },
            "type": "histogram"
           }
          ],
          "histogram2d": [
           {
            "colorbar": {
             "outlinewidth": 0,
             "ticks": ""
            },
            "colorscale": [
             [
              0,
              "#0d0887"
             ],
             [
              0.1111111111111111,
              "#46039f"
             ],
             [
              0.2222222222222222,
              "#7201a8"
             ],
             [
              0.3333333333333333,
              "#9c179e"
             ],
             [
              0.4444444444444444,
              "#bd3786"
             ],
             [
              0.5555555555555556,
              "#d8576b"
             ],
             [
              0.6666666666666666,
              "#ed7953"
             ],
             [
              0.7777777777777778,
              "#fb9f3a"
             ],
             [
              0.8888888888888888,
              "#fdca26"
             ],
             [
              1,
              "#f0f921"
             ]
            ],
            "type": "histogram2d"
           }
          ],
          "histogram2dcontour": [
           {
            "colorbar": {
             "outlinewidth": 0,
             "ticks": ""
            },
            "colorscale": [
             [
              0,
              "#0d0887"
             ],
             [
              0.1111111111111111,
              "#46039f"
             ],
             [
              0.2222222222222222,
              "#7201a8"
             ],
             [
              0.3333333333333333,
              "#9c179e"
             ],
             [
              0.4444444444444444,
              "#bd3786"
             ],
             [
              0.5555555555555556,
              "#d8576b"
             ],
             [
              0.6666666666666666,
              "#ed7953"
             ],
             [
              0.7777777777777778,
              "#fb9f3a"
             ],
             [
              0.8888888888888888,
              "#fdca26"
             ],
             [
              1,
              "#f0f921"
             ]
            ],
            "type": "histogram2dcontour"
           }
          ],
          "mesh3d": [
           {
            "colorbar": {
             "outlinewidth": 0,
             "ticks": ""
            },
            "type": "mesh3d"
           }
          ],
          "parcoords": [
           {
            "line": {
             "colorbar": {
              "outlinewidth": 0,
              "ticks": ""
             }
            },
            "type": "parcoords"
           }
          ],
          "pie": [
           {
            "automargin": true,
            "type": "pie"
           }
          ],
          "scatter": [
           {
            "fillpattern": {
             "fillmode": "overlay",
             "size": 10,
             "solidity": 0.2
            },
            "type": "scatter"
           }
          ],
          "scatter3d": [
           {
            "line": {
             "colorbar": {
              "outlinewidth": 0,
              "ticks": ""
             }
            },
            "marker": {
             "colorbar": {
              "outlinewidth": 0,
              "ticks": ""
             }
            },
            "type": "scatter3d"
           }
          ],
          "scattercarpet": [
           {
            "marker": {
             "colorbar": {
              "outlinewidth": 0,
              "ticks": ""
             }
            },
            "type": "scattercarpet"
           }
          ],
          "scattergeo": [
           {
            "marker": {
             "colorbar": {
              "outlinewidth": 0,
              "ticks": ""
             }
            },
            "type": "scattergeo"
           }
          ],
          "scattergl": [
           {
            "marker": {
             "colorbar": {
              "outlinewidth": 0,
              "ticks": ""
             }
            },
            "type": "scattergl"
           }
          ],
          "scattermapbox": [
           {
            "marker": {
             "colorbar": {
              "outlinewidth": 0,
              "ticks": ""
             }
            },
            "type": "scattermapbox"
           }
          ],
          "scatterpolar": [
           {
            "marker": {
             "colorbar": {
              "outlinewidth": 0,
              "ticks": ""
             }
            },
            "type": "scatterpolar"
           }
          ],
          "scatterpolargl": [
           {
            "marker": {
             "colorbar": {
              "outlinewidth": 0,
              "ticks": ""
             }
            },
            "type": "scatterpolargl"
           }
          ],
          "scatterternary": [
           {
            "marker": {
             "colorbar": {
              "outlinewidth": 0,
              "ticks": ""
             }
            },
            "type": "scatterternary"
           }
          ],
          "surface": [
           {
            "colorbar": {
             "outlinewidth": 0,
             "ticks": ""
            },
            "colorscale": [
             [
              0,
              "#0d0887"
             ],
             [
              0.1111111111111111,
              "#46039f"
             ],
             [
              0.2222222222222222,
              "#7201a8"
             ],
             [
              0.3333333333333333,
              "#9c179e"
             ],
             [
              0.4444444444444444,
              "#bd3786"
             ],
             [
              0.5555555555555556,
              "#d8576b"
             ],
             [
              0.6666666666666666,
              "#ed7953"
             ],
             [
              0.7777777777777778,
              "#fb9f3a"
             ],
             [
              0.8888888888888888,
              "#fdca26"
             ],
             [
              1,
              "#f0f921"
             ]
            ],
            "type": "surface"
           }
          ],
          "table": [
           {
            "cells": {
             "fill": {
              "color": "#EBF0F8"
             },
             "line": {
              "color": "white"
             }
            },
            "header": {
             "fill": {
              "color": "#C8D4E3"
             },
             "line": {
              "color": "white"
             }
            },
            "type": "table"
           }
          ]
         },
         "layout": {
          "annotationdefaults": {
           "arrowcolor": "#2a3f5f",
           "arrowhead": 0,
           "arrowwidth": 1
          },
          "autotypenumbers": "strict",
          "coloraxis": {
           "colorbar": {
            "outlinewidth": 0,
            "ticks": ""
           }
          },
          "colorscale": {
           "diverging": [
            [
             0,
             "#8e0152"
            ],
            [
             0.1,
             "#c51b7d"
            ],
            [
             0.2,
             "#de77ae"
            ],
            [
             0.3,
             "#f1b6da"
            ],
            [
             0.4,
             "#fde0ef"
            ],
            [
             0.5,
             "#f7f7f7"
            ],
            [
             0.6,
             "#e6f5d0"
            ],
            [
             0.7,
             "#b8e186"
            ],
            [
             0.8,
             "#7fbc41"
            ],
            [
             0.9,
             "#4d9221"
            ],
            [
             1,
             "#276419"
            ]
           ],
           "sequential": [
            [
             0,
             "#0d0887"
            ],
            [
             0.1111111111111111,
             "#46039f"
            ],
            [
             0.2222222222222222,
             "#7201a8"
            ],
            [
             0.3333333333333333,
             "#9c179e"
            ],
            [
             0.4444444444444444,
             "#bd3786"
            ],
            [
             0.5555555555555556,
             "#d8576b"
            ],
            [
             0.6666666666666666,
             "#ed7953"
            ],
            [
             0.7777777777777778,
             "#fb9f3a"
            ],
            [
             0.8888888888888888,
             "#fdca26"
            ],
            [
             1,
             "#f0f921"
            ]
           ],
           "sequentialminus": [
            [
             0,
             "#0d0887"
            ],
            [
             0.1111111111111111,
             "#46039f"
            ],
            [
             0.2222222222222222,
             "#7201a8"
            ],
            [
             0.3333333333333333,
             "#9c179e"
            ],
            [
             0.4444444444444444,
             "#bd3786"
            ],
            [
             0.5555555555555556,
             "#d8576b"
            ],
            [
             0.6666666666666666,
             "#ed7953"
            ],
            [
             0.7777777777777778,
             "#fb9f3a"
            ],
            [
             0.8888888888888888,
             "#fdca26"
            ],
            [
             1,
             "#f0f921"
            ]
           ]
          },
          "colorway": [
           "#636efa",
           "#EF553B",
           "#00cc96",
           "#ab63fa",
           "#FFA15A",
           "#19d3f3",
           "#FF6692",
           "#B6E880",
           "#FF97FF",
           "#FECB52"
          ],
          "font": {
           "color": "#2a3f5f"
          },
          "geo": {
           "bgcolor": "white",
           "lakecolor": "white",
           "landcolor": "#E5ECF6",
           "showlakes": true,
           "showland": true,
           "subunitcolor": "white"
          },
          "hoverlabel": {
           "align": "left"
          },
          "hovermode": "closest",
          "mapbox": {
           "style": "light"
          },
          "paper_bgcolor": "white",
          "plot_bgcolor": "#E5ECF6",
          "polar": {
           "angularaxis": {
            "gridcolor": "white",
            "linecolor": "white",
            "ticks": ""
           },
           "bgcolor": "#E5ECF6",
           "radialaxis": {
            "gridcolor": "white",
            "linecolor": "white",
            "ticks": ""
           }
          },
          "scene": {
           "xaxis": {
            "backgroundcolor": "#E5ECF6",
            "gridcolor": "white",
            "gridwidth": 2,
            "linecolor": "white",
            "showbackground": true,
            "ticks": "",
            "zerolinecolor": "white"
           },
           "yaxis": {
            "backgroundcolor": "#E5ECF6",
            "gridcolor": "white",
            "gridwidth": 2,
            "linecolor": "white",
            "showbackground": true,
            "ticks": "",
            "zerolinecolor": "white"
           },
           "zaxis": {
            "backgroundcolor": "#E5ECF6",
            "gridcolor": "white",
            "gridwidth": 2,
            "linecolor": "white",
            "showbackground": true,
            "ticks": "",
            "zerolinecolor": "white"
           }
          },
          "shapedefaults": {
           "line": {
            "color": "#2a3f5f"
           }
          },
          "ternary": {
           "aaxis": {
            "gridcolor": "white",
            "linecolor": "white",
            "ticks": ""
           },
           "baxis": {
            "gridcolor": "white",
            "linecolor": "white",
            "ticks": ""
           },
           "bgcolor": "#E5ECF6",
           "caxis": {
            "gridcolor": "white",
            "linecolor": "white",
            "ticks": ""
           }
          },
          "title": {
           "x": 0.05
          },
          "xaxis": {
           "automargin": true,
           "gridcolor": "white",
           "linecolor": "white",
           "ticks": "",
           "title": {
            "standoff": 15
           },
           "zerolinecolor": "white",
           "zerolinewidth": 2
          },
          "yaxis": {
           "automargin": true,
           "gridcolor": "white",
           "linecolor": "white",
           "ticks": "",
           "title": {
            "standoff": 15
           },
           "zerolinecolor": "white",
           "zerolinewidth": 2
          }
         }
        },
        "title": {
         "text": "Time of Day - Number of Positive, Negative, and Neutral Tweets",
         "x": 0.5
        }
       }
      },
      "text/html": [
       "<div>                            <div id=\"70a15148-cfa7-40a3-b68e-a320c247dd41\" class=\"plotly-graph-div\" style=\"height:525px; width:100%;\"></div>            <script type=\"text/javascript\">                require([\"plotly\"], function(Plotly) {                    window.PLOTLYENV=window.PLOTLYENV || {};                                    if (document.getElementById(\"70a15148-cfa7-40a3-b68e-a320c247dd41\")) {                    Plotly.newPlot(                        \"70a15148-cfa7-40a3-b68e-a320c247dd41\",                        [{\"legendgroup\":\"Positive\",\"line\":{\"dash\":\"solid\"},\"marker\":{\"color\":\"#43CD80\"},\"name\":\"Positive\",\"r\":[381,520,737,1065,1185,1316,1365,1239,1144,1067,1077,1088,1086,1228,1442,1325,1236,1182,939,623,478,311,277,270],\"theta\":[\"00:00\",\"01:00\",\"02:00\",\"03:00\",\"04:00\",\"05:00\",\"06:00\",\"07:00\",\"08:00\",\"09:00\",\"10:00\",\"11:00\",\"12:00\",\"13:00\",\"14:00\",\"15:00\",\"16:00\",\"17:00\",\"18:00\",\"19:00\",\"20:00\",\"21:00\",\"22:00\",\"23:00\"],\"type\":\"scatterpolar\"},{\"legendgroup\":\"Negative\",\"line\":{\"dash\":\"dash\"},\"marker\":{\"color\":\"#FF6A6A\"},\"name\":\"Negative\",\"r\":[206,314,492,566,615,723,741,698,583,616,634,604,656,654,675,794,746,706,545,377,257,209,183,191],\"theta\":[\"00:00\",\"01:00\",\"02:00\",\"03:00\",\"04:00\",\"05:00\",\"06:00\",\"07:00\",\"08:00\",\"09:00\",\"10:00\",\"11:00\",\"12:00\",\"13:00\",\"14:00\",\"15:00\",\"16:00\",\"17:00\",\"18:00\",\"19:00\",\"20:00\",\"21:00\",\"22:00\",\"23:00\"],\"type\":\"scatterpolar\"},{\"legendgroup\":\"Neutral\",\"line\":{\"dash\":\"dot\"},\"marker\":{\"color\":\"#87CEFF\"},\"name\":\"Neutral\",\"r\":[212,286,464,668,859,900,875,780,770,737,668,746,766,822,857,870,839,779,611,376,256,178,167,147],\"theta\":[\"00:00\",\"01:00\",\"02:00\",\"03:00\",\"04:00\",\"05:00\",\"06:00\",\"07:00\",\"08:00\",\"09:00\",\"10:00\",\"11:00\",\"12:00\",\"13:00\",\"14:00\",\"15:00\",\"16:00\",\"17:00\",\"18:00\",\"19:00\",\"20:00\",\"21:00\",\"22:00\",\"23:00\"],\"type\":\"scatterpolar\"},{\"legendgroup\":\"Most Tweeted Hour\",\"line\":{\"color\":\"red\",\"width\":2},\"mode\":\"lines+text\",\"r\":[1442,1442,1442],\"text\":[\"Most Tweeted Hour (1442 tweets)\",\"Most Tweeted Hour (1442 tweets)\",\"Most Tweeted Hour (1442 tweets)\"],\"textposition\":\"bottom center\",\"theta\":[\"14:00\",\"14:00\",\"14:00\"],\"type\":\"scatterpolar\"}],                        {\"template\":{\"data\":{\"histogram2dcontour\":[{\"type\":\"histogram2dcontour\",\"colorbar\":{\"outlinewidth\":0,\"ticks\":\"\"},\"colorscale\":[[0.0,\"#0d0887\"],[0.1111111111111111,\"#46039f\"],[0.2222222222222222,\"#7201a8\"],[0.3333333333333333,\"#9c179e\"],[0.4444444444444444,\"#bd3786\"],[0.5555555555555556,\"#d8576b\"],[0.6666666666666666,\"#ed7953\"],[0.7777777777777778,\"#fb9f3a\"],[0.8888888888888888,\"#fdca26\"],[1.0,\"#f0f921\"]]}],\"choropleth\":[{\"type\":\"choropleth\",\"colorbar\":{\"outlinewidth\":0,\"ticks\":\"\"}}],\"histogram2d\":[{\"type\":\"histogram2d\",\"colorbar\":{\"outlinewidth\":0,\"ticks\":\"\"},\"colorscale\":[[0.0,\"#0d0887\"],[0.1111111111111111,\"#46039f\"],[0.2222222222222222,\"#7201a8\"],[0.3333333333333333,\"#9c179e\"],[0.4444444444444444,\"#bd3786\"],[0.5555555555555556,\"#d8576b\"],[0.6666666666666666,\"#ed7953\"],[0.7777777777777778,\"#fb9f3a\"],[0.8888888888888888,\"#fdca26\"],[1.0,\"#f0f921\"]]}],\"heatmap\":[{\"type\":\"heatmap\",\"colorbar\":{\"outlinewidth\":0,\"ticks\":\"\"},\"colorscale\":[[0.0,\"#0d0887\"],[0.1111111111111111,\"#46039f\"],[0.2222222222222222,\"#7201a8\"],[0.3333333333333333,\"#9c179e\"],[0.4444444444444444,\"#bd3786\"],[0.5555555555555556,\"#d8576b\"],[0.6666666666666666,\"#ed7953\"],[0.7777777777777778,\"#fb9f3a\"],[0.8888888888888888,\"#fdca26\"],[1.0,\"#f0f921\"]]}],\"heatmapgl\":[{\"type\":\"heatmapgl\",\"colorbar\":{\"outlinewidth\":0,\"ticks\":\"\"},\"colorscale\":[[0.0,\"#0d0887\"],[0.1111111111111111,\"#46039f\"],[0.2222222222222222,\"#7201a8\"],[0.3333333333333333,\"#9c179e\"],[0.4444444444444444,\"#bd3786\"],[0.5555555555555556,\"#d8576b\"],[0.6666666666666666,\"#ed7953\"],[0.7777777777777778,\"#fb9f3a\"],[0.8888888888888888,\"#fdca26\"],[1.0,\"#f0f921\"]]}],\"contourcarpet\":[{\"type\":\"contourcarpet\",\"colorbar\":{\"outlinewidth\":0,\"ticks\":\"\"}}],\"contour\":[{\"type\":\"contour\",\"colorbar\":{\"outlinewidth\":0,\"ticks\":\"\"},\"colorscale\":[[0.0,\"#0d0887\"],[0.1111111111111111,\"#46039f\"],[0.2222222222222222,\"#7201a8\"],[0.3333333333333333,\"#9c179e\"],[0.4444444444444444,\"#bd3786\"],[0.5555555555555556,\"#d8576b\"],[0.6666666666666666,\"#ed7953\"],[0.7777777777777778,\"#fb9f3a\"],[0.8888888888888888,\"#fdca26\"],[1.0,\"#f0f921\"]]}],\"surface\":[{\"type\":\"surface\",\"colorbar\":{\"outlinewidth\":0,\"ticks\":\"\"},\"colorscale\":[[0.0,\"#0d0887\"],[0.1111111111111111,\"#46039f\"],[0.2222222222222222,\"#7201a8\"],[0.3333333333333333,\"#9c179e\"],[0.4444444444444444,\"#bd3786\"],[0.5555555555555556,\"#d8576b\"],[0.6666666666666666,\"#ed7953\"],[0.7777777777777778,\"#fb9f3a\"],[0.8888888888888888,\"#fdca26\"],[1.0,\"#f0f921\"]]}],\"mesh3d\":[{\"type\":\"mesh3d\",\"colorbar\":{\"outlinewidth\":0,\"ticks\":\"\"}}],\"scatter\":[{\"fillpattern\":{\"fillmode\":\"overlay\",\"size\":10,\"solidity\":0.2},\"type\":\"scatter\"}],\"parcoords\":[{\"type\":\"parcoords\",\"line\":{\"colorbar\":{\"outlinewidth\":0,\"ticks\":\"\"}}}],\"scatterpolargl\":[{\"type\":\"scatterpolargl\",\"marker\":{\"colorbar\":{\"outlinewidth\":0,\"ticks\":\"\"}}}],\"bar\":[{\"error_x\":{\"color\":\"#2a3f5f\"},\"error_y\":{\"color\":\"#2a3f5f\"},\"marker\":{\"line\":{\"color\":\"#E5ECF6\",\"width\":0.5},\"pattern\":{\"fillmode\":\"overlay\",\"size\":10,\"solidity\":0.2}},\"type\":\"bar\"}],\"scattergeo\":[{\"type\":\"scattergeo\",\"marker\":{\"colorbar\":{\"outlinewidth\":0,\"ticks\":\"\"}}}],\"scatterpolar\":[{\"type\":\"scatterpolar\",\"marker\":{\"colorbar\":{\"outlinewidth\":0,\"ticks\":\"\"}}}],\"histogram\":[{\"marker\":{\"pattern\":{\"fillmode\":\"overlay\",\"size\":10,\"solidity\":0.2}},\"type\":\"histogram\"}],\"scattergl\":[{\"type\":\"scattergl\",\"marker\":{\"colorbar\":{\"outlinewidth\":0,\"ticks\":\"\"}}}],\"scatter3d\":[{\"type\":\"scatter3d\",\"line\":{\"colorbar\":{\"outlinewidth\":0,\"ticks\":\"\"}},\"marker\":{\"colorbar\":{\"outlinewidth\":0,\"ticks\":\"\"}}}],\"scattermapbox\":[{\"type\":\"scattermapbox\",\"marker\":{\"colorbar\":{\"outlinewidth\":0,\"ticks\":\"\"}}}],\"scatterternary\":[{\"type\":\"scatterternary\",\"marker\":{\"colorbar\":{\"outlinewidth\":0,\"ticks\":\"\"}}}],\"scattercarpet\":[{\"type\":\"scattercarpet\",\"marker\":{\"colorbar\":{\"outlinewidth\":0,\"ticks\":\"\"}}}],\"carpet\":[{\"aaxis\":{\"endlinecolor\":\"#2a3f5f\",\"gridcolor\":\"white\",\"linecolor\":\"white\",\"minorgridcolor\":\"white\",\"startlinecolor\":\"#2a3f5f\"},\"baxis\":{\"endlinecolor\":\"#2a3f5f\",\"gridcolor\":\"white\",\"linecolor\":\"white\",\"minorgridcolor\":\"white\",\"startlinecolor\":\"#2a3f5f\"},\"type\":\"carpet\"}],\"table\":[{\"cells\":{\"fill\":{\"color\":\"#EBF0F8\"},\"line\":{\"color\":\"white\"}},\"header\":{\"fill\":{\"color\":\"#C8D4E3\"},\"line\":{\"color\":\"white\"}},\"type\":\"table\"}],\"barpolar\":[{\"marker\":{\"line\":{\"color\":\"#E5ECF6\",\"width\":0.5},\"pattern\":{\"fillmode\":\"overlay\",\"size\":10,\"solidity\":0.2}},\"type\":\"barpolar\"}],\"pie\":[{\"automargin\":true,\"type\":\"pie\"}]},\"layout\":{\"autotypenumbers\":\"strict\",\"colorway\":[\"#636efa\",\"#EF553B\",\"#00cc96\",\"#ab63fa\",\"#FFA15A\",\"#19d3f3\",\"#FF6692\",\"#B6E880\",\"#FF97FF\",\"#FECB52\"],\"font\":{\"color\":\"#2a3f5f\"},\"hovermode\":\"closest\",\"hoverlabel\":{\"align\":\"left\"},\"paper_bgcolor\":\"white\",\"plot_bgcolor\":\"#E5ECF6\",\"polar\":{\"bgcolor\":\"#E5ECF6\",\"angularaxis\":{\"gridcolor\":\"white\",\"linecolor\":\"white\",\"ticks\":\"\"},\"radialaxis\":{\"gridcolor\":\"white\",\"linecolor\":\"white\",\"ticks\":\"\"}},\"ternary\":{\"bgcolor\":\"#E5ECF6\",\"aaxis\":{\"gridcolor\":\"white\",\"linecolor\":\"white\",\"ticks\":\"\"},\"baxis\":{\"gridcolor\":\"white\",\"linecolor\":\"white\",\"ticks\":\"\"},\"caxis\":{\"gridcolor\":\"white\",\"linecolor\":\"white\",\"ticks\":\"\"}},\"coloraxis\":{\"colorbar\":{\"outlinewidth\":0,\"ticks\":\"\"}},\"colorscale\":{\"sequential\":[[0.0,\"#0d0887\"],[0.1111111111111111,\"#46039f\"],[0.2222222222222222,\"#7201a8\"],[0.3333333333333333,\"#9c179e\"],[0.4444444444444444,\"#bd3786\"],[0.5555555555555556,\"#d8576b\"],[0.6666666666666666,\"#ed7953\"],[0.7777777777777778,\"#fb9f3a\"],[0.8888888888888888,\"#fdca26\"],[1.0,\"#f0f921\"]],\"sequentialminus\":[[0.0,\"#0d0887\"],[0.1111111111111111,\"#46039f\"],[0.2222222222222222,\"#7201a8\"],[0.3333333333333333,\"#9c179e\"],[0.4444444444444444,\"#bd3786\"],[0.5555555555555556,\"#d8576b\"],[0.6666666666666666,\"#ed7953\"],[0.7777777777777778,\"#fb9f3a\"],[0.8888888888888888,\"#fdca26\"],[1.0,\"#f0f921\"]],\"diverging\":[[0,\"#8e0152\"],[0.1,\"#c51b7d\"],[0.2,\"#de77ae\"],[0.3,\"#f1b6da\"],[0.4,\"#fde0ef\"],[0.5,\"#f7f7f7\"],[0.6,\"#e6f5d0\"],[0.7,\"#b8e186\"],[0.8,\"#7fbc41\"],[0.9,\"#4d9221\"],[1,\"#276419\"]]},\"xaxis\":{\"gridcolor\":\"white\",\"linecolor\":\"white\",\"ticks\":\"\",\"title\":{\"standoff\":15},\"zerolinecolor\":\"white\",\"automargin\":true,\"zerolinewidth\":2},\"yaxis\":{\"gridcolor\":\"white\",\"linecolor\":\"white\",\"ticks\":\"\",\"title\":{\"standoff\":15},\"zerolinecolor\":\"white\",\"automargin\":true,\"zerolinewidth\":2},\"scene\":{\"xaxis\":{\"backgroundcolor\":\"#E5ECF6\",\"gridcolor\":\"white\",\"linecolor\":\"white\",\"showbackground\":true,\"ticks\":\"\",\"zerolinecolor\":\"white\",\"gridwidth\":2},\"yaxis\":{\"backgroundcolor\":\"#E5ECF6\",\"gridcolor\":\"white\",\"linecolor\":\"white\",\"showbackground\":true,\"ticks\":\"\",\"zerolinecolor\":\"white\",\"gridwidth\":2},\"zaxis\":{\"backgroundcolor\":\"#E5ECF6\",\"gridcolor\":\"white\",\"linecolor\":\"white\",\"showbackground\":true,\"ticks\":\"\",\"zerolinecolor\":\"white\",\"gridwidth\":2}},\"shapedefaults\":{\"line\":{\"color\":\"#2a3f5f\"}},\"annotationdefaults\":{\"arrowcolor\":\"#2a3f5f\",\"arrowhead\":0,\"arrowwidth\":1},\"geo\":{\"bgcolor\":\"white\",\"landcolor\":\"#E5ECF6\",\"subunitcolor\":\"white\",\"showland\":true,\"showlakes\":true,\"lakecolor\":\"white\"},\"title\":{\"x\":0.05},\"mapbox\":{\"style\":\"light\"}}},\"title\":{\"text\":\"Time of Day - Number of Positive, Negative, and Neutral Tweets\",\"x\":0.5},\"polar\":{\"angularaxis\":{\"direction\":\"clockwise\",\"tickvals\":[0,1,2,3,4,5,6,7,8,9,10,11,12,13,14,15,16,17,18,19,20,21,22,23],\"ticktext\":[\"00:00\",\"01:00\",\"02:00\",\"03:00\",\"04:00\",\"05:00\",\"06:00\",\"07:00\",\"08:00\",\"09:00\",\"10:00\",\"11:00\",\"12:00\",\"13:00\",\"14:00\",\"15:00\",\"16:00\",\"17:00\",\"18:00\",\"19:00\",\"20:00\",\"21:00\",\"22:00\",\"23:00\"],\"showline\":false}},\"legend\":{\"x\":0.85,\"y\":0.95}},                        {\"responsive\": true}                    ).then(function(){\n",
       "                            \n",
       "var gd = document.getElementById('70a15148-cfa7-40a3-b68e-a320c247dd41');\n",
       "var x = new MutationObserver(function (mutations, observer) {{\n",
       "        var display = window.getComputedStyle(gd).display;\n",
       "        if (!display || display === 'none') {{\n",
       "            console.log([gd, 'removed!']);\n",
       "            Plotly.purge(gd);\n",
       "            observer.disconnect();\n",
       "        }}\n",
       "}});\n",
       "\n",
       "// Listen for the removal of the full notebook cells\n",
       "var notebookContainer = gd.closest('#notebook-container');\n",
       "if (notebookContainer) {{\n",
       "    x.observe(notebookContainer, {childList: true});\n",
       "}}\n",
       "\n",
       "// Listen for the clearing of the current output cell\n",
       "var outputEl = gd.closest('.output');\n",
       "if (outputEl) {{\n",
       "    x.observe(outputEl, {childList: true});\n",
       "}}\n",
       "\n",
       "                        })                };                });            </script>        </div>"
      ]
     },
     "metadata": {},
     "output_type": "display_data"
    },
    {
     "name": "stdout",
     "output_type": "stream",
     "text": [
      "Hour with the most tweets: 14:00 (Total Tweets: 1442)\n"
     ]
    }
   ],
   "source": [
    "# Hourly Sentiment Distribution - Polar Line Plot\n",
    "def format_hour(h: int):\n",
    "    return f\"{h:02d}:00\"\n",
    "sentiment_hourly = data.groupby(['Sentiment', 'Prcsd_Hour'])['Tweet'].count().reset_index()\n",
    "sentiment_hourly.columns = ['Sentiment', 'Hour of Day', 'Number of Tweets']\n",
    "sentiment_hourly['Hour of Day'] = sentiment_hourly['Hour of Day'].apply(format_hour)\n",
    "most_tweeted_hour = sentiment_hourly[sentiment_hourly['Number of Tweets'] == sentiment_hourly['Number of Tweets'].max()]['Hour of Day'].values[0]\n",
    "most_tweets_count = sentiment_hourly['Number of Tweets'].max()\n",
    "\n",
    "fig = go.Figure()\n",
    "for sentiment in ['Positive', 'Negative', 'Neutral']:\n",
    "    sentiment_data = sentiment_hourly[sentiment_hourly['Sentiment'] == sentiment]\n",
    "    fig.add_trace(go.Scatterpolar(\n",
    "        r=sentiment_data['Number of Tweets'],\n",
    "        theta=sentiment_data['Hour of Day'],\n",
    "        name=sentiment,\n",
    "        line=dict(dash='solid' if sentiment == 'Positive' else 'dash' if sentiment == 'Negative' else 'dot'),\n",
    "        legendgroup=sentiment,\n",
    "        marker_color=sentiment_colors[sentiment],\n",
    "    ))\n",
    "\n",
    "fig.add_trace(go.Scatterpolar(\n",
    "    r=[most_tweets_count] * 3,\n",
    "    theta=[most_tweeted_hour] * 3,\n",
    "    mode='lines+text',\n",
    "    text=[f'Most Tweeted Hour ({most_tweets_count} tweets)'] * 3,\n",
    "    textposition='bottom center',\n",
    "    line=dict(color='red', width=2),\n",
    "    legendgroup='Most Tweeted Hour',\n",
    "))\n",
    "\n",
    "fig.update_layout(\n",
    "    title=\"Time of Day - Number of Positive, Negative, and Neutral Tweets\",\n",
    "    title_x=0.5,\n",
    "    polar_angularaxis=dict(\n",
    "        direction=\"clockwise\",\n",
    "        tickvals=list(range(24)),\n",
    "        ticktext=[format_hour(h) for h in range(24)],\n",
    "        showline=False,\n",
    "    ),\n",
    "    legend=dict(x=0.85, y=0.95),\n",
    ")\n",
    "\n",
    "fig.show()\n",
    "\n",
    "# Print the hour with the most tweets\n",
    "print(f\"Hour with the most tweets: {most_tweeted_hour} (Total Tweets: {most_tweets_count})\")"
   ]
  },
  {
   "cell_type": "code",
   "execution_count": 89,
   "id": "63eae172",
   "metadata": {},
   "outputs": [
    {
     "data": {
      "application/vnd.plotly.v1+json": {
       "config": {
        "plotlyServerURL": "https://plot.ly"
       },
       "data": [
        {
         "alignmentgroup": "True",
         "hovertemplate": "Sentiment=Negative<br>Hour of Day=%{x}<br>Number of Tweets=%{y}<extra></extra>",
         "legendgroup": "Negative",
         "marker": {
          "color": "#FF6A6A",
          "pattern": {
           "shape": ""
          }
         },
         "name": "Negative",
         "offsetgroup": "Negative",
         "orientation": "v",
         "showlegend": true,
         "textposition": "auto",
         "type": "bar",
         "x": [
          "00:00",
          "01:00",
          "02:00",
          "03:00",
          "04:00",
          "05:00",
          "06:00",
          "07:00",
          "08:00",
          "09:00",
          "10:00",
          "11:00",
          "12:00",
          "13:00",
          "14:00",
          "15:00",
          "16:00",
          "17:00",
          "18:00",
          "19:00",
          "20:00",
          "21:00",
          "22:00",
          "23:00"
         ],
         "xaxis": "x",
         "y": [
          206,
          314,
          492,
          566,
          615,
          723,
          741,
          698,
          583,
          616,
          634,
          604,
          656,
          654,
          675,
          794,
          746,
          706,
          545,
          377,
          257,
          209,
          183,
          191
         ],
         "yaxis": "y"
        },
        {
         "alignmentgroup": "True",
         "hovertemplate": "Sentiment=Neutral<br>Hour of Day=%{x}<br>Number of Tweets=%{y}<extra></extra>",
         "legendgroup": "Neutral",
         "marker": {
          "color": "#87CEFF",
          "pattern": {
           "shape": ""
          }
         },
         "name": "Neutral",
         "offsetgroup": "Neutral",
         "orientation": "v",
         "showlegend": true,
         "textposition": "auto",
         "type": "bar",
         "x": [
          "00:00",
          "01:00",
          "02:00",
          "03:00",
          "04:00",
          "05:00",
          "06:00",
          "07:00",
          "08:00",
          "09:00",
          "10:00",
          "11:00",
          "12:00",
          "13:00",
          "14:00",
          "15:00",
          "16:00",
          "17:00",
          "18:00",
          "19:00",
          "20:00",
          "21:00",
          "22:00",
          "23:00"
         ],
         "xaxis": "x",
         "y": [
          212,
          286,
          464,
          668,
          859,
          900,
          875,
          780,
          770,
          737,
          668,
          746,
          766,
          822,
          857,
          870,
          839,
          779,
          611,
          376,
          256,
          178,
          167,
          147
         ],
         "yaxis": "y"
        },
        {
         "alignmentgroup": "True",
         "hovertemplate": "Sentiment=Positive<br>Hour of Day=%{x}<br>Number of Tweets=%{y}<extra></extra>",
         "legendgroup": "Positive",
         "marker": {
          "color": "#43CD80",
          "pattern": {
           "shape": ""
          }
         },
         "name": "Positive",
         "offsetgroup": "Positive",
         "orientation": "v",
         "showlegend": true,
         "textposition": "auto",
         "type": "bar",
         "x": [
          "00:00",
          "01:00",
          "02:00",
          "03:00",
          "04:00",
          "05:00",
          "06:00",
          "07:00",
          "08:00",
          "09:00",
          "10:00",
          "11:00",
          "12:00",
          "13:00",
          "14:00",
          "15:00",
          "16:00",
          "17:00",
          "18:00",
          "19:00",
          "20:00",
          "21:00",
          "22:00",
          "23:00"
         ],
         "xaxis": "x",
         "y": [
          381,
          520,
          737,
          1065,
          1185,
          1316,
          1365,
          1239,
          1144,
          1067,
          1077,
          1088,
          1086,
          1228,
          1442,
          1325,
          1236,
          1182,
          939,
          623,
          478,
          311,
          277,
          270
         ],
         "yaxis": "y"
        }
       ],
       "layout": {
        "barmode": "relative",
        "legend": {
         "title": {
          "text": "Sentiment"
         },
         "tracegroupgap": 0
        },
        "template": {
         "data": {
          "bar": [
           {
            "error_x": {
             "color": "#2a3f5f"
            },
            "error_y": {
             "color": "#2a3f5f"
            },
            "marker": {
             "line": {
              "color": "#E5ECF6",
              "width": 0.5
             },
             "pattern": {
              "fillmode": "overlay",
              "size": 10,
              "solidity": 0.2
             }
            },
            "type": "bar"
           }
          ],
          "barpolar": [
           {
            "marker": {
             "line": {
              "color": "#E5ECF6",
              "width": 0.5
             },
             "pattern": {
              "fillmode": "overlay",
              "size": 10,
              "solidity": 0.2
             }
            },
            "type": "barpolar"
           }
          ],
          "carpet": [
           {
            "aaxis": {
             "endlinecolor": "#2a3f5f",
             "gridcolor": "white",
             "linecolor": "white",
             "minorgridcolor": "white",
             "startlinecolor": "#2a3f5f"
            },
            "baxis": {
             "endlinecolor": "#2a3f5f",
             "gridcolor": "white",
             "linecolor": "white",
             "minorgridcolor": "white",
             "startlinecolor": "#2a3f5f"
            },
            "type": "carpet"
           }
          ],
          "choropleth": [
           {
            "colorbar": {
             "outlinewidth": 0,
             "ticks": ""
            },
            "type": "choropleth"
           }
          ],
          "contour": [
           {
            "colorbar": {
             "outlinewidth": 0,
             "ticks": ""
            },
            "colorscale": [
             [
              0,
              "#0d0887"
             ],
             [
              0.1111111111111111,
              "#46039f"
             ],
             [
              0.2222222222222222,
              "#7201a8"
             ],
             [
              0.3333333333333333,
              "#9c179e"
             ],
             [
              0.4444444444444444,
              "#bd3786"
             ],
             [
              0.5555555555555556,
              "#d8576b"
             ],
             [
              0.6666666666666666,
              "#ed7953"
             ],
             [
              0.7777777777777778,
              "#fb9f3a"
             ],
             [
              0.8888888888888888,
              "#fdca26"
             ],
             [
              1,
              "#f0f921"
             ]
            ],
            "type": "contour"
           }
          ],
          "contourcarpet": [
           {
            "colorbar": {
             "outlinewidth": 0,
             "ticks": ""
            },
            "type": "contourcarpet"
           }
          ],
          "heatmap": [
           {
            "colorbar": {
             "outlinewidth": 0,
             "ticks": ""
            },
            "colorscale": [
             [
              0,
              "#0d0887"
             ],
             [
              0.1111111111111111,
              "#46039f"
             ],
             [
              0.2222222222222222,
              "#7201a8"
             ],
             [
              0.3333333333333333,
              "#9c179e"
             ],
             [
              0.4444444444444444,
              "#bd3786"
             ],
             [
              0.5555555555555556,
              "#d8576b"
             ],
             [
              0.6666666666666666,
              "#ed7953"
             ],
             [
              0.7777777777777778,
              "#fb9f3a"
             ],
             [
              0.8888888888888888,
              "#fdca26"
             ],
             [
              1,
              "#f0f921"
             ]
            ],
            "type": "heatmap"
           }
          ],
          "heatmapgl": [
           {
            "colorbar": {
             "outlinewidth": 0,
             "ticks": ""
            },
            "colorscale": [
             [
              0,
              "#0d0887"
             ],
             [
              0.1111111111111111,
              "#46039f"
             ],
             [
              0.2222222222222222,
              "#7201a8"
             ],
             [
              0.3333333333333333,
              "#9c179e"
             ],
             [
              0.4444444444444444,
              "#bd3786"
             ],
             [
              0.5555555555555556,
              "#d8576b"
             ],
             [
              0.6666666666666666,
              "#ed7953"
             ],
             [
              0.7777777777777778,
              "#fb9f3a"
             ],
             [
              0.8888888888888888,
              "#fdca26"
             ],
             [
              1,
              "#f0f921"
             ]
            ],
            "type": "heatmapgl"
           }
          ],
          "histogram": [
           {
            "marker": {
             "pattern": {
              "fillmode": "overlay",
              "size": 10,
              "solidity": 0.2
             }
            },
            "type": "histogram"
           }
          ],
          "histogram2d": [
           {
            "colorbar": {
             "outlinewidth": 0,
             "ticks": ""
            },
            "colorscale": [
             [
              0,
              "#0d0887"
             ],
             [
              0.1111111111111111,
              "#46039f"
             ],
             [
              0.2222222222222222,
              "#7201a8"
             ],
             [
              0.3333333333333333,
              "#9c179e"
             ],
             [
              0.4444444444444444,
              "#bd3786"
             ],
             [
              0.5555555555555556,
              "#d8576b"
             ],
             [
              0.6666666666666666,
              "#ed7953"
             ],
             [
              0.7777777777777778,
              "#fb9f3a"
             ],
             [
              0.8888888888888888,
              "#fdca26"
             ],
             [
              1,
              "#f0f921"
             ]
            ],
            "type": "histogram2d"
           }
          ],
          "histogram2dcontour": [
           {
            "colorbar": {
             "outlinewidth": 0,
             "ticks": ""
            },
            "colorscale": [
             [
              0,
              "#0d0887"
             ],
             [
              0.1111111111111111,
              "#46039f"
             ],
             [
              0.2222222222222222,
              "#7201a8"
             ],
             [
              0.3333333333333333,
              "#9c179e"
             ],
             [
              0.4444444444444444,
              "#bd3786"
             ],
             [
              0.5555555555555556,
              "#d8576b"
             ],
             [
              0.6666666666666666,
              "#ed7953"
             ],
             [
              0.7777777777777778,
              "#fb9f3a"
             ],
             [
              0.8888888888888888,
              "#fdca26"
             ],
             [
              1,
              "#f0f921"
             ]
            ],
            "type": "histogram2dcontour"
           }
          ],
          "mesh3d": [
           {
            "colorbar": {
             "outlinewidth": 0,
             "ticks": ""
            },
            "type": "mesh3d"
           }
          ],
          "parcoords": [
           {
            "line": {
             "colorbar": {
              "outlinewidth": 0,
              "ticks": ""
             }
            },
            "type": "parcoords"
           }
          ],
          "pie": [
           {
            "automargin": true,
            "type": "pie"
           }
          ],
          "scatter": [
           {
            "fillpattern": {
             "fillmode": "overlay",
             "size": 10,
             "solidity": 0.2
            },
            "type": "scatter"
           }
          ],
          "scatter3d": [
           {
            "line": {
             "colorbar": {
              "outlinewidth": 0,
              "ticks": ""
             }
            },
            "marker": {
             "colorbar": {
              "outlinewidth": 0,
              "ticks": ""
             }
            },
            "type": "scatter3d"
           }
          ],
          "scattercarpet": [
           {
            "marker": {
             "colorbar": {
              "outlinewidth": 0,
              "ticks": ""
             }
            },
            "type": "scattercarpet"
           }
          ],
          "scattergeo": [
           {
            "marker": {
             "colorbar": {
              "outlinewidth": 0,
              "ticks": ""
             }
            },
            "type": "scattergeo"
           }
          ],
          "scattergl": [
           {
            "marker": {
             "colorbar": {
              "outlinewidth": 0,
              "ticks": ""
             }
            },
            "type": "scattergl"
           }
          ],
          "scattermapbox": [
           {
            "marker": {
             "colorbar": {
              "outlinewidth": 0,
              "ticks": ""
             }
            },
            "type": "scattermapbox"
           }
          ],
          "scatterpolar": [
           {
            "marker": {
             "colorbar": {
              "outlinewidth": 0,
              "ticks": ""
             }
            },
            "type": "scatterpolar"
           }
          ],
          "scatterpolargl": [
           {
            "marker": {
             "colorbar": {
              "outlinewidth": 0,
              "ticks": ""
             }
            },
            "type": "scatterpolargl"
           }
          ],
          "scatterternary": [
           {
            "marker": {
             "colorbar": {
              "outlinewidth": 0,
              "ticks": ""
             }
            },
            "type": "scatterternary"
           }
          ],
          "surface": [
           {
            "colorbar": {
             "outlinewidth": 0,
             "ticks": ""
            },
            "colorscale": [
             [
              0,
              "#0d0887"
             ],
             [
              0.1111111111111111,
              "#46039f"
             ],
             [
              0.2222222222222222,
              "#7201a8"
             ],
             [
              0.3333333333333333,
              "#9c179e"
             ],
             [
              0.4444444444444444,
              "#bd3786"
             ],
             [
              0.5555555555555556,
              "#d8576b"
             ],
             [
              0.6666666666666666,
              "#ed7953"
             ],
             [
              0.7777777777777778,
              "#fb9f3a"
             ],
             [
              0.8888888888888888,
              "#fdca26"
             ],
             [
              1,
              "#f0f921"
             ]
            ],
            "type": "surface"
           }
          ],
          "table": [
           {
            "cells": {
             "fill": {
              "color": "#EBF0F8"
             },
             "line": {
              "color": "white"
             }
            },
            "header": {
             "fill": {
              "color": "#C8D4E3"
             },
             "line": {
              "color": "white"
             }
            },
            "type": "table"
           }
          ]
         },
         "layout": {
          "annotationdefaults": {
           "arrowcolor": "#2a3f5f",
           "arrowhead": 0,
           "arrowwidth": 1
          },
          "autotypenumbers": "strict",
          "coloraxis": {
           "colorbar": {
            "outlinewidth": 0,
            "ticks": ""
           }
          },
          "colorscale": {
           "diverging": [
            [
             0,
             "#8e0152"
            ],
            [
             0.1,
             "#c51b7d"
            ],
            [
             0.2,
             "#de77ae"
            ],
            [
             0.3,
             "#f1b6da"
            ],
            [
             0.4,
             "#fde0ef"
            ],
            [
             0.5,
             "#f7f7f7"
            ],
            [
             0.6,
             "#e6f5d0"
            ],
            [
             0.7,
             "#b8e186"
            ],
            [
             0.8,
             "#7fbc41"
            ],
            [
             0.9,
             "#4d9221"
            ],
            [
             1,
             "#276419"
            ]
           ],
           "sequential": [
            [
             0,
             "#0d0887"
            ],
            [
             0.1111111111111111,
             "#46039f"
            ],
            [
             0.2222222222222222,
             "#7201a8"
            ],
            [
             0.3333333333333333,
             "#9c179e"
            ],
            [
             0.4444444444444444,
             "#bd3786"
            ],
            [
             0.5555555555555556,
             "#d8576b"
            ],
            [
             0.6666666666666666,
             "#ed7953"
            ],
            [
             0.7777777777777778,
             "#fb9f3a"
            ],
            [
             0.8888888888888888,
             "#fdca26"
            ],
            [
             1,
             "#f0f921"
            ]
           ],
           "sequentialminus": [
            [
             0,
             "#0d0887"
            ],
            [
             0.1111111111111111,
             "#46039f"
            ],
            [
             0.2222222222222222,
             "#7201a8"
            ],
            [
             0.3333333333333333,
             "#9c179e"
            ],
            [
             0.4444444444444444,
             "#bd3786"
            ],
            [
             0.5555555555555556,
             "#d8576b"
            ],
            [
             0.6666666666666666,
             "#ed7953"
            ],
            [
             0.7777777777777778,
             "#fb9f3a"
            ],
            [
             0.8888888888888888,
             "#fdca26"
            ],
            [
             1,
             "#f0f921"
            ]
           ]
          },
          "colorway": [
           "#636efa",
           "#EF553B",
           "#00cc96",
           "#ab63fa",
           "#FFA15A",
           "#19d3f3",
           "#FF6692",
           "#B6E880",
           "#FF97FF",
           "#FECB52"
          ],
          "font": {
           "color": "#2a3f5f"
          },
          "geo": {
           "bgcolor": "white",
           "lakecolor": "white",
           "landcolor": "#E5ECF6",
           "showlakes": true,
           "showland": true,
           "subunitcolor": "white"
          },
          "hoverlabel": {
           "align": "left"
          },
          "hovermode": "closest",
          "mapbox": {
           "style": "light"
          },
          "paper_bgcolor": "white",
          "plot_bgcolor": "#E5ECF6",
          "polar": {
           "angularaxis": {
            "gridcolor": "white",
            "linecolor": "white",
            "ticks": ""
           },
           "bgcolor": "#E5ECF6",
           "radialaxis": {
            "gridcolor": "white",
            "linecolor": "white",
            "ticks": ""
           }
          },
          "scene": {
           "xaxis": {
            "backgroundcolor": "#E5ECF6",
            "gridcolor": "white",
            "gridwidth": 2,
            "linecolor": "white",
            "showbackground": true,
            "ticks": "",
            "zerolinecolor": "white"
           },
           "yaxis": {
            "backgroundcolor": "#E5ECF6",
            "gridcolor": "white",
            "gridwidth": 2,
            "linecolor": "white",
            "showbackground": true,
            "ticks": "",
            "zerolinecolor": "white"
           },
           "zaxis": {
            "backgroundcolor": "#E5ECF6",
            "gridcolor": "white",
            "gridwidth": 2,
            "linecolor": "white",
            "showbackground": true,
            "ticks": "",
            "zerolinecolor": "white"
           }
          },
          "shapedefaults": {
           "line": {
            "color": "#2a3f5f"
           }
          },
          "ternary": {
           "aaxis": {
            "gridcolor": "white",
            "linecolor": "white",
            "ticks": ""
           },
           "baxis": {
            "gridcolor": "white",
            "linecolor": "white",
            "ticks": ""
           },
           "bgcolor": "#E5ECF6",
           "caxis": {
            "gridcolor": "white",
            "linecolor": "white",
            "ticks": ""
           }
          },
          "title": {
           "x": 0.05
          },
          "xaxis": {
           "automargin": true,
           "gridcolor": "white",
           "linecolor": "white",
           "ticks": "",
           "title": {
            "standoff": 15
           },
           "zerolinecolor": "white",
           "zerolinewidth": 2
          },
          "yaxis": {
           "automargin": true,
           "gridcolor": "white",
           "linecolor": "white",
           "ticks": "",
           "title": {
            "standoff": 15
           },
           "zerolinecolor": "white",
           "zerolinewidth": 2
          }
         }
        },
        "title": {
         "text": "Hourly Number of Tweets by Sentiment"
        },
        "xaxis": {
         "anchor": "y",
         "domain": [
          0,
          1
         ],
         "ticktext": [
          "00:00",
          "04:00",
          "08:00",
          "12:00",
          "16:00",
          "20:00"
         ],
         "tickvals": [
          "00:00",
          "04:00",
          "08:00",
          "12:00",
          "16:00",
          "20:00"
         ],
         "title": {
          "text": "Hour of Day"
         }
        },
        "yaxis": {
         "anchor": "x",
         "domain": [
          0,
          1
         ],
         "title": {
          "text": "Number of Tweets"
         }
        }
       }
      },
      "text/html": [
       "<div>                            <div id=\"72d71f9f-134a-45c9-9890-61b0ea5a4c6b\" class=\"plotly-graph-div\" style=\"height:525px; width:100%;\"></div>            <script type=\"text/javascript\">                require([\"plotly\"], function(Plotly) {                    window.PLOTLYENV=window.PLOTLYENV || {};                                    if (document.getElementById(\"72d71f9f-134a-45c9-9890-61b0ea5a4c6b\")) {                    Plotly.newPlot(                        \"72d71f9f-134a-45c9-9890-61b0ea5a4c6b\",                        [{\"alignmentgroup\":\"True\",\"hovertemplate\":\"Sentiment=Negative<br>Hour of Day=%{x}<br>Number of Tweets=%{y}<extra></extra>\",\"legendgroup\":\"Negative\",\"marker\":{\"color\":\"#FF6A6A\",\"pattern\":{\"shape\":\"\"}},\"name\":\"Negative\",\"offsetgroup\":\"Negative\",\"orientation\":\"v\",\"showlegend\":true,\"textposition\":\"auto\",\"x\":[\"00:00\",\"01:00\",\"02:00\",\"03:00\",\"04:00\",\"05:00\",\"06:00\",\"07:00\",\"08:00\",\"09:00\",\"10:00\",\"11:00\",\"12:00\",\"13:00\",\"14:00\",\"15:00\",\"16:00\",\"17:00\",\"18:00\",\"19:00\",\"20:00\",\"21:00\",\"22:00\",\"23:00\"],\"xaxis\":\"x\",\"y\":[206,314,492,566,615,723,741,698,583,616,634,604,656,654,675,794,746,706,545,377,257,209,183,191],\"yaxis\":\"y\",\"type\":\"bar\"},{\"alignmentgroup\":\"True\",\"hovertemplate\":\"Sentiment=Neutral<br>Hour of Day=%{x}<br>Number of Tweets=%{y}<extra></extra>\",\"legendgroup\":\"Neutral\",\"marker\":{\"color\":\"#87CEFF\",\"pattern\":{\"shape\":\"\"}},\"name\":\"Neutral\",\"offsetgroup\":\"Neutral\",\"orientation\":\"v\",\"showlegend\":true,\"textposition\":\"auto\",\"x\":[\"00:00\",\"01:00\",\"02:00\",\"03:00\",\"04:00\",\"05:00\",\"06:00\",\"07:00\",\"08:00\",\"09:00\",\"10:00\",\"11:00\",\"12:00\",\"13:00\",\"14:00\",\"15:00\",\"16:00\",\"17:00\",\"18:00\",\"19:00\",\"20:00\",\"21:00\",\"22:00\",\"23:00\"],\"xaxis\":\"x\",\"y\":[212,286,464,668,859,900,875,780,770,737,668,746,766,822,857,870,839,779,611,376,256,178,167,147],\"yaxis\":\"y\",\"type\":\"bar\"},{\"alignmentgroup\":\"True\",\"hovertemplate\":\"Sentiment=Positive<br>Hour of Day=%{x}<br>Number of Tweets=%{y}<extra></extra>\",\"legendgroup\":\"Positive\",\"marker\":{\"color\":\"#43CD80\",\"pattern\":{\"shape\":\"\"}},\"name\":\"Positive\",\"offsetgroup\":\"Positive\",\"orientation\":\"v\",\"showlegend\":true,\"textposition\":\"auto\",\"x\":[\"00:00\",\"01:00\",\"02:00\",\"03:00\",\"04:00\",\"05:00\",\"06:00\",\"07:00\",\"08:00\",\"09:00\",\"10:00\",\"11:00\",\"12:00\",\"13:00\",\"14:00\",\"15:00\",\"16:00\",\"17:00\",\"18:00\",\"19:00\",\"20:00\",\"21:00\",\"22:00\",\"23:00\"],\"xaxis\":\"x\",\"y\":[381,520,737,1065,1185,1316,1365,1239,1144,1067,1077,1088,1086,1228,1442,1325,1236,1182,939,623,478,311,277,270],\"yaxis\":\"y\",\"type\":\"bar\"}],                        {\"template\":{\"data\":{\"histogram2dcontour\":[{\"type\":\"histogram2dcontour\",\"colorbar\":{\"outlinewidth\":0,\"ticks\":\"\"},\"colorscale\":[[0.0,\"#0d0887\"],[0.1111111111111111,\"#46039f\"],[0.2222222222222222,\"#7201a8\"],[0.3333333333333333,\"#9c179e\"],[0.4444444444444444,\"#bd3786\"],[0.5555555555555556,\"#d8576b\"],[0.6666666666666666,\"#ed7953\"],[0.7777777777777778,\"#fb9f3a\"],[0.8888888888888888,\"#fdca26\"],[1.0,\"#f0f921\"]]}],\"choropleth\":[{\"type\":\"choropleth\",\"colorbar\":{\"outlinewidth\":0,\"ticks\":\"\"}}],\"histogram2d\":[{\"type\":\"histogram2d\",\"colorbar\":{\"outlinewidth\":0,\"ticks\":\"\"},\"colorscale\":[[0.0,\"#0d0887\"],[0.1111111111111111,\"#46039f\"],[0.2222222222222222,\"#7201a8\"],[0.3333333333333333,\"#9c179e\"],[0.4444444444444444,\"#bd3786\"],[0.5555555555555556,\"#d8576b\"],[0.6666666666666666,\"#ed7953\"],[0.7777777777777778,\"#fb9f3a\"],[0.8888888888888888,\"#fdca26\"],[1.0,\"#f0f921\"]]}],\"heatmap\":[{\"type\":\"heatmap\",\"colorbar\":{\"outlinewidth\":0,\"ticks\":\"\"},\"colorscale\":[[0.0,\"#0d0887\"],[0.1111111111111111,\"#46039f\"],[0.2222222222222222,\"#7201a8\"],[0.3333333333333333,\"#9c179e\"],[0.4444444444444444,\"#bd3786\"],[0.5555555555555556,\"#d8576b\"],[0.6666666666666666,\"#ed7953\"],[0.7777777777777778,\"#fb9f3a\"],[0.8888888888888888,\"#fdca26\"],[1.0,\"#f0f921\"]]}],\"heatmapgl\":[{\"type\":\"heatmapgl\",\"colorbar\":{\"outlinewidth\":0,\"ticks\":\"\"},\"colorscale\":[[0.0,\"#0d0887\"],[0.1111111111111111,\"#46039f\"],[0.2222222222222222,\"#7201a8\"],[0.3333333333333333,\"#9c179e\"],[0.4444444444444444,\"#bd3786\"],[0.5555555555555556,\"#d8576b\"],[0.6666666666666666,\"#ed7953\"],[0.7777777777777778,\"#fb9f3a\"],[0.8888888888888888,\"#fdca26\"],[1.0,\"#f0f921\"]]}],\"contourcarpet\":[{\"type\":\"contourcarpet\",\"colorbar\":{\"outlinewidth\":0,\"ticks\":\"\"}}],\"contour\":[{\"type\":\"contour\",\"colorbar\":{\"outlinewidth\":0,\"ticks\":\"\"},\"colorscale\":[[0.0,\"#0d0887\"],[0.1111111111111111,\"#46039f\"],[0.2222222222222222,\"#7201a8\"],[0.3333333333333333,\"#9c179e\"],[0.4444444444444444,\"#bd3786\"],[0.5555555555555556,\"#d8576b\"],[0.6666666666666666,\"#ed7953\"],[0.7777777777777778,\"#fb9f3a\"],[0.8888888888888888,\"#fdca26\"],[1.0,\"#f0f921\"]]}],\"surface\":[{\"type\":\"surface\",\"colorbar\":{\"outlinewidth\":0,\"ticks\":\"\"},\"colorscale\":[[0.0,\"#0d0887\"],[0.1111111111111111,\"#46039f\"],[0.2222222222222222,\"#7201a8\"],[0.3333333333333333,\"#9c179e\"],[0.4444444444444444,\"#bd3786\"],[0.5555555555555556,\"#d8576b\"],[0.6666666666666666,\"#ed7953\"],[0.7777777777777778,\"#fb9f3a\"],[0.8888888888888888,\"#fdca26\"],[1.0,\"#f0f921\"]]}],\"mesh3d\":[{\"type\":\"mesh3d\",\"colorbar\":{\"outlinewidth\":0,\"ticks\":\"\"}}],\"scatter\":[{\"fillpattern\":{\"fillmode\":\"overlay\",\"size\":10,\"solidity\":0.2},\"type\":\"scatter\"}],\"parcoords\":[{\"type\":\"parcoords\",\"line\":{\"colorbar\":{\"outlinewidth\":0,\"ticks\":\"\"}}}],\"scatterpolargl\":[{\"type\":\"scatterpolargl\",\"marker\":{\"colorbar\":{\"outlinewidth\":0,\"ticks\":\"\"}}}],\"bar\":[{\"error_x\":{\"color\":\"#2a3f5f\"},\"error_y\":{\"color\":\"#2a3f5f\"},\"marker\":{\"line\":{\"color\":\"#E5ECF6\",\"width\":0.5},\"pattern\":{\"fillmode\":\"overlay\",\"size\":10,\"solidity\":0.2}},\"type\":\"bar\"}],\"scattergeo\":[{\"type\":\"scattergeo\",\"marker\":{\"colorbar\":{\"outlinewidth\":0,\"ticks\":\"\"}}}],\"scatterpolar\":[{\"type\":\"scatterpolar\",\"marker\":{\"colorbar\":{\"outlinewidth\":0,\"ticks\":\"\"}}}],\"histogram\":[{\"marker\":{\"pattern\":{\"fillmode\":\"overlay\",\"size\":10,\"solidity\":0.2}},\"type\":\"histogram\"}],\"scattergl\":[{\"type\":\"scattergl\",\"marker\":{\"colorbar\":{\"outlinewidth\":0,\"ticks\":\"\"}}}],\"scatter3d\":[{\"type\":\"scatter3d\",\"line\":{\"colorbar\":{\"outlinewidth\":0,\"ticks\":\"\"}},\"marker\":{\"colorbar\":{\"outlinewidth\":0,\"ticks\":\"\"}}}],\"scattermapbox\":[{\"type\":\"scattermapbox\",\"marker\":{\"colorbar\":{\"outlinewidth\":0,\"ticks\":\"\"}}}],\"scatterternary\":[{\"type\":\"scatterternary\",\"marker\":{\"colorbar\":{\"outlinewidth\":0,\"ticks\":\"\"}}}],\"scattercarpet\":[{\"type\":\"scattercarpet\",\"marker\":{\"colorbar\":{\"outlinewidth\":0,\"ticks\":\"\"}}}],\"carpet\":[{\"aaxis\":{\"endlinecolor\":\"#2a3f5f\",\"gridcolor\":\"white\",\"linecolor\":\"white\",\"minorgridcolor\":\"white\",\"startlinecolor\":\"#2a3f5f\"},\"baxis\":{\"endlinecolor\":\"#2a3f5f\",\"gridcolor\":\"white\",\"linecolor\":\"white\",\"minorgridcolor\":\"white\",\"startlinecolor\":\"#2a3f5f\"},\"type\":\"carpet\"}],\"table\":[{\"cells\":{\"fill\":{\"color\":\"#EBF0F8\"},\"line\":{\"color\":\"white\"}},\"header\":{\"fill\":{\"color\":\"#C8D4E3\"},\"line\":{\"color\":\"white\"}},\"type\":\"table\"}],\"barpolar\":[{\"marker\":{\"line\":{\"color\":\"#E5ECF6\",\"width\":0.5},\"pattern\":{\"fillmode\":\"overlay\",\"size\":10,\"solidity\":0.2}},\"type\":\"barpolar\"}],\"pie\":[{\"automargin\":true,\"type\":\"pie\"}]},\"layout\":{\"autotypenumbers\":\"strict\",\"colorway\":[\"#636efa\",\"#EF553B\",\"#00cc96\",\"#ab63fa\",\"#FFA15A\",\"#19d3f3\",\"#FF6692\",\"#B6E880\",\"#FF97FF\",\"#FECB52\"],\"font\":{\"color\":\"#2a3f5f\"},\"hovermode\":\"closest\",\"hoverlabel\":{\"align\":\"left\"},\"paper_bgcolor\":\"white\",\"plot_bgcolor\":\"#E5ECF6\",\"polar\":{\"bgcolor\":\"#E5ECF6\",\"angularaxis\":{\"gridcolor\":\"white\",\"linecolor\":\"white\",\"ticks\":\"\"},\"radialaxis\":{\"gridcolor\":\"white\",\"linecolor\":\"white\",\"ticks\":\"\"}},\"ternary\":{\"bgcolor\":\"#E5ECF6\",\"aaxis\":{\"gridcolor\":\"white\",\"linecolor\":\"white\",\"ticks\":\"\"},\"baxis\":{\"gridcolor\":\"white\",\"linecolor\":\"white\",\"ticks\":\"\"},\"caxis\":{\"gridcolor\":\"white\",\"linecolor\":\"white\",\"ticks\":\"\"}},\"coloraxis\":{\"colorbar\":{\"outlinewidth\":0,\"ticks\":\"\"}},\"colorscale\":{\"sequential\":[[0.0,\"#0d0887\"],[0.1111111111111111,\"#46039f\"],[0.2222222222222222,\"#7201a8\"],[0.3333333333333333,\"#9c179e\"],[0.4444444444444444,\"#bd3786\"],[0.5555555555555556,\"#d8576b\"],[0.6666666666666666,\"#ed7953\"],[0.7777777777777778,\"#fb9f3a\"],[0.8888888888888888,\"#fdca26\"],[1.0,\"#f0f921\"]],\"sequentialminus\":[[0.0,\"#0d0887\"],[0.1111111111111111,\"#46039f\"],[0.2222222222222222,\"#7201a8\"],[0.3333333333333333,\"#9c179e\"],[0.4444444444444444,\"#bd3786\"],[0.5555555555555556,\"#d8576b\"],[0.6666666666666666,\"#ed7953\"],[0.7777777777777778,\"#fb9f3a\"],[0.8888888888888888,\"#fdca26\"],[1.0,\"#f0f921\"]],\"diverging\":[[0,\"#8e0152\"],[0.1,\"#c51b7d\"],[0.2,\"#de77ae\"],[0.3,\"#f1b6da\"],[0.4,\"#fde0ef\"],[0.5,\"#f7f7f7\"],[0.6,\"#e6f5d0\"],[0.7,\"#b8e186\"],[0.8,\"#7fbc41\"],[0.9,\"#4d9221\"],[1,\"#276419\"]]},\"xaxis\":{\"gridcolor\":\"white\",\"linecolor\":\"white\",\"ticks\":\"\",\"title\":{\"standoff\":15},\"zerolinecolor\":\"white\",\"automargin\":true,\"zerolinewidth\":2},\"yaxis\":{\"gridcolor\":\"white\",\"linecolor\":\"white\",\"ticks\":\"\",\"title\":{\"standoff\":15},\"zerolinecolor\":\"white\",\"automargin\":true,\"zerolinewidth\":2},\"scene\":{\"xaxis\":{\"backgroundcolor\":\"#E5ECF6\",\"gridcolor\":\"white\",\"linecolor\":\"white\",\"showbackground\":true,\"ticks\":\"\",\"zerolinecolor\":\"white\",\"gridwidth\":2},\"yaxis\":{\"backgroundcolor\":\"#E5ECF6\",\"gridcolor\":\"white\",\"linecolor\":\"white\",\"showbackground\":true,\"ticks\":\"\",\"zerolinecolor\":\"white\",\"gridwidth\":2},\"zaxis\":{\"backgroundcolor\":\"#E5ECF6\",\"gridcolor\":\"white\",\"linecolor\":\"white\",\"showbackground\":true,\"ticks\":\"\",\"zerolinecolor\":\"white\",\"gridwidth\":2}},\"shapedefaults\":{\"line\":{\"color\":\"#2a3f5f\"}},\"annotationdefaults\":{\"arrowcolor\":\"#2a3f5f\",\"arrowhead\":0,\"arrowwidth\":1},\"geo\":{\"bgcolor\":\"white\",\"landcolor\":\"#E5ECF6\",\"subunitcolor\":\"white\",\"showland\":true,\"showlakes\":true,\"lakecolor\":\"white\"},\"title\":{\"x\":0.05},\"mapbox\":{\"style\":\"light\"}}},\"xaxis\":{\"anchor\":\"y\",\"domain\":[0.0,1.0],\"title\":{\"text\":\"Hour of Day\"},\"tickvals\":[\"00:00\",\"04:00\",\"08:00\",\"12:00\",\"16:00\",\"20:00\"],\"ticktext\":[\"00:00\",\"04:00\",\"08:00\",\"12:00\",\"16:00\",\"20:00\"]},\"yaxis\":{\"anchor\":\"x\",\"domain\":[0.0,1.0],\"title\":{\"text\":\"Number of Tweets\"}},\"legend\":{\"title\":{\"text\":\"Sentiment\"},\"tracegroupgap\":0},\"title\":{\"text\":\"Hourly Number of Tweets by Sentiment\"},\"barmode\":\"relative\"},                        {\"responsive\": true}                    ).then(function(){\n",
       "                            \n",
       "var gd = document.getElementById('72d71f9f-134a-45c9-9890-61b0ea5a4c6b');\n",
       "var x = new MutationObserver(function (mutations, observer) {{\n",
       "        var display = window.getComputedStyle(gd).display;\n",
       "        if (!display || display === 'none') {{\n",
       "            console.log([gd, 'removed!']);\n",
       "            Plotly.purge(gd);\n",
       "            observer.disconnect();\n",
       "        }}\n",
       "}});\n",
       "\n",
       "// Listen for the removal of the full notebook cells\n",
       "var notebookContainer = gd.closest('#notebook-container');\n",
       "if (notebookContainer) {{\n",
       "    x.observe(notebookContainer, {childList: true});\n",
       "}}\n",
       "\n",
       "// Listen for the clearing of the current output cell\n",
       "var outputEl = gd.closest('.output');\n",
       "if (outputEl) {{\n",
       "    x.observe(outputEl, {childList: true});\n",
       "}}\n",
       "\n",
       "                        })                };                });            </script>        </div>"
      ]
     },
     "metadata": {},
     "output_type": "display_data"
    }
   ],
   "source": [
    "#  Function to format the hour\n",
    "def format_hour(h: int):\n",
    "    return f\"{h:02d}:00\"\n",
    "\n",
    "# Group by Sentiment and hour, and count the number of tweets\n",
    "sentiment_hourly = data.groupby(['Sentiment', 'Prcsd_Hour'])['Tweet'].count().reset_index()\n",
    "sentiment_hourly.columns = ['Sentiment', 'Hour of Day', 'Number of Tweets']\n",
    "sentiment_hourly['Hour of Day'] = sentiment_hourly['Hour of Day'].apply(format_hour)\n",
    "\n",
    "# Create a bar plot\n",
    "fig = px.bar(\n",
    "    sentiment_hourly,\n",
    "    x='Hour of Day',\n",
    "    y='Number of Tweets',\n",
    "    color='Sentiment',\n",
    "    color_discrete_sequence=['#FF6A6A', '#87CEFF', '#43CD80'],\n",
    "    title='Hourly Number of Tweets by Sentiment',\n",
    ")\n",
    "\n",
    "# Customize the x-axis tick positions and labels\n",
    "custom_x_ticks = [format_hour(h) for h in range(0, 24, 4)]  # Every 4 hours\n",
    "fig.update_xaxes(\n",
    "    tickvals=[format_hour(h) for h in range(0, 24, 4)],\n",
    "    ticktext=custom_x_ticks,\n",
    ")\n",
    "\n",
    "fig.update_layout(\n",
    "    xaxis_title='Hour of Day',\n",
    "    yaxis_title='Number of Tweets',\n",
    "    legend_title='Sentiment',\n",
    ")\n",
    "\n",
    "fig.show()"
   ]
  },
  {
   "cell_type": "code",
   "execution_count": 90,
   "id": "3217e306",
   "metadata": {},
   "outputs": [
    {
     "data": {
      "application/vnd.plotly.v1+json": {
       "config": {
        "plotlyServerURL": "https://plot.ly"
       },
       "data": [
        {
         "alignmentgroup": "True",
         "hovertemplate": "Sentiment=Negative<br>Month=%{x}<br>Number of Tweets=%{y}<extra></extra>",
         "legendgroup": "Negative",
         "marker": {
          "color": "#FF6A6A",
          "pattern": {
           "shape": ""
          }
         },
         "name": "Negative",
         "offsetgroup": "Negative",
         "orientation": "v",
         "showlegend": true,
         "textposition": "auto",
         "type": "bar",
         "x": [
          "01",
          "02",
          "03",
          "10",
          "11",
          "12"
         ],
         "xaxis": "x",
         "y": [
          1714,
          1943,
          3211,
          1602,
          2375,
          1940
         ],
         "yaxis": "y"
        },
        {
         "alignmentgroup": "True",
         "hovertemplate": "Sentiment=Neutral<br>Month=%{x}<br>Number of Tweets=%{y}<extra></extra>",
         "legendgroup": "Neutral",
         "marker": {
          "color": "#87CEFF",
          "pattern": {
           "shape": ""
          }
         },
         "name": "Neutral",
         "offsetgroup": "Neutral",
         "orientation": "v",
         "showlegend": true,
         "textposition": "auto",
         "type": "bar",
         "x": [
          "01",
          "02",
          "03",
          "10",
          "11",
          "12"
         ],
         "xaxis": "x",
         "y": [
          2000,
          2121,
          3327,
          2057,
          2617,
          2511
         ],
         "yaxis": "y"
        },
        {
         "alignmentgroup": "True",
         "hovertemplate": "Sentiment=Positive<br>Month=%{x}<br>Number of Tweets=%{y}<extra></extra>",
         "legendgroup": "Positive",
         "marker": {
          "color": "#43CD80",
          "pattern": {
           "shape": ""
          }
         },
         "name": "Positive",
         "offsetgroup": "Positive",
         "orientation": "v",
         "showlegend": true,
         "textposition": "auto",
         "type": "bar",
         "x": [
          "01",
          "02",
          "03",
          "10",
          "11",
          "12"
         ],
         "xaxis": "x",
         "y": [
          3322,
          3222,
          4919,
          3560,
          3901,
          3657
         ],
         "yaxis": "y"
        }
       ],
       "layout": {
        "barmode": "relative",
        "legend": {
         "title": {
          "text": "Sentiment"
         },
         "tracegroupgap": 0
        },
        "template": {
         "data": {
          "bar": [
           {
            "error_x": {
             "color": "#2a3f5f"
            },
            "error_y": {
             "color": "#2a3f5f"
            },
            "marker": {
             "line": {
              "color": "#E5ECF6",
              "width": 0.5
             },
             "pattern": {
              "fillmode": "overlay",
              "size": 10,
              "solidity": 0.2
             }
            },
            "type": "bar"
           }
          ],
          "barpolar": [
           {
            "marker": {
             "line": {
              "color": "#E5ECF6",
              "width": 0.5
             },
             "pattern": {
              "fillmode": "overlay",
              "size": 10,
              "solidity": 0.2
             }
            },
            "type": "barpolar"
           }
          ],
          "carpet": [
           {
            "aaxis": {
             "endlinecolor": "#2a3f5f",
             "gridcolor": "white",
             "linecolor": "white",
             "minorgridcolor": "white",
             "startlinecolor": "#2a3f5f"
            },
            "baxis": {
             "endlinecolor": "#2a3f5f",
             "gridcolor": "white",
             "linecolor": "white",
             "minorgridcolor": "white",
             "startlinecolor": "#2a3f5f"
            },
            "type": "carpet"
           }
          ],
          "choropleth": [
           {
            "colorbar": {
             "outlinewidth": 0,
             "ticks": ""
            },
            "type": "choropleth"
           }
          ],
          "contour": [
           {
            "colorbar": {
             "outlinewidth": 0,
             "ticks": ""
            },
            "colorscale": [
             [
              0,
              "#0d0887"
             ],
             [
              0.1111111111111111,
              "#46039f"
             ],
             [
              0.2222222222222222,
              "#7201a8"
             ],
             [
              0.3333333333333333,
              "#9c179e"
             ],
             [
              0.4444444444444444,
              "#bd3786"
             ],
             [
              0.5555555555555556,
              "#d8576b"
             ],
             [
              0.6666666666666666,
              "#ed7953"
             ],
             [
              0.7777777777777778,
              "#fb9f3a"
             ],
             [
              0.8888888888888888,
              "#fdca26"
             ],
             [
              1,
              "#f0f921"
             ]
            ],
            "type": "contour"
           }
          ],
          "contourcarpet": [
           {
            "colorbar": {
             "outlinewidth": 0,
             "ticks": ""
            },
            "type": "contourcarpet"
           }
          ],
          "heatmap": [
           {
            "colorbar": {
             "outlinewidth": 0,
             "ticks": ""
            },
            "colorscale": [
             [
              0,
              "#0d0887"
             ],
             [
              0.1111111111111111,
              "#46039f"
             ],
             [
              0.2222222222222222,
              "#7201a8"
             ],
             [
              0.3333333333333333,
              "#9c179e"
             ],
             [
              0.4444444444444444,
              "#bd3786"
             ],
             [
              0.5555555555555556,
              "#d8576b"
             ],
             [
              0.6666666666666666,
              "#ed7953"
             ],
             [
              0.7777777777777778,
              "#fb9f3a"
             ],
             [
              0.8888888888888888,
              "#fdca26"
             ],
             [
              1,
              "#f0f921"
             ]
            ],
            "type": "heatmap"
           }
          ],
          "heatmapgl": [
           {
            "colorbar": {
             "outlinewidth": 0,
             "ticks": ""
            },
            "colorscale": [
             [
              0,
              "#0d0887"
             ],
             [
              0.1111111111111111,
              "#46039f"
             ],
             [
              0.2222222222222222,
              "#7201a8"
             ],
             [
              0.3333333333333333,
              "#9c179e"
             ],
             [
              0.4444444444444444,
              "#bd3786"
             ],
             [
              0.5555555555555556,
              "#d8576b"
             ],
             [
              0.6666666666666666,
              "#ed7953"
             ],
             [
              0.7777777777777778,
              "#fb9f3a"
             ],
             [
              0.8888888888888888,
              "#fdca26"
             ],
             [
              1,
              "#f0f921"
             ]
            ],
            "type": "heatmapgl"
           }
          ],
          "histogram": [
           {
            "marker": {
             "pattern": {
              "fillmode": "overlay",
              "size": 10,
              "solidity": 0.2
             }
            },
            "type": "histogram"
           }
          ],
          "histogram2d": [
           {
            "colorbar": {
             "outlinewidth": 0,
             "ticks": ""
            },
            "colorscale": [
             [
              0,
              "#0d0887"
             ],
             [
              0.1111111111111111,
              "#46039f"
             ],
             [
              0.2222222222222222,
              "#7201a8"
             ],
             [
              0.3333333333333333,
              "#9c179e"
             ],
             [
              0.4444444444444444,
              "#bd3786"
             ],
             [
              0.5555555555555556,
              "#d8576b"
             ],
             [
              0.6666666666666666,
              "#ed7953"
             ],
             [
              0.7777777777777778,
              "#fb9f3a"
             ],
             [
              0.8888888888888888,
              "#fdca26"
             ],
             [
              1,
              "#f0f921"
             ]
            ],
            "type": "histogram2d"
           }
          ],
          "histogram2dcontour": [
           {
            "colorbar": {
             "outlinewidth": 0,
             "ticks": ""
            },
            "colorscale": [
             [
              0,
              "#0d0887"
             ],
             [
              0.1111111111111111,
              "#46039f"
             ],
             [
              0.2222222222222222,
              "#7201a8"
             ],
             [
              0.3333333333333333,
              "#9c179e"
             ],
             [
              0.4444444444444444,
              "#bd3786"
             ],
             [
              0.5555555555555556,
              "#d8576b"
             ],
             [
              0.6666666666666666,
              "#ed7953"
             ],
             [
              0.7777777777777778,
              "#fb9f3a"
             ],
             [
              0.8888888888888888,
              "#fdca26"
             ],
             [
              1,
              "#f0f921"
             ]
            ],
            "type": "histogram2dcontour"
           }
          ],
          "mesh3d": [
           {
            "colorbar": {
             "outlinewidth": 0,
             "ticks": ""
            },
            "type": "mesh3d"
           }
          ],
          "parcoords": [
           {
            "line": {
             "colorbar": {
              "outlinewidth": 0,
              "ticks": ""
             }
            },
            "type": "parcoords"
           }
          ],
          "pie": [
           {
            "automargin": true,
            "type": "pie"
           }
          ],
          "scatter": [
           {
            "fillpattern": {
             "fillmode": "overlay",
             "size": 10,
             "solidity": 0.2
            },
            "type": "scatter"
           }
          ],
          "scatter3d": [
           {
            "line": {
             "colorbar": {
              "outlinewidth": 0,
              "ticks": ""
             }
            },
            "marker": {
             "colorbar": {
              "outlinewidth": 0,
              "ticks": ""
             }
            },
            "type": "scatter3d"
           }
          ],
          "scattercarpet": [
           {
            "marker": {
             "colorbar": {
              "outlinewidth": 0,
              "ticks": ""
             }
            },
            "type": "scattercarpet"
           }
          ],
          "scattergeo": [
           {
            "marker": {
             "colorbar": {
              "outlinewidth": 0,
              "ticks": ""
             }
            },
            "type": "scattergeo"
           }
          ],
          "scattergl": [
           {
            "marker": {
             "colorbar": {
              "outlinewidth": 0,
              "ticks": ""
             }
            },
            "type": "scattergl"
           }
          ],
          "scattermapbox": [
           {
            "marker": {
             "colorbar": {
              "outlinewidth": 0,
              "ticks": ""
             }
            },
            "type": "scattermapbox"
           }
          ],
          "scatterpolar": [
           {
            "marker": {
             "colorbar": {
              "outlinewidth": 0,
              "ticks": ""
             }
            },
            "type": "scatterpolar"
           }
          ],
          "scatterpolargl": [
           {
            "marker": {
             "colorbar": {
              "outlinewidth": 0,
              "ticks": ""
             }
            },
            "type": "scatterpolargl"
           }
          ],
          "scatterternary": [
           {
            "marker": {
             "colorbar": {
              "outlinewidth": 0,
              "ticks": ""
             }
            },
            "type": "scatterternary"
           }
          ],
          "surface": [
           {
            "colorbar": {
             "outlinewidth": 0,
             "ticks": ""
            },
            "colorscale": [
             [
              0,
              "#0d0887"
             ],
             [
              0.1111111111111111,
              "#46039f"
             ],
             [
              0.2222222222222222,
              "#7201a8"
             ],
             [
              0.3333333333333333,
              "#9c179e"
             ],
             [
              0.4444444444444444,
              "#bd3786"
             ],
             [
              0.5555555555555556,
              "#d8576b"
             ],
             [
              0.6666666666666666,
              "#ed7953"
             ],
             [
              0.7777777777777778,
              "#fb9f3a"
             ],
             [
              0.8888888888888888,
              "#fdca26"
             ],
             [
              1,
              "#f0f921"
             ]
            ],
            "type": "surface"
           }
          ],
          "table": [
           {
            "cells": {
             "fill": {
              "color": "#EBF0F8"
             },
             "line": {
              "color": "white"
             }
            },
            "header": {
             "fill": {
              "color": "#C8D4E3"
             },
             "line": {
              "color": "white"
             }
            },
            "type": "table"
           }
          ]
         },
         "layout": {
          "annotationdefaults": {
           "arrowcolor": "#2a3f5f",
           "arrowhead": 0,
           "arrowwidth": 1
          },
          "autotypenumbers": "strict",
          "coloraxis": {
           "colorbar": {
            "outlinewidth": 0,
            "ticks": ""
           }
          },
          "colorscale": {
           "diverging": [
            [
             0,
             "#8e0152"
            ],
            [
             0.1,
             "#c51b7d"
            ],
            [
             0.2,
             "#de77ae"
            ],
            [
             0.3,
             "#f1b6da"
            ],
            [
             0.4,
             "#fde0ef"
            ],
            [
             0.5,
             "#f7f7f7"
            ],
            [
             0.6,
             "#e6f5d0"
            ],
            [
             0.7,
             "#b8e186"
            ],
            [
             0.8,
             "#7fbc41"
            ],
            [
             0.9,
             "#4d9221"
            ],
            [
             1,
             "#276419"
            ]
           ],
           "sequential": [
            [
             0,
             "#0d0887"
            ],
            [
             0.1111111111111111,
             "#46039f"
            ],
            [
             0.2222222222222222,
             "#7201a8"
            ],
            [
             0.3333333333333333,
             "#9c179e"
            ],
            [
             0.4444444444444444,
             "#bd3786"
            ],
            [
             0.5555555555555556,
             "#d8576b"
            ],
            [
             0.6666666666666666,
             "#ed7953"
            ],
            [
             0.7777777777777778,
             "#fb9f3a"
            ],
            [
             0.8888888888888888,
             "#fdca26"
            ],
            [
             1,
             "#f0f921"
            ]
           ],
           "sequentialminus": [
            [
             0,
             "#0d0887"
            ],
            [
             0.1111111111111111,
             "#46039f"
            ],
            [
             0.2222222222222222,
             "#7201a8"
            ],
            [
             0.3333333333333333,
             "#9c179e"
            ],
            [
             0.4444444444444444,
             "#bd3786"
            ],
            [
             0.5555555555555556,
             "#d8576b"
            ],
            [
             0.6666666666666666,
             "#ed7953"
            ],
            [
             0.7777777777777778,
             "#fb9f3a"
            ],
            [
             0.8888888888888888,
             "#fdca26"
            ],
            [
             1,
             "#f0f921"
            ]
           ]
          },
          "colorway": [
           "#636efa",
           "#EF553B",
           "#00cc96",
           "#ab63fa",
           "#FFA15A",
           "#19d3f3",
           "#FF6692",
           "#B6E880",
           "#FF97FF",
           "#FECB52"
          ],
          "font": {
           "color": "#2a3f5f"
          },
          "geo": {
           "bgcolor": "white",
           "lakecolor": "white",
           "landcolor": "#E5ECF6",
           "showlakes": true,
           "showland": true,
           "subunitcolor": "white"
          },
          "hoverlabel": {
           "align": "left"
          },
          "hovermode": "closest",
          "mapbox": {
           "style": "light"
          },
          "paper_bgcolor": "white",
          "plot_bgcolor": "#E5ECF6",
          "polar": {
           "angularaxis": {
            "gridcolor": "white",
            "linecolor": "white",
            "ticks": ""
           },
           "bgcolor": "#E5ECF6",
           "radialaxis": {
            "gridcolor": "white",
            "linecolor": "white",
            "ticks": ""
           }
          },
          "scene": {
           "xaxis": {
            "backgroundcolor": "#E5ECF6",
            "gridcolor": "white",
            "gridwidth": 2,
            "linecolor": "white",
            "showbackground": true,
            "ticks": "",
            "zerolinecolor": "white"
           },
           "yaxis": {
            "backgroundcolor": "#E5ECF6",
            "gridcolor": "white",
            "gridwidth": 2,
            "linecolor": "white",
            "showbackground": true,
            "ticks": "",
            "zerolinecolor": "white"
           },
           "zaxis": {
            "backgroundcolor": "#E5ECF6",
            "gridcolor": "white",
            "gridwidth": 2,
            "linecolor": "white",
            "showbackground": true,
            "ticks": "",
            "zerolinecolor": "white"
           }
          },
          "shapedefaults": {
           "line": {
            "color": "#2a3f5f"
           }
          },
          "ternary": {
           "aaxis": {
            "gridcolor": "white",
            "linecolor": "white",
            "ticks": ""
           },
           "baxis": {
            "gridcolor": "white",
            "linecolor": "white",
            "ticks": ""
           },
           "bgcolor": "#E5ECF6",
           "caxis": {
            "gridcolor": "white",
            "linecolor": "white",
            "ticks": ""
           }
          },
          "title": {
           "x": 0.05
          },
          "xaxis": {
           "automargin": true,
           "gridcolor": "white",
           "linecolor": "white",
           "ticks": "",
           "title": {
            "standoff": 15
           },
           "zerolinecolor": "white",
           "zerolinewidth": 2
          },
          "yaxis": {
           "automargin": true,
           "gridcolor": "white",
           "linecolor": "white",
           "ticks": "",
           "title": {
            "standoff": 15
           },
           "zerolinecolor": "white",
           "zerolinewidth": 2
          }
         }
        },
        "title": {
         "text": "Monthly Number of Tweets by Sentiment"
        },
        "xaxis": {
         "anchor": "y",
         "categoryarray": [
          "01",
          "02",
          "03"
         ],
         "categoryorder": "array",
         "domain": [
          0,
          1
         ],
         "title": {
          "text": "Month"
         }
        },
        "yaxis": {
         "anchor": "x",
         "domain": [
          0,
          1
         ],
         "title": {
          "text": "Number of Tweets"
         }
        }
       }
      },
      "text/html": [
       "<div>                            <div id=\"b0a18399-5742-47bf-a9c4-4c3debe745b6\" class=\"plotly-graph-div\" style=\"height:525px; width:100%;\"></div>            <script type=\"text/javascript\">                require([\"plotly\"], function(Plotly) {                    window.PLOTLYENV=window.PLOTLYENV || {};                                    if (document.getElementById(\"b0a18399-5742-47bf-a9c4-4c3debe745b6\")) {                    Plotly.newPlot(                        \"b0a18399-5742-47bf-a9c4-4c3debe745b6\",                        [{\"alignmentgroup\":\"True\",\"hovertemplate\":\"Sentiment=Negative<br>Month=%{x}<br>Number of Tweets=%{y}<extra></extra>\",\"legendgroup\":\"Negative\",\"marker\":{\"color\":\"#FF6A6A\",\"pattern\":{\"shape\":\"\"}},\"name\":\"Negative\",\"offsetgroup\":\"Negative\",\"orientation\":\"v\",\"showlegend\":true,\"textposition\":\"auto\",\"x\":[\"01\",\"02\",\"03\",\"10\",\"11\",\"12\"],\"xaxis\":\"x\",\"y\":[1714,1943,3211,1602,2375,1940],\"yaxis\":\"y\",\"type\":\"bar\"},{\"alignmentgroup\":\"True\",\"hovertemplate\":\"Sentiment=Neutral<br>Month=%{x}<br>Number of Tweets=%{y}<extra></extra>\",\"legendgroup\":\"Neutral\",\"marker\":{\"color\":\"#87CEFF\",\"pattern\":{\"shape\":\"\"}},\"name\":\"Neutral\",\"offsetgroup\":\"Neutral\",\"orientation\":\"v\",\"showlegend\":true,\"textposition\":\"auto\",\"x\":[\"01\",\"02\",\"03\",\"10\",\"11\",\"12\"],\"xaxis\":\"x\",\"y\":[2000,2121,3327,2057,2617,2511],\"yaxis\":\"y\",\"type\":\"bar\"},{\"alignmentgroup\":\"True\",\"hovertemplate\":\"Sentiment=Positive<br>Month=%{x}<br>Number of Tweets=%{y}<extra></extra>\",\"legendgroup\":\"Positive\",\"marker\":{\"color\":\"#43CD80\",\"pattern\":{\"shape\":\"\"}},\"name\":\"Positive\",\"offsetgroup\":\"Positive\",\"orientation\":\"v\",\"showlegend\":true,\"textposition\":\"auto\",\"x\":[\"01\",\"02\",\"03\",\"10\",\"11\",\"12\"],\"xaxis\":\"x\",\"y\":[3322,3222,4919,3560,3901,3657],\"yaxis\":\"y\",\"type\":\"bar\"}],                        {\"template\":{\"data\":{\"histogram2dcontour\":[{\"type\":\"histogram2dcontour\",\"colorbar\":{\"outlinewidth\":0,\"ticks\":\"\"},\"colorscale\":[[0.0,\"#0d0887\"],[0.1111111111111111,\"#46039f\"],[0.2222222222222222,\"#7201a8\"],[0.3333333333333333,\"#9c179e\"],[0.4444444444444444,\"#bd3786\"],[0.5555555555555556,\"#d8576b\"],[0.6666666666666666,\"#ed7953\"],[0.7777777777777778,\"#fb9f3a\"],[0.8888888888888888,\"#fdca26\"],[1.0,\"#f0f921\"]]}],\"choropleth\":[{\"type\":\"choropleth\",\"colorbar\":{\"outlinewidth\":0,\"ticks\":\"\"}}],\"histogram2d\":[{\"type\":\"histogram2d\",\"colorbar\":{\"outlinewidth\":0,\"ticks\":\"\"},\"colorscale\":[[0.0,\"#0d0887\"],[0.1111111111111111,\"#46039f\"],[0.2222222222222222,\"#7201a8\"],[0.3333333333333333,\"#9c179e\"],[0.4444444444444444,\"#bd3786\"],[0.5555555555555556,\"#d8576b\"],[0.6666666666666666,\"#ed7953\"],[0.7777777777777778,\"#fb9f3a\"],[0.8888888888888888,\"#fdca26\"],[1.0,\"#f0f921\"]]}],\"heatmap\":[{\"type\":\"heatmap\",\"colorbar\":{\"outlinewidth\":0,\"ticks\":\"\"},\"colorscale\":[[0.0,\"#0d0887\"],[0.1111111111111111,\"#46039f\"],[0.2222222222222222,\"#7201a8\"],[0.3333333333333333,\"#9c179e\"],[0.4444444444444444,\"#bd3786\"],[0.5555555555555556,\"#d8576b\"],[0.6666666666666666,\"#ed7953\"],[0.7777777777777778,\"#fb9f3a\"],[0.8888888888888888,\"#fdca26\"],[1.0,\"#f0f921\"]]}],\"heatmapgl\":[{\"type\":\"heatmapgl\",\"colorbar\":{\"outlinewidth\":0,\"ticks\":\"\"},\"colorscale\":[[0.0,\"#0d0887\"],[0.1111111111111111,\"#46039f\"],[0.2222222222222222,\"#7201a8\"],[0.3333333333333333,\"#9c179e\"],[0.4444444444444444,\"#bd3786\"],[0.5555555555555556,\"#d8576b\"],[0.6666666666666666,\"#ed7953\"],[0.7777777777777778,\"#fb9f3a\"],[0.8888888888888888,\"#fdca26\"],[1.0,\"#f0f921\"]]}],\"contourcarpet\":[{\"type\":\"contourcarpet\",\"colorbar\":{\"outlinewidth\":0,\"ticks\":\"\"}}],\"contour\":[{\"type\":\"contour\",\"colorbar\":{\"outlinewidth\":0,\"ticks\":\"\"},\"colorscale\":[[0.0,\"#0d0887\"],[0.1111111111111111,\"#46039f\"],[0.2222222222222222,\"#7201a8\"],[0.3333333333333333,\"#9c179e\"],[0.4444444444444444,\"#bd3786\"],[0.5555555555555556,\"#d8576b\"],[0.6666666666666666,\"#ed7953\"],[0.7777777777777778,\"#fb9f3a\"],[0.8888888888888888,\"#fdca26\"],[1.0,\"#f0f921\"]]}],\"surface\":[{\"type\":\"surface\",\"colorbar\":{\"outlinewidth\":0,\"ticks\":\"\"},\"colorscale\":[[0.0,\"#0d0887\"],[0.1111111111111111,\"#46039f\"],[0.2222222222222222,\"#7201a8\"],[0.3333333333333333,\"#9c179e\"],[0.4444444444444444,\"#bd3786\"],[0.5555555555555556,\"#d8576b\"],[0.6666666666666666,\"#ed7953\"],[0.7777777777777778,\"#fb9f3a\"],[0.8888888888888888,\"#fdca26\"],[1.0,\"#f0f921\"]]}],\"mesh3d\":[{\"type\":\"mesh3d\",\"colorbar\":{\"outlinewidth\":0,\"ticks\":\"\"}}],\"scatter\":[{\"fillpattern\":{\"fillmode\":\"overlay\",\"size\":10,\"solidity\":0.2},\"type\":\"scatter\"}],\"parcoords\":[{\"type\":\"parcoords\",\"line\":{\"colorbar\":{\"outlinewidth\":0,\"ticks\":\"\"}}}],\"scatterpolargl\":[{\"type\":\"scatterpolargl\",\"marker\":{\"colorbar\":{\"outlinewidth\":0,\"ticks\":\"\"}}}],\"bar\":[{\"error_x\":{\"color\":\"#2a3f5f\"},\"error_y\":{\"color\":\"#2a3f5f\"},\"marker\":{\"line\":{\"color\":\"#E5ECF6\",\"width\":0.5},\"pattern\":{\"fillmode\":\"overlay\",\"size\":10,\"solidity\":0.2}},\"type\":\"bar\"}],\"scattergeo\":[{\"type\":\"scattergeo\",\"marker\":{\"colorbar\":{\"outlinewidth\":0,\"ticks\":\"\"}}}],\"scatterpolar\":[{\"type\":\"scatterpolar\",\"marker\":{\"colorbar\":{\"outlinewidth\":0,\"ticks\":\"\"}}}],\"histogram\":[{\"marker\":{\"pattern\":{\"fillmode\":\"overlay\",\"size\":10,\"solidity\":0.2}},\"type\":\"histogram\"}],\"scattergl\":[{\"type\":\"scattergl\",\"marker\":{\"colorbar\":{\"outlinewidth\":0,\"ticks\":\"\"}}}],\"scatter3d\":[{\"type\":\"scatter3d\",\"line\":{\"colorbar\":{\"outlinewidth\":0,\"ticks\":\"\"}},\"marker\":{\"colorbar\":{\"outlinewidth\":0,\"ticks\":\"\"}}}],\"scattermapbox\":[{\"type\":\"scattermapbox\",\"marker\":{\"colorbar\":{\"outlinewidth\":0,\"ticks\":\"\"}}}],\"scatterternary\":[{\"type\":\"scatterternary\",\"marker\":{\"colorbar\":{\"outlinewidth\":0,\"ticks\":\"\"}}}],\"scattercarpet\":[{\"type\":\"scattercarpet\",\"marker\":{\"colorbar\":{\"outlinewidth\":0,\"ticks\":\"\"}}}],\"carpet\":[{\"aaxis\":{\"endlinecolor\":\"#2a3f5f\",\"gridcolor\":\"white\",\"linecolor\":\"white\",\"minorgridcolor\":\"white\",\"startlinecolor\":\"#2a3f5f\"},\"baxis\":{\"endlinecolor\":\"#2a3f5f\",\"gridcolor\":\"white\",\"linecolor\":\"white\",\"minorgridcolor\":\"white\",\"startlinecolor\":\"#2a3f5f\"},\"type\":\"carpet\"}],\"table\":[{\"cells\":{\"fill\":{\"color\":\"#EBF0F8\"},\"line\":{\"color\":\"white\"}},\"header\":{\"fill\":{\"color\":\"#C8D4E3\"},\"line\":{\"color\":\"white\"}},\"type\":\"table\"}],\"barpolar\":[{\"marker\":{\"line\":{\"color\":\"#E5ECF6\",\"width\":0.5},\"pattern\":{\"fillmode\":\"overlay\",\"size\":10,\"solidity\":0.2}},\"type\":\"barpolar\"}],\"pie\":[{\"automargin\":true,\"type\":\"pie\"}]},\"layout\":{\"autotypenumbers\":\"strict\",\"colorway\":[\"#636efa\",\"#EF553B\",\"#00cc96\",\"#ab63fa\",\"#FFA15A\",\"#19d3f3\",\"#FF6692\",\"#B6E880\",\"#FF97FF\",\"#FECB52\"],\"font\":{\"color\":\"#2a3f5f\"},\"hovermode\":\"closest\",\"hoverlabel\":{\"align\":\"left\"},\"paper_bgcolor\":\"white\",\"plot_bgcolor\":\"#E5ECF6\",\"polar\":{\"bgcolor\":\"#E5ECF6\",\"angularaxis\":{\"gridcolor\":\"white\",\"linecolor\":\"white\",\"ticks\":\"\"},\"radialaxis\":{\"gridcolor\":\"white\",\"linecolor\":\"white\",\"ticks\":\"\"}},\"ternary\":{\"bgcolor\":\"#E5ECF6\",\"aaxis\":{\"gridcolor\":\"white\",\"linecolor\":\"white\",\"ticks\":\"\"},\"baxis\":{\"gridcolor\":\"white\",\"linecolor\":\"white\",\"ticks\":\"\"},\"caxis\":{\"gridcolor\":\"white\",\"linecolor\":\"white\",\"ticks\":\"\"}},\"coloraxis\":{\"colorbar\":{\"outlinewidth\":0,\"ticks\":\"\"}},\"colorscale\":{\"sequential\":[[0.0,\"#0d0887\"],[0.1111111111111111,\"#46039f\"],[0.2222222222222222,\"#7201a8\"],[0.3333333333333333,\"#9c179e\"],[0.4444444444444444,\"#bd3786\"],[0.5555555555555556,\"#d8576b\"],[0.6666666666666666,\"#ed7953\"],[0.7777777777777778,\"#fb9f3a\"],[0.8888888888888888,\"#fdca26\"],[1.0,\"#f0f921\"]],\"sequentialminus\":[[0.0,\"#0d0887\"],[0.1111111111111111,\"#46039f\"],[0.2222222222222222,\"#7201a8\"],[0.3333333333333333,\"#9c179e\"],[0.4444444444444444,\"#bd3786\"],[0.5555555555555556,\"#d8576b\"],[0.6666666666666666,\"#ed7953\"],[0.7777777777777778,\"#fb9f3a\"],[0.8888888888888888,\"#fdca26\"],[1.0,\"#f0f921\"]],\"diverging\":[[0,\"#8e0152\"],[0.1,\"#c51b7d\"],[0.2,\"#de77ae\"],[0.3,\"#f1b6da\"],[0.4,\"#fde0ef\"],[0.5,\"#f7f7f7\"],[0.6,\"#e6f5d0\"],[0.7,\"#b8e186\"],[0.8,\"#7fbc41\"],[0.9,\"#4d9221\"],[1,\"#276419\"]]},\"xaxis\":{\"gridcolor\":\"white\",\"linecolor\":\"white\",\"ticks\":\"\",\"title\":{\"standoff\":15},\"zerolinecolor\":\"white\",\"automargin\":true,\"zerolinewidth\":2},\"yaxis\":{\"gridcolor\":\"white\",\"linecolor\":\"white\",\"ticks\":\"\",\"title\":{\"standoff\":15},\"zerolinecolor\":\"white\",\"automargin\":true,\"zerolinewidth\":2},\"scene\":{\"xaxis\":{\"backgroundcolor\":\"#E5ECF6\",\"gridcolor\":\"white\",\"linecolor\":\"white\",\"showbackground\":true,\"ticks\":\"\",\"zerolinecolor\":\"white\",\"gridwidth\":2},\"yaxis\":{\"backgroundcolor\":\"#E5ECF6\",\"gridcolor\":\"white\",\"linecolor\":\"white\",\"showbackground\":true,\"ticks\":\"\",\"zerolinecolor\":\"white\",\"gridwidth\":2},\"zaxis\":{\"backgroundcolor\":\"#E5ECF6\",\"gridcolor\":\"white\",\"linecolor\":\"white\",\"showbackground\":true,\"ticks\":\"\",\"zerolinecolor\":\"white\",\"gridwidth\":2}},\"shapedefaults\":{\"line\":{\"color\":\"#2a3f5f\"}},\"annotationdefaults\":{\"arrowcolor\":\"#2a3f5f\",\"arrowhead\":0,\"arrowwidth\":1},\"geo\":{\"bgcolor\":\"white\",\"landcolor\":\"#E5ECF6\",\"subunitcolor\":\"white\",\"showland\":true,\"showlakes\":true,\"lakecolor\":\"white\"},\"title\":{\"x\":0.05},\"mapbox\":{\"style\":\"light\"}}},\"xaxis\":{\"anchor\":\"y\",\"domain\":[0.0,1.0],\"title\":{\"text\":\"Month\"},\"categoryorder\":\"array\",\"categoryarray\":[\"01\",\"02\",\"03\"]},\"yaxis\":{\"anchor\":\"x\",\"domain\":[0.0,1.0],\"title\":{\"text\":\"Number of Tweets\"}},\"legend\":{\"title\":{\"text\":\"Sentiment\"},\"tracegroupgap\":0},\"title\":{\"text\":\"Monthly Number of Tweets by Sentiment\"},\"barmode\":\"relative\"},                        {\"responsive\": true}                    ).then(function(){\n",
       "                            \n",
       "var gd = document.getElementById('b0a18399-5742-47bf-a9c4-4c3debe745b6');\n",
       "var x = new MutationObserver(function (mutations, observer) {{\n",
       "        var display = window.getComputedStyle(gd).display;\n",
       "        if (!display || display === 'none') {{\n",
       "            console.log([gd, 'removed!']);\n",
       "            Plotly.purge(gd);\n",
       "            observer.disconnect();\n",
       "        }}\n",
       "}});\n",
       "\n",
       "// Listen for the removal of the full notebook cells\n",
       "var notebookContainer = gd.closest('#notebook-container');\n",
       "if (notebookContainer) {{\n",
       "    x.observe(notebookContainer, {childList: true});\n",
       "}}\n",
       "\n",
       "// Listen for the clearing of the current output cell\n",
       "var outputEl = gd.closest('.output');\n",
       "if (outputEl) {{\n",
       "    x.observe(outputEl, {childList: true});\n",
       "}}\n",
       "\n",
       "                        })                };                });            </script>        </div>"
      ]
     },
     "metadata": {},
     "output_type": "display_data"
    }
   ],
   "source": [
    "# Function to format the month\n",
    "def format_month(m: int):\n",
    "    return f\"{m:02d}\"\n",
    "\n",
    "# Define the desired order for months\n",
    "month_order = [format_month(month) for month in range(1, 4)]  # January to December\n",
    "\n",
    "# Group by Sentiment and month, and count the number of tweets\n",
    "sentiment_monthly = data.groupby(['Sentiment', 'Prcsd_Month'])['Tweet'].count().reset_index()\n",
    "sentiment_monthly.columns = ['Sentiment', 'Month', 'Number of Tweets']\n",
    "sentiment_monthly['Month'] = sentiment_monthly['Month'].apply(format_month)\n",
    "\n",
    "# Create a bar plot with custom month order\n",
    "fig = px.bar(\n",
    "    sentiment_monthly,\n",
    "    x='Month',\n",
    "    y='Number of Tweets',\n",
    "    color='Sentiment',\n",
    "    color_discrete_sequence=['#FF6A6A', '#87CEFF', '#43CD80'],\n",
    "    title='Monthly Number of Tweets by Sentiment',\n",
    ")\n",
    "\n",
    "fig.update_xaxes(categoryorder='array', categoryarray=month_order)  # Specify the desired order\n",
    "\n",
    "fig.update_layout(\n",
    "    xaxis_title='Month',\n",
    "    yaxis_title='Number of Tweets',\n",
    "    legend_title='Sentiment',\n",
    ")\n",
    "\n",
    "fig.show()"
   ]
  },
  {
   "cell_type": "markdown",
   "id": "1d5f2115",
   "metadata": {},
   "source": [
    "# Hypothesis testing:"
   ]
  },
  {
   "cell_type": "code",
   "execution_count": 122,
   "id": "5c0e6591",
   "metadata": {},
   "outputs": [
    {
     "name": "stdout",
     "output_type": "stream",
     "text": [
      "Reject the null hypothesis. There is a significant difference in mean likes.\n",
      "t-statistic: 2.97172678116093\n",
      "p-value: 0.002963426925918598\n"
     ]
    }
   ],
   "source": [
    "import numpy as np\n",
    "from scipy import stats\n",
    "\n",
    "positive_likes = data[data['Sentiment'] == 'Positive']['Likes']\n",
    "negative_likes = data[data['Sentiment'] == 'Negative']['Likes']\n",
    "\n",
    "# Defining hypotheses\n",
    "alpha = 0.05  # Significance level\n",
    "\n",
    "# Performing an independent two-sample t-test\n",
    "t_stat, p_value = stats.ttest_ind(positive_likes, negative_likes, equal_var=False)\n",
    "\n",
    "# Compare p-value to alpha\n",
    "if p_value < alpha:\n",
    "    print(\"Reject the null hypothesis. There is a significant difference in mean likes.\")\n",
    "else:\n",
    "    print(\"Fail to reject the null hypothesis. There is no significant difference in mean likes.\")\n",
    "\n",
    "# Print the test statistic and p-value\n",
    "print(\"t-statistic:\", t_stat)\n",
    "print(\"p-value:\", p_value)"
   ]
  },
  {
   "cell_type": "markdown",
   "id": "2450eabe",
   "metadata": {},
   "source": [
    "# Naive Bayes:"
   ]
  },
  {
   "cell_type": "code",
   "execution_count": 146,
   "id": "288f5ce6",
   "metadata": {},
   "outputs": [
    {
     "name": "stdout",
     "output_type": "stream",
     "text": [
      "Accuracy: 0.7075\n",
      "Classification Report:\n",
      "               precision    recall  f1-score   support\n",
      "\n",
      "    Negative       0.88      0.51      0.65      2656\n",
      "     Neutral       0.85      0.49      0.62      2812\n",
      "    Positive       0.64      0.96      0.76      4532\n",
      "\n",
      "    accuracy                           0.71     10000\n",
      "   macro avg       0.79      0.65      0.68     10000\n",
      "weighted avg       0.76      0.71      0.69     10000\n",
      "\n"
     ]
    }
   ],
   "source": [
    "from sklearn.metrics import accuracy_score, classification_report, confusion_matrix\n",
    "# Split the data into training and testing sets\n",
    "X = data['Cleaned_Tweet']\n",
    "y = data['Sentiment']\n",
    "X_train, X_test, y_train, y_test = train_test_split(X, y, test_size=0.2, random_state=42)\n",
    "\n",
    "# Vectorize the text data using TF-IDF\n",
    "tfidf_vectorizer = TfidfVectorizer(max_features=2600)  # You can adjust max_features as needed\n",
    "X_train_tfidf = tfidf_vectorizer.fit_transform(X_train)\n",
    "X_test_tfidf = tfidf_vectorizer.transform(X_test)\n",
    "\n",
    "# Train a Multinomial Naive Bayes classifier\n",
    "nb_classifier = MultinomialNB()\n",
    "nb_classifier.fit(X_train_tfidf, y_train)\n",
    "\n",
    "# Predict sentiments on the testing set\n",
    "y_pred = nb_classifier.predict(X_test_tfidf)\n",
    "\n",
    "# Evaluate the performance\n",
    "accuracy = accuracy_score(y_test, y_pred)\n",
    "confusion = confusion_matrix(y_test, y_pred)\n",
    "classification_rep = classification_report(y_test, y_pred)\n",
    "\n",
    "print(\"Accuracy:\", accuracy)\n",
    "print(\"Classification Report:\\n\", classification_rep)"
   ]
  },
  {
   "cell_type": "code",
   "execution_count": 147,
   "id": "faafca9b",
   "metadata": {},
   "outputs": [
    {
     "data": {
      "image/png": "[encoded data removed]",
      "text/plain": [
       "<Figure size 800x600 with 2 Axes>"
      ]
     },
     "metadata": {},
     "output_type": "display_data"
    }
   ],
   "source": [
    "import seaborn as sns\n",
    "from sklearn.metrics import confusion_matrix\n",
    "\n",
    "# Define class labels\n",
    "class_labels = ['Class 0', 'Class 1', 'Class 2']\n",
    "\n",
    "# Create a heatmap\n",
    "plt.figure(figsize=(8, 6))\n",
    "sns.heatmap(confusion, annot=True, fmt='d', cmap='Blues', xticklabels=class_labels, yticklabels=class_labels)\n",
    "plt.xlabel('Predicted Labels')\n",
    "plt.ylabel('True Labels')\n",
    "plt.title('Naive Bayes Confusion Matrix')\n",
    "plt.show()"
   ]
  },
  {
   "cell_type": "markdown",
   "id": "98d5c42d",
   "metadata": {},
   "source": [
    "# Deep Neural network polynomial classifier:"
   ]
  },
  {
   "cell_type": "code",
   "execution_count": 154,
   "id": "08bdd8d5",
   "metadata": {},
   "outputs": [],
   "source": [
    "import numpy as np\n",
    "import pandas as pd\n",
    "import tensorflow as tf\n",
    "from tensorflow import keras\n",
    "from sklearn.model_selection import train_test_split\n",
    "from sklearn.preprocessing import LabelEncoder\n",
    "from sklearn.metrics import classification_report, confusion_matrix"
   ]
  },
  {
   "cell_type": "code",
   "execution_count": 155,
   "id": "576267c2",
   "metadata": {},
   "outputs": [],
   "source": [
    "# X should contain the preprocessed text data, and y should contain sentiment labels\n",
    "X = data['Cleaned_Tweet'].values\n",
    "y = data['Sentiment'].values\n",
    "\n",
    "# Encode sentiment labels to numerical values\n",
    "label_encoder = LabelEncoder()\n",
    "y = label_encoder.fit_transform(y)\n",
    "\n",
    "# Split the data into training and testing sets\n",
    "X_train, X_test, y_train, y_test = train_test_split(X, y, test_size=0.2, random_state=42)\n",
    "from tensorflow.keras.preprocessing.text import Tokenizer\n",
    "from tensorflow.keras.preprocessing.sequence import pad_sequences\n",
    "\n",
    "max_words = 10000  # Set the maximum number of words to consider in your vocabulary\n",
    "max_sequence_length = 100  # Set the maximum length of your sequences\n",
    "\n",
    "tokenizer = Tokenizer(num_words=max_words)\n",
    "tokenizer.fit_on_texts(X_train)\n",
    "\n",
    "X_train_seq = tokenizer.texts_to_sequences(X_train)\n",
    "X_test_seq = tokenizer.texts_to_sequences(X_test)\n",
    "\n",
    "X_train_pad = pad_sequences(X_train_seq, maxlen=max_sequence_length)\n",
    "X_test_pad = pad_sequences(X_test_seq, maxlen=max_sequence_length)\n",
    "model = keras.Sequential([\n",
    "    keras.layers.Embedding(input_dim=max_words, output_dim=128, input_length=max_sequence_length),\n",
    "    keras.layers.Flatten(),\n",
    "    keras.layers.Dense(128, activation='relu'),\n",
    "    keras.layers.Dense(64, activation='relu'),\n",
    "    keras.layers.Dense(3, activation='softmax')  # Adjust the output units based on the number of classes\n",
    "])\n",
    "\n",
    "model.compile(optimizer='adam', loss='sparse_categorical_crossentropy', metrics=['accuracy'])"
   ]
  },
  {
   "cell_type": "code",
   "execution_count": 156,
   "id": "b431df45",
   "metadata": {},
   "outputs": [
    {
     "name": "stdout",
     "output_type": "stream",
     "text": [
      "Epoch 1/10\n",
      "1250/1250 [==============================] - 37s 29ms/step - loss: 0.5006 - accuracy: 0.7959 - val_loss: 0.2446 - val_accuracy: 0.9192\n",
      "Epoch 2/10\n",
      "1250/1250 [==============================] - 37s 30ms/step - loss: 0.1087 - accuracy: 0.9676 - val_loss: 0.2750 - val_accuracy: 0.9166\n",
      "Epoch 3/10\n",
      "1250/1250 [==============================] - 40s 32ms/step - loss: 0.0336 - accuracy: 0.9904 - val_loss: 0.4012 - val_accuracy: 0.9105\n",
      "Epoch 4/10\n",
      "1250/1250 [==============================] - 38s 30ms/step - loss: 0.0142 - accuracy: 0.9960 - val_loss: 0.3970 - val_accuracy: 0.9106\n",
      "Epoch 5/10\n",
      "1250/1250 [==============================] - 36s 29ms/step - loss: 0.0166 - accuracy: 0.9947 - val_loss: 0.4200 - val_accuracy: 0.9093\n",
      "Epoch 6/10\n",
      "1250/1250 [==============================] - 36s 29ms/step - loss: 0.0130 - accuracy: 0.9957 - val_loss: 0.5063 - val_accuracy: 0.8992\n",
      "Epoch 7/10\n",
      "1250/1250 [==============================] - 35s 28ms/step - loss: 0.0065 - accuracy: 0.9980 - val_loss: 0.5418 - val_accuracy: 0.9110\n",
      "Epoch 8/10\n",
      "1250/1250 [==============================] - 36s 29ms/step - loss: 0.0048 - accuracy: 0.9985 - val_loss: 0.6081 - val_accuracy: 0.9100\n",
      "Epoch 9/10\n",
      "1250/1250 [==============================] - 36s 29ms/step - loss: 0.0089 - accuracy: 0.9976 - val_loss: 0.5274 - val_accuracy: 0.9116\n",
      "Epoch 10/10\n",
      "1250/1250 [==============================] - 36s 29ms/step - loss: 0.0057 - accuracy: 0.9982 - val_loss: 0.6309 - val_accuracy: 0.9083\n"
     ]
    },
    {
     "data": {
      "text/plain": [
       "<keras.src.callbacks.History at 0x1e61a8e78b0>"
      ]
     },
     "execution_count": 156,
     "metadata": {},
     "output_type": "execute_result"
    }
   ],
   "source": [
    "epochs = 10  # Adjust the number of training epochs as needed\n",
    "model.fit(X_train_pad, y_train, epochs=epochs, validation_data=(X_test_pad, y_test))"
   ]
  },
  {
   "cell_type": "code",
   "execution_count": 157,
   "id": "83518c6b",
   "metadata": {},
   "outputs": [
    {
     "name": "stdout",
     "output_type": "stream",
     "text": [
      "313/313 [==============================] - 1s 4ms/step\n",
      "Classification Report:\n",
      "              precision    recall  f1-score   support\n",
      "\n",
      "    Negative       0.90      0.83      0.87      2656\n",
      "     Neutral       0.94      0.92      0.93      2812\n",
      "    Positive       0.89      0.95      0.92      4532\n",
      "\n",
      "    accuracy                           0.91     10000\n",
      "   macro avg       0.91      0.90      0.90     10000\n",
      "weighted avg       0.91      0.91      0.91     10000\n",
      "\n"
     ]
    },
    {
     "data": {
      "image/png": "[encoded data removed]",
      "text/plain": [
       "<Figure size 800x600 with 2 Axes>"
      ]
     },
     "metadata": {},
     "output_type": "display_data"
    }
   ],
   "source": [
    "y_pred = model.predict(X_test_pad)\n",
    "y_pred_classes = np.argmax(y_pred, axis=1)\n",
    "\n",
    "print(\"Classification Report:\")\n",
    "print(classification_report(y_test, y_pred_classes, target_names=label_encoder.classes_))\n",
    "confusion_DNN=confusion_matrix(y_test, y_pred_classes)\n",
    "\n",
    "# Define class labels\n",
    "class_labels2 = ['Class 0', 'Class 1', 'Class 2']\n",
    "\n",
    "# Create a heatmap\n",
    "plt.figure(figsize=(8, 6))\n",
    "sns.heatmap(confusion_DNN, annot=True, fmt='d', cmap='Greens', xticklabels=class_labels2, yticklabels=class_labels)\n",
    "plt.xlabel('Predicted Labels')\n",
    "plt.ylabel('True Labels')\n",
    "plt.title('DNN Confusion Matrix')\n",
    "plt.show()"
   ]
  },
  {
   "cell_type": "markdown",
   "id": "6ade7921",
   "metadata": {},
   "source": [
    "We can observe that Deep neural network model has higher accuracy than Naive Bayes."
   ]
  },
  {
   "cell_type": "markdown",
   "id": "fc0e7b0f",
   "metadata": {},
   "source": [
    "# Topic Extraction:"
   ]
  },
  {
   "cell_type": "code",
   "execution_count": 162,
   "id": "222e07aa",
   "metadata": {},
   "outputs": [
    {
     "data": {
      "text/html": [
       "<style>#sk-container-id-2 {color: black;}#sk-container-id-2 pre{padding: 0;}#sk-container-id-2 div.sk-toggleable {background-color: white;}#sk-container-id-2 label.sk-toggleable__label {cursor: pointer;display: block;width: 100%;margin-bottom: 0;padding: 0.3em;box-sizing: border-box;text-align: center;}#sk-container-id-2 label.sk-toggleable__label-arrow:before {content: \"▸\";float: left;margin-right: 0.25em;color: #696969;}#sk-container-id-2 label.sk-toggleable__label-arrow:hover:before {color: black;}#sk-container-id-2 div.sk-estimator:hover label.sk-toggleable__label-arrow:before {color: black;}#sk-container-id-2 div.sk-toggleable__content {max-height: 0;max-width: 0;overflow: hidden;text-align: left;background-color: #f0f8ff;}#sk-container-id-2 div.sk-toggleable__content pre {margin: 0.2em;color: black;border-radius: 0.25em;background-color: #f0f8ff;}#sk-container-id-2 input.sk-toggleable__control:checked~div.sk-toggleable__content {max-height: 200px;max-width: 100%;overflow: auto;}#sk-container-id-2 input.sk-toggleable__control:checked~label.sk-toggleable__label-arrow:before {content: \"▾\";}#sk-container-id-2 div.sk-estimator input.sk-toggleable__control:checked~label.sk-toggleable__label {background-color: #d4ebff;}#sk-container-id-2 div.sk-label input.sk-toggleable__control:checked~label.sk-toggleable__label {background-color: #d4ebff;}#sk-container-id-2 input.sk-hidden--visually {border: 0;clip: rect(1px 1px 1px 1px);clip: rect(1px, 1px, 1px, 1px);height: 1px;margin: -1px;overflow: hidden;padding: 0;position: absolute;width: 1px;}#sk-container-id-2 div.sk-estimator {font-family: monospace;background-color: #f0f8ff;border: 1px dotted black;border-radius: 0.25em;box-sizing: border-box;margin-bottom: 0.5em;}#sk-container-id-2 div.sk-estimator:hover {background-color: #d4ebff;}#sk-container-id-2 div.sk-parallel-item::after {content: \"\";width: 100%;border-bottom: 1px solid gray;flex-grow: 1;}#sk-container-id-2 div.sk-label:hover label.sk-toggleable__label {background-color: #d4ebff;}#sk-container-id-2 div.sk-serial::before {content: \"\";position: absolute;border-left: 1px solid gray;box-sizing: border-box;top: 0;bottom: 0;left: 50%;z-index: 0;}#sk-container-id-2 div.sk-serial {display: flex;flex-direction: column;align-items: center;background-color: white;padding-right: 0.2em;padding-left: 0.2em;position: relative;}#sk-container-id-2 div.sk-item {position: relative;z-index: 1;}#sk-container-id-2 div.sk-parallel {display: flex;align-items: stretch;justify-content: center;background-color: white;position: relative;}#sk-container-id-2 div.sk-item::before, #sk-container-id-2 div.sk-parallel-item::before {content: \"\";position: absolute;border-left: 1px solid gray;box-sizing: border-box;top: 0;bottom: 0;left: 50%;z-index: -1;}#sk-container-id-2 div.sk-parallel-item {display: flex;flex-direction: column;z-index: 1;position: relative;background-color: white;}#sk-container-id-2 div.sk-parallel-item:first-child::after {align-self: flex-end;width: 50%;}#sk-container-id-2 div.sk-parallel-item:last-child::after {align-self: flex-start;width: 50%;}#sk-container-id-2 div.sk-parallel-item:only-child::after {width: 0;}#sk-container-id-2 div.sk-dashed-wrapped {border: 1px dashed gray;margin: 0 0.4em 0.5em 0.4em;box-sizing: border-box;padding-bottom: 0.4em;background-color: white;}#sk-container-id-2 div.sk-label label {font-family: monospace;font-weight: bold;display: inline-block;line-height: 1.2em;}#sk-container-id-2 div.sk-label-container {text-align: center;}#sk-container-id-2 div.sk-container {/* jupyter's `normalize.less` sets `[hidden] { display: none; }` but bootstrap.min.css set `[hidden] { display: none !important; }` so we also need the `!important` here to be able to override the default hidden behavior on the sphinx rendered scikit-learn.org. See: https://github.com/scikit-learn/scikit-learn/issues/21755 */display: inline-block !important;position: relative;}#sk-container-id-2 div.sk-text-repr-fallback {display: none;}</style><div id=\"sk-container-id-2\" class=\"sk-top-container\"><div class=\"sk-text-repr-fallback\"><pre>LatentDirichletAllocation(n_components=4, random_state=42)</pre><b>In a Jupyter environment, please rerun this cell to show the HTML representation or trust the notebook. <br />On GitHub, the HTML representation is unable to render, please try loading this page with nbviewer.org.</b></div><div class=\"sk-container\" hidden><div class=\"sk-item\"><div class=\"sk-estimator sk-toggleable\"><input class=\"sk-toggleable__control sk-hidden--visually\" id=\"sk-estimator-id-2\" type=\"checkbox\" checked><label for=\"sk-estimator-id-2\" class=\"sk-toggleable__label sk-toggleable__label-arrow\">LatentDirichletAllocation</label><div class=\"sk-toggleable__content\"><pre>LatentDirichletAllocation(n_components=4, random_state=42)</pre></div></div></div></div></div>"
      ],
      "text/plain": [
       "LatentDirichletAllocation(n_components=4, random_state=42)"
      ]
     },
     "execution_count": 162,
     "metadata": {},
     "output_type": "execute_result"
    }
   ],
   "source": [
    "from sklearn.feature_extraction.text import TfidfVectorizer\n",
    "\n",
    "# Create a TF-IDF vectorizer\n",
    "tfidf_vectorizer = TfidfVectorizer(max_df=0.95, min_df=2, stop_words='english')\n",
    "\n",
    "# Fit and transform your text data\n",
    "tfidf_matrix = tfidf_vectorizer.fit_transform(X)\n",
    "\n",
    "# Apply Latent Dirichlet Allocation (LDA)\n",
    "from sklearn.decomposition import LatentDirichletAllocation\n",
    "lda = LatentDirichletAllocation(n_components=4, random_state=42)\n",
    "lda.fit(tfidf_matrix)"
   ]
  },
  {
   "cell_type": "code",
   "execution_count": 163,
   "id": "537d0914",
   "metadata": {},
   "outputs": [
    {
     "name": "stdout",
     "output_type": "stream",
     "text": [
      "Topic 0: ['indian', 'politics', 'people', 'india', 'amp', 'leader', 'know', 'political', 'ultimate', 'modi']\n",
      "Topic 1: ['politics', 'indian', 'india', 'bjp', 'people', 'amp', 'congress', 'like', 'party', 'gandhi']\n",
      "Topic 2: ['indian', 'politics', 'india', 'amp', 'people', 'like', 'party', 'congress', 'country', 'news']\n",
      "Topic 3: ['indian', 'politics', 'cricket', 'team', 'biggest', 'fraud', 'ji', 'bcci', 'hai', 'rahul']\n"
     ]
    }
   ],
   "source": [
    "feature_names = tfidf_vectorizer.get_feature_names_out()\n",
    "n_top_words = 10  # We can Adjust the number of top words to display\n",
    "for topic_idx, topic in enumerate(lda.components_):\n",
    "    top_words_idx = topic.argsort()[:-n_top_words - 1:-1]\n",
    "    top_words = [feature_names[i] for i in top_words_idx]\n",
    "    print(f\"Topic {topic_idx}:\", top_words)"
   ]
  },
  {
   "cell_type": "code",
   "execution_count": 164,
   "id": "12def0b5",
   "metadata": {},
   "outputs": [],
   "source": [
    "doc_topic_matrix = lda.transform(tfidf_matrix)"
   ]
  },
  {
   "cell_type": "code",
   "execution_count": 174,
   "id": "938920c9",
   "metadata": {},
   "outputs": [
    {
     "data": {
      "text/html": [
       "<div>\n",
       "<style scoped>\n",
       "    .dataframe tbody tr th:only-of-type {\n",
       "        vertical-align: middle;\n",
       "    }\n",
       "\n",
       "    .dataframe tbody tr th {\n",
       "        vertical-align: top;\n",
       "    }\n",
       "\n",
       "    .dataframe thead th {\n",
       "        text-align: right;\n",
       "    }\n",
       "</style>\n",
       "<table border=\"1\" class=\"dataframe\">\n",
       "  <thead>\n",
       "    <tr style=\"text-align: right;\">\n",
       "      <th></th>\n",
       "      <th>Unnamed: 0</th>\n",
       "      <th>User</th>\n",
       "      <th>Tweet</th>\n",
       "      <th>Likes</th>\n",
       "      <th>Retweets</th>\n",
       "      <th>Unprocessed_Tweets</th>\n",
       "      <th>Date&amp;Time</th>\n",
       "      <th>Prcsd_Date</th>\n",
       "      <th>Prcsd_Month</th>\n",
       "      <th>Prcsd_Year</th>\n",
       "      <th>Prcsd_Hour</th>\n",
       "      <th>Cleaned_Tweet</th>\n",
       "      <th>Polarity</th>\n",
       "      <th>Sentiment</th>\n",
       "      <th>Topic</th>\n",
       "    </tr>\n",
       "  </thead>\n",
       "  <tbody>\n",
       "    <tr>\n",
       "      <th>0</th>\n",
       "      <td>0</td>\n",
       "      <td>AnandPatni8</td>\n",
       "      <td>@vinodkapri @RahulGandhi Respected Indian Citi...</td>\n",
       "      <td>0.0</td>\n",
       "      <td>0.0</td>\n",
       "      <td>@vinodkapri @RahulGandhi Respected Indian Citi...</td>\n",
       "      <td>2023-03-29 15:42:36</td>\n",
       "      <td>2023-03-29</td>\n",
       "      <td>3</td>\n",
       "      <td>2023</td>\n",
       "      <td>15</td>\n",
       "      <td>respected indian citizens namaskaari original ...</td>\n",
       "      <td>-0.062500</td>\n",
       "      <td>Negative</td>\n",
       "      <td>Indian Political Issues and News</td>\n",
       "    </tr>\n",
       "    <tr>\n",
       "      <th>1</th>\n",
       "      <td>1</td>\n",
       "      <td>dhinamum</td>\n",
       "      <td>*Respected Indian Citizens,* Namaskaar I Am Th...</td>\n",
       "      <td>0.0</td>\n",
       "      <td>0.0</td>\n",
       "      <td>*Respected Indian Citizens,* Namaskaar I Am Th...</td>\n",
       "      <td>2023-03-29 15:42:05</td>\n",
       "      <td>2023-03-29</td>\n",
       "      <td>3</td>\n",
       "      <td>2023</td>\n",
       "      <td>15</td>\n",
       "      <td>respected indian citizens namaskaar I original...</td>\n",
       "      <td>-0.062500</td>\n",
       "      <td>Negative</td>\n",
       "      <td>Indian Political Issues and News</td>\n",
       "    </tr>\n",
       "    <tr>\n",
       "      <th>2</th>\n",
       "      <td>2</td>\n",
       "      <td>PrincetonCGI</td>\n",
       "      <td>1/n-Meet Filmmaker Prakash Jha in New Jersey t...</td>\n",
       "      <td>0.0</td>\n",
       "      <td>0.0</td>\n",
       "      <td>1/n-Meet Filmmaker Prakash Jha in New Jersey t...</td>\n",
       "      <td>2023-03-29 15:34:29</td>\n",
       "      <td>2023-03-29</td>\n",
       "      <td>3</td>\n",
       "      <td>2023</td>\n",
       "      <td>15</td>\n",
       "      <td>1 meet filmmaker prakash jha new jersey talkin...</td>\n",
       "      <td>0.173232</td>\n",
       "      <td>Positive</td>\n",
       "      <td>Indian Political Issues and News</td>\n",
       "    </tr>\n",
       "    <tr>\n",
       "      <th>3</th>\n",
       "      <td>3</td>\n",
       "      <td>RishiJoeSanu</td>\n",
       "      <td>@MrinalWahal Why would politicians stop using ...</td>\n",
       "      <td>0.0</td>\n",
       "      <td>0.0</td>\n",
       "      <td>@MrinalWahal Why would politicians stop using ...</td>\n",
       "      <td>2023-03-29 15:31:43</td>\n",
       "      <td>2023-03-29</td>\n",
       "      <td>3</td>\n",
       "      <td>2023</td>\n",
       "      <td>15</td>\n",
       "      <td>would politicians stop using religion politics...</td>\n",
       "      <td>0.000000</td>\n",
       "      <td>Neutral</td>\n",
       "      <td>Political Parties in India</td>\n",
       "    </tr>\n",
       "    <tr>\n",
       "      <th>4</th>\n",
       "      <td>4</td>\n",
       "      <td>itweetsensee</td>\n",
       "      <td>@annamalai_k @narendramodi A state level presi...</td>\n",
       "      <td>0.0</td>\n",
       "      <td>0.0</td>\n",
       "      <td>@annamalai_k @narendramodi A state level presi...</td>\n",
       "      <td>2023-03-29 15:26:48</td>\n",
       "      <td>2023-03-29</td>\n",
       "      <td>3</td>\n",
       "      <td>2023</td>\n",
       "      <td>15</td>\n",
       "      <td>state level president knows policy pm union mi...</td>\n",
       "      <td>0.214286</td>\n",
       "      <td>Positive</td>\n",
       "      <td>Political Parties in India</td>\n",
       "    </tr>\n",
       "    <tr>\n",
       "      <th>5</th>\n",
       "      <td>5</td>\n",
       "      <td>FreeMindKeenEye</td>\n",
       "      <td>@IAMCouncil @POTUS @Ilhan @bridgeinit OK this ...</td>\n",
       "      <td>0.0</td>\n",
       "      <td>0.0</td>\n",
       "      <td>@IAMCouncil @POTUS @Ilhan @bridgeinit OK this ...</td>\n",
       "      <td>2023-03-29 15:21:29</td>\n",
       "      <td>2023-03-29</td>\n",
       "      <td>3</td>\n",
       "      <td>2023</td>\n",
       "      <td>15</td>\n",
       "      <td>ok lady issues us poke dirty nose indian polit...</td>\n",
       "      <td>-0.033333</td>\n",
       "      <td>Negative</td>\n",
       "      <td>Indian Political Issues and News</td>\n",
       "    </tr>\n",
       "    <tr>\n",
       "      <th>6</th>\n",
       "      <td>6</td>\n",
       "      <td>SamsSamsson6</td>\n",
       "      <td>@darrengrimes_ Why are pakistani /indian dual ...</td>\n",
       "      <td>0.0</td>\n",
       "      <td>0.0</td>\n",
       "      <td>@darrengrimes_ Why are pakistani /indian dual ...</td>\n",
       "      <td>2023-03-29 15:20:41</td>\n",
       "      <td>2023-03-29</td>\n",
       "      <td>3</td>\n",
       "      <td>2023</td>\n",
       "      <td>15</td>\n",
       "      <td>pakistani indian dual nationals allowed uk pol...</td>\n",
       "      <td>0.000000</td>\n",
       "      <td>Neutral</td>\n",
       "      <td>Political Parties in India</td>\n",
       "    </tr>\n",
       "    <tr>\n",
       "      <th>7</th>\n",
       "      <td>7</td>\n",
       "      <td>SamsSamsson6</td>\n",
       "      <td>@PeterStefanovi2 Why are pakistani /indian dua...</td>\n",
       "      <td>0.0</td>\n",
       "      <td>0.0</td>\n",
       "      <td>@PeterStefanovi2 Why are pakistani /indian dua...</td>\n",
       "      <td>2023-03-29 15:20:16</td>\n",
       "      <td>2023-03-29</td>\n",
       "      <td>3</td>\n",
       "      <td>2023</td>\n",
       "      <td>15</td>\n",
       "      <td>pakistani indian dual nationals allowed uk pol...</td>\n",
       "      <td>0.000000</td>\n",
       "      <td>Neutral</td>\n",
       "      <td>Political Parties in India</td>\n",
       "    </tr>\n",
       "    <tr>\n",
       "      <th>8</th>\n",
       "      <td>8</td>\n",
       "      <td>SamsSamsson6</td>\n",
       "      <td>Why are pakistani /indian dual nationals allow...</td>\n",
       "      <td>0.0</td>\n",
       "      <td>0.0</td>\n",
       "      <td>Why are pakistani /indian dual nationals allow...</td>\n",
       "      <td>2023-03-29 15:19:44</td>\n",
       "      <td>2023-03-29</td>\n",
       "      <td>3</td>\n",
       "      <td>2023</td>\n",
       "      <td>15</td>\n",
       "      <td>pakistani indian dual nationals allowed uk pol...</td>\n",
       "      <td>0.000000</td>\n",
       "      <td>Neutral</td>\n",
       "      <td>Political Parties in India</td>\n",
       "    </tr>\n",
       "    <tr>\n",
       "      <th>9</th>\n",
       "      <td>9</td>\n",
       "      <td>ncsukumar1</td>\n",
       "      <td>@BesuraTaansane @KartiPC @PChidambaram_IN The ...</td>\n",
       "      <td>0.0</td>\n",
       "      <td>0.0</td>\n",
       "      <td>@BesuraTaansane @KartiPC @PChidambaram_IN The ...</td>\n",
       "      <td>2023-03-29 15:19:32</td>\n",
       "      <td>2023-03-29</td>\n",
       "      <td>3</td>\n",
       "      <td>2023</td>\n",
       "      <td>15</td>\n",
       "      <td>problem indian politics politicians n't rememb...</td>\n",
       "      <td>-0.111111</td>\n",
       "      <td>Negative</td>\n",
       "      <td>Indian Politics and Leadership</td>\n",
       "    </tr>\n",
       "    <tr>\n",
       "      <th>10</th>\n",
       "      <td>10</td>\n",
       "      <td>Rishaahmed12</td>\n",
       "      <td>AmitShah News18 Rising India is a platform tha...</td>\n",
       "      <td>0.0</td>\n",
       "      <td>0.0</td>\n",
       "      <td>AmitShah News18 Rising India is a platform tha...</td>\n",
       "      <td>2023-03-29 15:17:43</td>\n",
       "      <td>2023-03-29</td>\n",
       "      <td>3</td>\n",
       "      <td>2023</td>\n",
       "      <td>15</td>\n",
       "      <td>amitshah news18 rising india platform showcase...</td>\n",
       "      <td>0.000000</td>\n",
       "      <td>Neutral</td>\n",
       "      <td>Indian Cricket and Sports</td>\n",
       "    </tr>\n",
       "    <tr>\n",
       "      <th>11</th>\n",
       "      <td>11</td>\n",
       "      <td>iRakeshtripathi</td>\n",
       "      <td>As someone who is passionate about Indian poli...</td>\n",
       "      <td>0.0</td>\n",
       "      <td>0.0</td>\n",
       "      <td>As someone who is passionate about Indian poli...</td>\n",
       "      <td>2023-03-29 15:17:10</td>\n",
       "      <td>2023-03-29</td>\n",
       "      <td>3</td>\n",
       "      <td>2023</td>\n",
       "      <td>15</td>\n",
       "      <td>someone passionate indian politics 'm eager se...</td>\n",
       "      <td>-0.025000</td>\n",
       "      <td>Negative</td>\n",
       "      <td>Indian Cricket and Sports</td>\n",
       "    </tr>\n",
       "    <tr>\n",
       "      <th>12</th>\n",
       "      <td>12</td>\n",
       "      <td>chaudharyVi1</td>\n",
       "      <td>AmitShah News18 Rising India is the\\nplace to ...</td>\n",
       "      <td>0.0</td>\n",
       "      <td>0.0</td>\n",
       "      <td>AmitShah News18 Rising India is the\\nplace to ...</td>\n",
       "      <td>2023-03-29 15:16:55</td>\n",
       "      <td>2023-03-29</td>\n",
       "      <td>3</td>\n",
       "      <td>2023</td>\n",
       "      <td>15</td>\n",
       "      <td>amitshah news18 rising india place anyone want...</td>\n",
       "      <td>0.350000</td>\n",
       "      <td>Positive</td>\n",
       "      <td>Indian Cricket and Sports</td>\n",
       "    </tr>\n",
       "    <tr>\n",
       "      <th>13</th>\n",
       "      <td>13</td>\n",
       "      <td>sandeepr2217</td>\n",
       "      <td>AmitShah News18 Rising India never fails to pr...</td>\n",
       "      <td>0.0</td>\n",
       "      <td>0.0</td>\n",
       "      <td>AmitShah News18 Rising India never fails to pr...</td>\n",
       "      <td>2023-03-29 15:16:36</td>\n",
       "      <td>2023-03-29</td>\n",
       "      <td>3</td>\n",
       "      <td>2023</td>\n",
       "      <td>15</td>\n",
       "      <td>amitshah news18 rising india never fails provi...</td>\n",
       "      <td>0.250000</td>\n",
       "      <td>Positive</td>\n",
       "      <td>Indian Cricket and Sports</td>\n",
       "    </tr>\n",
       "    <tr>\n",
       "      <th>14</th>\n",
       "      <td>14</td>\n",
       "      <td>hbkrishnachary</td>\n",
       "      <td>@POTUS Under Biden politics American manufactu...</td>\n",
       "      <td>0.0</td>\n",
       "      <td>0.0</td>\n",
       "      <td>@POTUS Under Biden politics American manufactu...</td>\n",
       "      <td>2023-03-29 15:16:33</td>\n",
       "      <td>2023-03-29</td>\n",
       "      <td>3</td>\n",
       "      <td>2023</td>\n",
       "      <td>15</td>\n",
       "      <td>biden politics american manufacturing industri...</td>\n",
       "      <td>-0.143590</td>\n",
       "      <td>Negative</td>\n",
       "      <td>Indian Political Issues and News</td>\n",
       "    </tr>\n",
       "  </tbody>\n",
       "</table>\n",
       "</div>"
      ],
      "text/plain": [
       "   Unnamed: 0             User  \\\n",
       "0           0      AnandPatni8   \n",
       "1           1         dhinamum   \n",
       "2           2     PrincetonCGI   \n",
       "3           3     RishiJoeSanu   \n",
       "4           4     itweetsensee   \n",
       "5           5  FreeMindKeenEye   \n",
       "6           6     SamsSamsson6   \n",
       "7           7     SamsSamsson6   \n",
       "8           8     SamsSamsson6   \n",
       "9           9       ncsukumar1   \n",
       "10         10     Rishaahmed12   \n",
       "11         11  iRakeshtripathi   \n",
       "12         12     chaudharyVi1   \n",
       "13         13     sandeepr2217   \n",
       "14         14   hbkrishnachary   \n",
       "\n",
       "                                                Tweet  Likes  Retweets  \\\n",
       "0   @vinodkapri @RahulGandhi Respected Indian Citi...    0.0       0.0   \n",
       "1   *Respected Indian Citizens,* Namaskaar I Am Th...    0.0       0.0   \n",
       "2   1/n-Meet Filmmaker Prakash Jha in New Jersey t...    0.0       0.0   \n",
       "3   @MrinalWahal Why would politicians stop using ...    0.0       0.0   \n",
       "4   @annamalai_k @narendramodi A state level presi...    0.0       0.0   \n",
       "5   @IAMCouncil @POTUS @Ilhan @bridgeinit OK this ...    0.0       0.0   \n",
       "6   @darrengrimes_ Why are pakistani /indian dual ...    0.0       0.0   \n",
       "7   @PeterStefanovi2 Why are pakistani /indian dua...    0.0       0.0   \n",
       "8   Why are pakistani /indian dual nationals allow...    0.0       0.0   \n",
       "9   @BesuraTaansane @KartiPC @PChidambaram_IN The ...    0.0       0.0   \n",
       "10  AmitShah News18 Rising India is a platform tha...    0.0       0.0   \n",
       "11  As someone who is passionate about Indian poli...    0.0       0.0   \n",
       "12  AmitShah News18 Rising India is the\\nplace to ...    0.0       0.0   \n",
       "13  AmitShah News18 Rising India never fails to pr...    0.0       0.0   \n",
       "14  @POTUS Under Biden politics American manufactu...    0.0       0.0   \n",
       "\n",
       "                                   Unprocessed_Tweets           Date&Time  \\\n",
       "0   @vinodkapri @RahulGandhi Respected Indian Citi... 2023-03-29 15:42:36   \n",
       "1   *Respected Indian Citizens,* Namaskaar I Am Th... 2023-03-29 15:42:05   \n",
       "2   1/n-Meet Filmmaker Prakash Jha in New Jersey t... 2023-03-29 15:34:29   \n",
       "3   @MrinalWahal Why would politicians stop using ... 2023-03-29 15:31:43   \n",
       "4   @annamalai_k @narendramodi A state level presi... 2023-03-29 15:26:48   \n",
       "5   @IAMCouncil @POTUS @Ilhan @bridgeinit OK this ... 2023-03-29 15:21:29   \n",
       "6   @darrengrimes_ Why are pakistani /indian dual ... 2023-03-29 15:20:41   \n",
       "7   @PeterStefanovi2 Why are pakistani /indian dua... 2023-03-29 15:20:16   \n",
       "8   Why are pakistani /indian dual nationals allow... 2023-03-29 15:19:44   \n",
       "9   @BesuraTaansane @KartiPC @PChidambaram_IN The ... 2023-03-29 15:19:32   \n",
       "10  AmitShah News18 Rising India is a platform tha... 2023-03-29 15:17:43   \n",
       "11  As someone who is passionate about Indian poli... 2023-03-29 15:17:10   \n",
       "12  AmitShah News18 Rising India is the\\nplace to ... 2023-03-29 15:16:55   \n",
       "13  AmitShah News18 Rising India never fails to pr... 2023-03-29 15:16:36   \n",
       "14  @POTUS Under Biden politics American manufactu... 2023-03-29 15:16:33   \n",
       "\n",
       "    Prcsd_Date  Prcsd_Month  Prcsd_Year  Prcsd_Hour  \\\n",
       "0   2023-03-29            3        2023          15   \n",
       "1   2023-03-29            3        2023          15   \n",
       "2   2023-03-29            3        2023          15   \n",
       "3   2023-03-29            3        2023          15   \n",
       "4   2023-03-29            3        2023          15   \n",
       "5   2023-03-29            3        2023          15   \n",
       "6   2023-03-29            3        2023          15   \n",
       "7   2023-03-29            3        2023          15   \n",
       "8   2023-03-29            3        2023          15   \n",
       "9   2023-03-29            3        2023          15   \n",
       "10  2023-03-29            3        2023          15   \n",
       "11  2023-03-29            3        2023          15   \n",
       "12  2023-03-29            3        2023          15   \n",
       "13  2023-03-29            3        2023          15   \n",
       "14  2023-03-29            3        2023          15   \n",
       "\n",
       "                                        Cleaned_Tweet  Polarity Sentiment  \\\n",
       "0   respected indian citizens namaskaari original ... -0.062500  Negative   \n",
       "1   respected indian citizens namaskaar I original... -0.062500  Negative   \n",
       "2   1 meet filmmaker prakash jha new jersey talkin...  0.173232  Positive   \n",
       "3   would politicians stop using religion politics...  0.000000   Neutral   \n",
       "4   state level president knows policy pm union mi...  0.214286  Positive   \n",
       "5   ok lady issues us poke dirty nose indian polit... -0.033333  Negative   \n",
       "6   pakistani indian dual nationals allowed uk pol...  0.000000   Neutral   \n",
       "7   pakistani indian dual nationals allowed uk pol...  0.000000   Neutral   \n",
       "8   pakistani indian dual nationals allowed uk pol...  0.000000   Neutral   \n",
       "9   problem indian politics politicians n't rememb... -0.111111  Negative   \n",
       "10  amitshah news18 rising india platform showcase...  0.000000   Neutral   \n",
       "11  someone passionate indian politics 'm eager se... -0.025000  Negative   \n",
       "12  amitshah news18 rising india place anyone want...  0.350000  Positive   \n",
       "13  amitshah news18 rising india never fails provi...  0.250000  Positive   \n",
       "14  biden politics american manufacturing industri... -0.143590  Negative   \n",
       "\n",
       "                               Topic  \n",
       "0   Indian Political Issues and News  \n",
       "1   Indian Political Issues and News  \n",
       "2   Indian Political Issues and News  \n",
       "3         Political Parties in India  \n",
       "4         Political Parties in India  \n",
       "5   Indian Political Issues and News  \n",
       "6         Political Parties in India  \n",
       "7         Political Parties in India  \n",
       "8         Political Parties in India  \n",
       "9     Indian Politics and Leadership  \n",
       "10         Indian Cricket and Sports  \n",
       "11         Indian Cricket and Sports  \n",
       "12         Indian Cricket and Sports  \n",
       "13         Indian Cricket and Sports  \n",
       "14  Indian Political Issues and News  "
      ]
     },
     "execution_count": 174,
     "metadata": {},
     "output_type": "execute_result"
    }
   ],
   "source": [
    "# Assign topic labels based on the content\n",
    "topic_labels = {\n",
    "    0: 'Indian Politics and Leadership',\n",
    "    1: 'Political Parties in India',\n",
    "    2: 'Indian Political Issues and News',\n",
    "    3: 'Indian Cricket and Sports'\n",
    "}\n",
    "\n",
    "#Explore Document Topics and assign the dominant topic label to each document\n",
    "dominant_topic_labels = []\n",
    "for doc_topic_distribution in doc_topic_matrix:\n",
    "    dominant_topic = doc_topic_distribution.argmax()\n",
    "    dominant_topic_labels.append(topic_labels[dominant_topic])\n",
    "\n",
    "# Add the \"Topic\" column to your original DataFrame\n",
    "data['Topic'] = dominant_topic_labels\n",
    "data.head(15)"
   ]
  },
  {
   "cell_type": "code",
   "execution_count": 182,
   "id": "6f12dcb6",
   "metadata": {},
   "outputs": [],
   "source": [
    "# Export the DataFrame to a CSV file\n",
    "data.to_csv(\"Final_data.csv\", index=False)"
   ]
  },
  {
   "cell_type": "code",
   "execution_count": 183,
   "id": "955985c6",
   "metadata": {},
   "outputs": [
    {
     "data": {
      "image/png": "[encoded data removed]",
      "text/plain": [
       "<Figure size 1000x700 with 1 Axes>"
      ]
     },
     "metadata": {},
     "output_type": "display_data"
    }
   ],
   "source": [
    "import matplotlib.pyplot as plt\n",
    "import seaborn as sns \n",
    "\n",
    "# Define a color palette for the topics\n",
    "topic_colors = sns.color_palette(\"Set3\", n_colors=len(topic_labels))\n",
    "\n",
    "# Plot the topic distribution\n",
    "topic_counts = data['Topic'].value_counts()\n",
    "plt.figure(figsize=(10, 7))\n",
    "topic_counts.plot(kind='bar', color=topic_colors)  # Use the color palette\n",
    "plt.xlabel('Topics')\n",
    "plt.ylabel('Number of tweets')\n",
    "plt.title('Distribution of tweets Across Topics')\n",
    "plt.xticks(rotation=45)\n",
    "plt.show()"
   ]
  },
  {
   "cell_type": "code",
   "execution_count": 180,
   "id": "5f305bed",
   "metadata": {},
   "outputs": [
    {
     "data": {
      "image/png": "[encoded data removed]",
      "text/plain": [
       "<Figure size 1200x600 with 1 Axes>"
      ]
     },
     "metadata": {},
     "output_type": "display_data"
    }
   ],
   "source": [
    "# Group data by month and topic\n",
    "monthly_topic_counts = data.groupby(['Prcsd_Year', 'Prcsd_Month', 'Topic'])['Tweet'].count().reset_index()\n",
    "\n",
    "# Pivot the data for plotting\n",
    "monthly_topic_pivot = monthly_topic_counts.pivot_table(index=['Prcsd_Year', 'Prcsd_Month'], columns='Topic', values='Tweet', fill_value=0)\n",
    "\n",
    "# Reset the index\n",
    "monthly_topic_pivot.reset_index(inplace=True)\n",
    "\n",
    "# Create a line plot to visualize topic trends over time\n",
    "plt.figure(figsize=(12, 6))\n",
    "sns.lineplot(data=monthly_topic_pivot, x='Prcsd_Month', y='Indian Politics and Leadership', label='Indian Politics and Leadership')\n",
    "sns.lineplot(data=monthly_topic_pivot, x='Prcsd_Month', y='Political Parties in India', label='Political Parties in India')\n",
    "sns.lineplot(data=monthly_topic_pivot, x='Prcsd_Month', y='Indian Political Issues and News', label='Indian Political Issues and News')\n",
    "sns.lineplot(data=monthly_topic_pivot, x='Prcsd_Month', y='Indian Cricket and Sports', label='Indian Cricket and Sports')\n",
    "\n",
    "plt.xlabel('Month')\n",
    "plt.ylabel('Number of Tweets')\n",
    "plt.title('Topic Trends Over Time')\n",
    "plt.legend(title='Topics')\n",
    "plt.show()"
   ]
  }
 ],
 "metadata": {
  "kernelspec": {
   "display_name": "Python 3 (ipykernel)",
   "language": "python",
   "name": "python3"
  },
  "language_info": {
   "codemirror_mode": {
    "name": "ipython",
    "version": 3
   },
   "file_extension": ".py",
   "mimetype": "text/x-python",
   "name": "python",
   "nbconvert_exporter": "python",
   "pygments_lexer": "ipython3",
   "version": "3.9.18"
  }
 },
 "nbformat": 4,
 "nbformat_minor": 5
}
